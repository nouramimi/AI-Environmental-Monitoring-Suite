{
  "nbformat": 4,
  "nbformat_minor": 0,
  "metadata": {
    "colab": {
      "provenance": [],
      "gpuType": "T4"
    },
    "kernelspec": {
      "name": "python3",
      "display_name": "Python 3"
    },
    "language_info": {
      "name": "python"
    },
    "accelerator": "GPU"
  },
  "cells": [
    {
      "cell_type": "code",
      "source": [
        "from google.colab import drive\n",
        "drive.mount('/content/drive')"
      ],
      "metadata": {
        "colab": {
          "base_uri": "https://localhost:8080/"
        },
        "id": "d63qfz8abDvR",
        "outputId": "50439f37-53e3-43c9-aa92-dbbc08031be4"
      },
      "execution_count": 1,
      "outputs": [
        {
          "output_type": "stream",
          "name": "stdout",
          "text": [
            "Mounted at /content/drive\n"
          ]
        }
      ]
    },
    {
      "cell_type": "code",
      "source": [
        "import numpy as np\n",
        "import pandas as pd"
      ],
      "metadata": {
        "id": "NArFS0aUbFJR"
      },
      "execution_count": 2,
      "outputs": []
    },
    {
      "cell_type": "code",
      "source": [
        "!pip install ultralytics"
      ],
      "metadata": {
        "colab": {
          "base_uri": "https://localhost:8080/"
        },
        "id": "cNyrWSFGbiei",
        "outputId": "f4c453eb-6d9d-4832-ddc7-628687466ebd"
      },
      "execution_count": 3,
      "outputs": [
        {
          "output_type": "stream",
          "name": "stdout",
          "text": [
            "Collecting ultralytics\n",
            "  Downloading ultralytics-8.3.69-py3-none-any.whl.metadata (35 kB)\n",
            "Requirement already satisfied: numpy>=1.23.0 in /usr/local/lib/python3.11/dist-packages (from ultralytics) (1.26.4)\n",
            "Requirement already satisfied: matplotlib>=3.3.0 in /usr/local/lib/python3.11/dist-packages (from ultralytics) (3.10.0)\n",
            "Requirement already satisfied: opencv-python>=4.6.0 in /usr/local/lib/python3.11/dist-packages (from ultralytics) (4.10.0.84)\n",
            "Requirement already satisfied: pillow>=7.1.2 in /usr/local/lib/python3.11/dist-packages (from ultralytics) (11.1.0)\n",
            "Requirement already satisfied: pyyaml>=5.3.1 in /usr/local/lib/python3.11/dist-packages (from ultralytics) (6.0.2)\n",
            "Requirement already satisfied: requests>=2.23.0 in /usr/local/lib/python3.11/dist-packages (from ultralytics) (2.32.3)\n",
            "Requirement already satisfied: scipy>=1.4.1 in /usr/local/lib/python3.11/dist-packages (from ultralytics) (1.13.1)\n",
            "Requirement already satisfied: torch>=1.8.0 in /usr/local/lib/python3.11/dist-packages (from ultralytics) (2.5.1+cu121)\n",
            "Requirement already satisfied: torchvision>=0.9.0 in /usr/local/lib/python3.11/dist-packages (from ultralytics) (0.20.1+cu121)\n",
            "Requirement already satisfied: tqdm>=4.64.0 in /usr/local/lib/python3.11/dist-packages (from ultralytics) (4.67.1)\n",
            "Requirement already satisfied: psutil in /usr/local/lib/python3.11/dist-packages (from ultralytics) (5.9.5)\n",
            "Requirement already satisfied: py-cpuinfo in /usr/local/lib/python3.11/dist-packages (from ultralytics) (9.0.0)\n",
            "Requirement already satisfied: pandas>=1.1.4 in /usr/local/lib/python3.11/dist-packages (from ultralytics) (2.2.2)\n",
            "Requirement already satisfied: seaborn>=0.11.0 in /usr/local/lib/python3.11/dist-packages (from ultralytics) (0.13.2)\n",
            "Collecting ultralytics-thop>=2.0.0 (from ultralytics)\n",
            "  Downloading ultralytics_thop-2.0.14-py3-none-any.whl.metadata (9.4 kB)\n",
            "Requirement already satisfied: contourpy>=1.0.1 in /usr/local/lib/python3.11/dist-packages (from matplotlib>=3.3.0->ultralytics) (1.3.1)\n",
            "Requirement already satisfied: cycler>=0.10 in /usr/local/lib/python3.11/dist-packages (from matplotlib>=3.3.0->ultralytics) (0.12.1)\n",
            "Requirement already satisfied: fonttools>=4.22.0 in /usr/local/lib/python3.11/dist-packages (from matplotlib>=3.3.0->ultralytics) (4.55.6)\n",
            "Requirement already satisfied: kiwisolver>=1.3.1 in /usr/local/lib/python3.11/dist-packages (from matplotlib>=3.3.0->ultralytics) (1.4.8)\n",
            "Requirement already satisfied: packaging>=20.0 in /usr/local/lib/python3.11/dist-packages (from matplotlib>=3.3.0->ultralytics) (24.2)\n",
            "Requirement already satisfied: pyparsing>=2.3.1 in /usr/local/lib/python3.11/dist-packages (from matplotlib>=3.3.0->ultralytics) (3.2.1)\n",
            "Requirement already satisfied: python-dateutil>=2.7 in /usr/local/lib/python3.11/dist-packages (from matplotlib>=3.3.0->ultralytics) (2.8.2)\n",
            "Requirement already satisfied: pytz>=2020.1 in /usr/local/lib/python3.11/dist-packages (from pandas>=1.1.4->ultralytics) (2024.2)\n",
            "Requirement already satisfied: tzdata>=2022.7 in /usr/local/lib/python3.11/dist-packages (from pandas>=1.1.4->ultralytics) (2025.1)\n",
            "Requirement already satisfied: charset-normalizer<4,>=2 in /usr/local/lib/python3.11/dist-packages (from requests>=2.23.0->ultralytics) (3.4.1)\n",
            "Requirement already satisfied: idna<4,>=2.5 in /usr/local/lib/python3.11/dist-packages (from requests>=2.23.0->ultralytics) (3.10)\n",
            "Requirement already satisfied: urllib3<3,>=1.21.1 in /usr/local/lib/python3.11/dist-packages (from requests>=2.23.0->ultralytics) (2.3.0)\n",
            "Requirement already satisfied: certifi>=2017.4.17 in /usr/local/lib/python3.11/dist-packages (from requests>=2.23.0->ultralytics) (2024.12.14)\n",
            "Requirement already satisfied: filelock in /usr/local/lib/python3.11/dist-packages (from torch>=1.8.0->ultralytics) (3.17.0)\n",
            "Requirement already satisfied: typing-extensions>=4.8.0 in /usr/local/lib/python3.11/dist-packages (from torch>=1.8.0->ultralytics) (4.12.2)\n",
            "Requirement already satisfied: networkx in /usr/local/lib/python3.11/dist-packages (from torch>=1.8.0->ultralytics) (3.4.2)\n",
            "Requirement already satisfied: jinja2 in /usr/local/lib/python3.11/dist-packages (from torch>=1.8.0->ultralytics) (3.1.5)\n",
            "Requirement already satisfied: fsspec in /usr/local/lib/python3.11/dist-packages (from torch>=1.8.0->ultralytics) (2024.10.0)\n",
            "Requirement already satisfied: nvidia-cuda-nvrtc-cu12==12.1.105 in /usr/local/lib/python3.11/dist-packages (from torch>=1.8.0->ultralytics) (12.1.105)\n",
            "Requirement already satisfied: nvidia-cuda-runtime-cu12==12.1.105 in /usr/local/lib/python3.11/dist-packages (from torch>=1.8.0->ultralytics) (12.1.105)\n",
            "Requirement already satisfied: nvidia-cuda-cupti-cu12==12.1.105 in /usr/local/lib/python3.11/dist-packages (from torch>=1.8.0->ultralytics) (12.1.105)\n",
            "Requirement already satisfied: nvidia-cudnn-cu12==9.1.0.70 in /usr/local/lib/python3.11/dist-packages (from torch>=1.8.0->ultralytics) (9.1.0.70)\n",
            "Requirement already satisfied: nvidia-cublas-cu12==12.1.3.1 in /usr/local/lib/python3.11/dist-packages (from torch>=1.8.0->ultralytics) (12.1.3.1)\n",
            "Requirement already satisfied: nvidia-cufft-cu12==11.0.2.54 in /usr/local/lib/python3.11/dist-packages (from torch>=1.8.0->ultralytics) (11.0.2.54)\n",
            "Requirement already satisfied: nvidia-curand-cu12==10.3.2.106 in /usr/local/lib/python3.11/dist-packages (from torch>=1.8.0->ultralytics) (10.3.2.106)\n",
            "Requirement already satisfied: nvidia-cusolver-cu12==11.4.5.107 in /usr/local/lib/python3.11/dist-packages (from torch>=1.8.0->ultralytics) (11.4.5.107)\n",
            "Requirement already satisfied: nvidia-cusparse-cu12==12.1.0.106 in /usr/local/lib/python3.11/dist-packages (from torch>=1.8.0->ultralytics) (12.1.0.106)\n",
            "Requirement already satisfied: nvidia-nccl-cu12==2.21.5 in /usr/local/lib/python3.11/dist-packages (from torch>=1.8.0->ultralytics) (2.21.5)\n",
            "Requirement already satisfied: nvidia-nvtx-cu12==12.1.105 in /usr/local/lib/python3.11/dist-packages (from torch>=1.8.0->ultralytics) (12.1.105)\n",
            "Requirement already satisfied: triton==3.1.0 in /usr/local/lib/python3.11/dist-packages (from torch>=1.8.0->ultralytics) (3.1.0)\n",
            "Requirement already satisfied: sympy==1.13.1 in /usr/local/lib/python3.11/dist-packages (from torch>=1.8.0->ultralytics) (1.13.1)\n",
            "Requirement already satisfied: nvidia-nvjitlink-cu12 in /usr/local/lib/python3.11/dist-packages (from nvidia-cusolver-cu12==11.4.5.107->torch>=1.8.0->ultralytics) (12.8.61)\n",
            "Requirement already satisfied: mpmath<1.4,>=1.1.0 in /usr/local/lib/python3.11/dist-packages (from sympy==1.13.1->torch>=1.8.0->ultralytics) (1.3.0)\n",
            "Requirement already satisfied: six>=1.5 in /usr/local/lib/python3.11/dist-packages (from python-dateutil>=2.7->matplotlib>=3.3.0->ultralytics) (1.17.0)\n",
            "Requirement already satisfied: MarkupSafe>=2.0 in /usr/local/lib/python3.11/dist-packages (from jinja2->torch>=1.8.0->ultralytics) (3.0.2)\n",
            "Downloading ultralytics-8.3.69-py3-none-any.whl (914 kB)\n",
            "\u001b[2K   \u001b[90m━━━━━━━━━━━━━━━━━━━━━━━━━━━━━━━━━━━━━━━━\u001b[0m \u001b[32m914.6/914.6 kB\u001b[0m \u001b[31m20.3 MB/s\u001b[0m eta \u001b[36m0:00:00\u001b[0m\n",
            "\u001b[?25hDownloading ultralytics_thop-2.0.14-py3-none-any.whl (26 kB)\n",
            "Installing collected packages: ultralytics-thop, ultralytics\n",
            "Successfully installed ultralytics-8.3.69 ultralytics-thop-2.0.14\n"
          ]
        }
      ]
    },
    {
      "cell_type": "code",
      "source": [
        "!unzip /content/drive/MyDrive/FireDetection/fire-smoke-detection.v2-v2.yolov8.zip"
      ],
      "metadata": {
        "colab": {
          "base_uri": "https://localhost:8080/"
        },
        "collapsed": true,
        "id": "B4EUHWT3OVOe",
        "outputId": "bd33f724-2364-4948-a24c-927592cb2f8e"
      },
      "execution_count": 4,
      "outputs": [
        {
          "output_type": "stream",
          "name": "stdout",
          "text": [
            "Archive:  /content/drive/MyDrive/FireDetection/fire-smoke-detection.v2-v2.yolov8.zip\n",
            " extracting: README.dataset.txt      \n",
            " extracting: README.roboflow.txt     \n",
            " extracting: data.yaml               \n",
            "   creating: test/\n",
            "   creating: test/images/\n",
            " extracting: test/images/image_108_jpg.rf.d51fd6d7c5e64fdc2464412c20657227.jpg  \n",
            " extracting: test/images/image_10_jpg.rf.dc07fca974f159f1a846f5a8b012bd1c.jpg  \n",
            " extracting: test/images/image_128_jpg.rf.876276213683135a0ebacee3150f132d.jpg  \n",
            " extracting: test/images/image_148_jpg.rf.aef43e63791522e21bde6312ab2d83ab.jpg  \n",
            " extracting: test/images/image_162_jpg.rf.f6948816232d3af6ae990f478dc54981.jpg  \n",
            " extracting: test/images/image_181_jpg.rf.e8a62acc26ac89e0a577944c9387c0ce.jpg  \n",
            " extracting: test/images/image_184_jpg.rf.94ffc39b32035d0d4803e0fb874ac924.jpg  \n",
            " extracting: test/images/image_185_jpg.rf.d03256f3435f06d7db68cece9a08c636.jpg  \n",
            " extracting: test/images/image_186_jpg.rf.4d9625c4024ad6419d265541b3641686.jpg  \n",
            " extracting: test/images/image_194_jpg.rf.5db2ffb86b4104f598adcc2bdecfad46.jpg  \n",
            " extracting: test/images/image_196_jpg.rf.cf72db509bfe4007271bb53301c836b9.jpg  \n",
            " extracting: test/images/image_202_jpg.rf.29df2bfe196113d583ec5d35873967b9.jpg  \n",
            " extracting: test/images/image_206_jpg.rf.8afa17861fc81e7940a7f20aba8ed377.jpg  \n",
            " extracting: test/images/image_248_jpg.rf.8cd1deb5671c3dbeba4cb15323fc2ac7.jpg  \n",
            " extracting: test/images/image_256_jpg.rf.b6f9a52fde3c81ff4ea5e2735205bc07.jpg  \n",
            " extracting: test/images/image_261_jpg.rf.8332eb9f453b288942e2a385bc95cbd7.jpg  \n",
            " extracting: test/images/image_273_jpg.rf.71b41043aa57ea17667ea9c3cc5925f3.jpg  \n",
            " extracting: test/images/image_314_jpg.rf.72c1ed9e337d0fb4b4d2aea1fc74313e.jpg  \n",
            " extracting: test/images/image_349_jpg.rf.314f8313d388d8318f78f3dd257a9718.jpg  \n",
            " extracting: test/images/image_355_jpg.rf.8d09e9cb6cb0f0adcdf4ed85dbf436b4.jpg  \n",
            " extracting: test/images/image_35_jpg.rf.02643e59426796ee96bd75908e021a81.jpg  \n",
            " extracting: test/images/image_364_jpg.rf.61b6808ab826a4e677166ecb688c0256.jpg  \n",
            " extracting: test/images/image_366_jpg.rf.0a70c7c36ff53329008614d03835cb0b.jpg  \n",
            " extracting: test/images/image_385_jpg.rf.adc51bce2f7cc827b06c4ca5048f49ca.jpg  \n",
            " extracting: test/images/image_393_jpg.rf.048b3724118614a76201909662ff89bf.jpg  \n",
            " extracting: test/images/image_415_jpg.rf.b1da5d594de3940f7d23b622ee672246.jpg  \n",
            " extracting: test/images/image_416_jpg.rf.ba4de7118692e580842310656e238aba.jpg  \n",
            " extracting: test/images/image_428_jpg.rf.9b6840375f399ea49859f090506c370a.jpg  \n",
            " extracting: test/images/image_436_jpg.rf.6dfeae01a4665d1bdd3e46c8884540d0.jpg  \n",
            " extracting: test/images/image_442_jpg.rf.ed38e1215b55b4cf4acaad5e8cd6309a.jpg  \n",
            " extracting: test/images/image_461_jpg.rf.e1535f0bdbd2ec89f8c02d1b04a68d4d.jpg  \n",
            " extracting: test/images/image_465_jpg.rf.b34c79f8c2c15f8b40960ebd3fd97cc0.jpg  \n",
            " extracting: test/images/image_469_jpg.rf.cfa385f53302704deab8a7cc444ffc37.jpg  \n",
            " extracting: test/images/image_472_jpg.rf.ad12325eea4ec0dbb36ac8bb3e572c5b.jpg  \n",
            " extracting: test/images/image_47_jpg.rf.a6ca13698a7c07611ebd57aad7af2562.jpg  \n",
            " extracting: test/images/image_483_jpg.rf.72c5587273d3945b402bde7e20ab5895.jpg  \n",
            " extracting: test/images/image_484_jpg.rf.0ddbe4423ae9675a289ed466cb0c07aa.jpg  \n",
            " extracting: test/images/image_498_jpg.rf.26758f0b4b5b8ebe272d32a348dc121a.jpg  \n",
            " extracting: test/images/image_49_jpg.rf.e20a081dc2d57517d05af8f243a92d4d.jpg  \n",
            " extracting: test/images/image_520_jpg.rf.51824d313e08f1f4580ce454eba56887.jpg  \n",
            " extracting: test/images/image_522_jpg.rf.1b28e06f9e432262ee35ad2830b61c2f.jpg  \n",
            " extracting: test/images/image_532_jpg.rf.d52d737d16f4c8d1e2799a35a2c97deb.jpg  \n",
            " extracting: test/images/image_53_jpg.rf.bb3f4715befa6177ec2456a97987005c.jpg  \n",
            " extracting: test/images/image_54_jpg.rf.a943760a90fe6486198e88e005047cf8.jpg  \n",
            " extracting: test/images/image_551_jpg.rf.d838980b913df93dee393acc1d441801.jpg  \n",
            " extracting: test/images/image_553_jpg.rf.1ce974b84f77977d798db67337f007fd.jpg  \n",
            " extracting: test/images/image_574_jpg.rf.5b0a535ce2b34a1c1849143ed966c87a.jpg  \n",
            " extracting: test/images/image_575_jpg.rf.580968e1c5a164c0c025403c3fb0de90.jpg  \n",
            " extracting: test/images/image_581_jpg.rf.93c5bbd4ea7bf57789af0c74fb778f20.jpg  \n",
            " extracting: test/images/image_586_jpg.rf.2d7f70e3be573171b7610449ed4da29a.jpg  \n",
            " extracting: test/images/image_587_jpg.rf.cb388788640a08c585ade622c63682ff.jpg  \n",
            " extracting: test/images/image_594_jpg.rf.daf9db36eb81cfc71dedbeed929cb4c6.jpg  \n",
            " extracting: test/images/image_606_jpg.rf.04fdee61e7c3e96fcee1c38e6f1487a3.jpg  \n",
            " extracting: test/images/image_613_jpg.rf.d45fccc9e6f17e96d1891969c7c0ba34.jpg  \n",
            " extracting: test/images/image_619_jpg.rf.422d4cbc7242da19dbb642e83bf47116.jpg  \n",
            " extracting: test/images/image_62_jpg.rf.223bd2dd3fdb6d1a9902aa04a7114d86.jpg  \n",
            " extracting: test/images/image_633_jpg.rf.b95b8961a3923c404e62e7106e1d9670.jpg  \n",
            " extracting: test/images/image_649_jpg.rf.d0223d985e7e698eb1cc5aa6697ecef3.jpg  \n",
            " extracting: test/images/image_657_jpg.rf.47ea543926ace4b371107feda502382e.jpg  \n",
            " extracting: test/images/image_682_jpg.rf.e052744369bf7f81bcba2f22866dc751.jpg  \n",
            " extracting: test/images/image_684_jpg.rf.64f70e12c72cb2f478a4f28af9643a69.jpg  \n",
            " extracting: test/images/image_68_jpg.rf.ea0e3a035809d7b0062cfd6592772f91.jpg  \n",
            " extracting: test/images/image_6_jpg.rf.31d1a06260f19252ecf9a97ea7692c50.jpg  \n",
            " extracting: test/images/image_705_jpg.rf.ea7ee9fe5142eff7fc5267b0005c5d85.jpg  \n",
            " extracting: test/images/image_709_jpg.rf.301cfa4ef8aaeff8101576e81c40c057.jpg  \n",
            " extracting: test/images/image_710_jpg.rf.8e9463458200e36ddaa222433130047d.jpg  \n",
            " extracting: test/images/image_711_jpg.rf.49296bb90d1f7f6dac1823fb06e3d112.jpg  \n",
            " extracting: test/images/image_719_jpg.rf.9b851178650752144e9ba90c58bd139b.jpg  \n",
            " extracting: test/images/image_722_jpg.rf.36af038eea49c95fc3476ee0d99faa45.jpg  \n",
            " extracting: test/images/image_724_jpg.rf.895def3e0b0a26bf0e19150f335869ed.jpg  \n",
            " extracting: test/images/image_732_jpg.rf.c87d976c35fbf273ac2c051ee124c3a4.jpg  \n",
            " extracting: test/images/image_733_jpg.rf.4fd669420fb886abc04994f60752fe18.jpg  \n",
            " extracting: test/images/image_748_jpg.rf.329f91b89060f33e547a53df07c8b481.jpg  \n",
            " extracting: test/images/image_750_jpg.rf.f2835e5f3781a29341ff4cac04b81e00.jpg  \n",
            " extracting: test/images/image_782_jpg.rf.7017fe724f5e3c92cf8f63ede77d2b48.jpg  \n",
            " extracting: test/images/image_808_jpg.rf.3c9c14b7561c71195a56867b4a86c439.jpg  \n",
            " extracting: test/images/image_816_jpg.rf.e764e970b58a63c82de3be1a32bd7f4b.jpg  \n",
            " extracting: test/images/image_817_jpg.rf.21ca84b79ae81b270b4203b8685f025f.jpg  \n",
            " extracting: test/images/image_826_jpg.rf.a988d5d5b7f3c386dcb18239fb15b54c.jpg  \n",
            " extracting: test/images/image_839_jpg.rf.b1eaa0f13e6c15cc6db02f9b2d99c37b.jpg  \n",
            " extracting: test/images/image_855_jpg.rf.dd0704405f0c6ad1ad5f242e9bd85ea3.jpg  \n",
            " extracting: test/images/image_865_jpg.rf.1c91d07b35937ee8357dd4f5d63e3634.jpg  \n",
            " extracting: test/images/image_885_jpg.rf.6772b86342d2158730c9e32392e926aa.jpg  \n",
            " extracting: test/images/image_888_jpg.rf.c978b58a18b2a72a2f43c04d7a9a01a4.jpg  \n",
            " extracting: test/images/image_894_jpg.rf.241232e83339f11e77bb04b9b6b162d2.jpg  \n",
            "   creating: test/labels/\n",
            " extracting: test/labels/image_108_jpg.rf.d51fd6d7c5e64fdc2464412c20657227.txt  \n",
            " extracting: test/labels/image_10_jpg.rf.dc07fca974f159f1a846f5a8b012bd1c.txt  \n",
            " extracting: test/labels/image_128_jpg.rf.876276213683135a0ebacee3150f132d.txt  \n",
            " extracting: test/labels/image_148_jpg.rf.aef43e63791522e21bde6312ab2d83ab.txt  \n",
            " extracting: test/labels/image_162_jpg.rf.f6948816232d3af6ae990f478dc54981.txt  \n",
            " extracting: test/labels/image_181_jpg.rf.e8a62acc26ac89e0a577944c9387c0ce.txt  \n",
            " extracting: test/labels/image_184_jpg.rf.94ffc39b32035d0d4803e0fb874ac924.txt  \n",
            " extracting: test/labels/image_185_jpg.rf.d03256f3435f06d7db68cece9a08c636.txt  \n",
            " extracting: test/labels/image_186_jpg.rf.4d9625c4024ad6419d265541b3641686.txt  \n",
            " extracting: test/labels/image_194_jpg.rf.5db2ffb86b4104f598adcc2bdecfad46.txt  \n",
            " extracting: test/labels/image_196_jpg.rf.cf72db509bfe4007271bb53301c836b9.txt  \n",
            " extracting: test/labels/image_202_jpg.rf.29df2bfe196113d583ec5d35873967b9.txt  \n",
            " extracting: test/labels/image_206_jpg.rf.8afa17861fc81e7940a7f20aba8ed377.txt  \n",
            " extracting: test/labels/image_248_jpg.rf.8cd1deb5671c3dbeba4cb15323fc2ac7.txt  \n",
            " extracting: test/labels/image_256_jpg.rf.b6f9a52fde3c81ff4ea5e2735205bc07.txt  \n",
            " extracting: test/labels/image_261_jpg.rf.8332eb9f453b288942e2a385bc95cbd7.txt  \n",
            " extracting: test/labels/image_273_jpg.rf.71b41043aa57ea17667ea9c3cc5925f3.txt  \n",
            " extracting: test/labels/image_314_jpg.rf.72c1ed9e337d0fb4b4d2aea1fc74313e.txt  \n",
            " extracting: test/labels/image_349_jpg.rf.314f8313d388d8318f78f3dd257a9718.txt  \n",
            " extracting: test/labels/image_355_jpg.rf.8d09e9cb6cb0f0adcdf4ed85dbf436b4.txt  \n",
            " extracting: test/labels/image_35_jpg.rf.02643e59426796ee96bd75908e021a81.txt  \n",
            " extracting: test/labels/image_364_jpg.rf.61b6808ab826a4e677166ecb688c0256.txt  \n",
            " extracting: test/labels/image_366_jpg.rf.0a70c7c36ff53329008614d03835cb0b.txt  \n",
            " extracting: test/labels/image_385_jpg.rf.adc51bce2f7cc827b06c4ca5048f49ca.txt  \n",
            " extracting: test/labels/image_393_jpg.rf.048b3724118614a76201909662ff89bf.txt  \n",
            " extracting: test/labels/image_415_jpg.rf.b1da5d594de3940f7d23b622ee672246.txt  \n",
            " extracting: test/labels/image_416_jpg.rf.ba4de7118692e580842310656e238aba.txt  \n",
            " extracting: test/labels/image_428_jpg.rf.9b6840375f399ea49859f090506c370a.txt  \n",
            " extracting: test/labels/image_436_jpg.rf.6dfeae01a4665d1bdd3e46c8884540d0.txt  \n",
            " extracting: test/labels/image_442_jpg.rf.ed38e1215b55b4cf4acaad5e8cd6309a.txt  \n",
            " extracting: test/labels/image_461_jpg.rf.e1535f0bdbd2ec89f8c02d1b04a68d4d.txt  \n",
            " extracting: test/labels/image_465_jpg.rf.b34c79f8c2c15f8b40960ebd3fd97cc0.txt  \n",
            " extracting: test/labels/image_469_jpg.rf.cfa385f53302704deab8a7cc444ffc37.txt  \n",
            " extracting: test/labels/image_472_jpg.rf.ad12325eea4ec0dbb36ac8bb3e572c5b.txt  \n",
            " extracting: test/labels/image_47_jpg.rf.a6ca13698a7c07611ebd57aad7af2562.txt  \n",
            " extracting: test/labels/image_483_jpg.rf.72c5587273d3945b402bde7e20ab5895.txt  \n",
            " extracting: test/labels/image_484_jpg.rf.0ddbe4423ae9675a289ed466cb0c07aa.txt  \n",
            " extracting: test/labels/image_498_jpg.rf.26758f0b4b5b8ebe272d32a348dc121a.txt  \n",
            " extracting: test/labels/image_49_jpg.rf.e20a081dc2d57517d05af8f243a92d4d.txt  \n",
            " extracting: test/labels/image_520_jpg.rf.51824d313e08f1f4580ce454eba56887.txt  \n",
            " extracting: test/labels/image_522_jpg.rf.1b28e06f9e432262ee35ad2830b61c2f.txt  \n",
            " extracting: test/labels/image_532_jpg.rf.d52d737d16f4c8d1e2799a35a2c97deb.txt  \n",
            " extracting: test/labels/image_53_jpg.rf.bb3f4715befa6177ec2456a97987005c.txt  \n",
            " extracting: test/labels/image_54_jpg.rf.a943760a90fe6486198e88e005047cf8.txt  \n",
            " extracting: test/labels/image_551_jpg.rf.d838980b913df93dee393acc1d441801.txt  \n",
            " extracting: test/labels/image_553_jpg.rf.1ce974b84f77977d798db67337f007fd.txt  \n",
            " extracting: test/labels/image_574_jpg.rf.5b0a535ce2b34a1c1849143ed966c87a.txt  \n",
            " extracting: test/labels/image_575_jpg.rf.580968e1c5a164c0c025403c3fb0de90.txt  \n",
            " extracting: test/labels/image_581_jpg.rf.93c5bbd4ea7bf57789af0c74fb778f20.txt  \n",
            " extracting: test/labels/image_586_jpg.rf.2d7f70e3be573171b7610449ed4da29a.txt  \n",
            " extracting: test/labels/image_587_jpg.rf.cb388788640a08c585ade622c63682ff.txt  \n",
            " extracting: test/labels/image_594_jpg.rf.daf9db36eb81cfc71dedbeed929cb4c6.txt  \n",
            " extracting: test/labels/image_606_jpg.rf.04fdee61e7c3e96fcee1c38e6f1487a3.txt  \n",
            " extracting: test/labels/image_613_jpg.rf.d45fccc9e6f17e96d1891969c7c0ba34.txt  \n",
            " extracting: test/labels/image_619_jpg.rf.422d4cbc7242da19dbb642e83bf47116.txt  \n",
            " extracting: test/labels/image_62_jpg.rf.223bd2dd3fdb6d1a9902aa04a7114d86.txt  \n",
            " extracting: test/labels/image_633_jpg.rf.b95b8961a3923c404e62e7106e1d9670.txt  \n",
            " extracting: test/labels/image_649_jpg.rf.d0223d985e7e698eb1cc5aa6697ecef3.txt  \n",
            " extracting: test/labels/image_657_jpg.rf.47ea543926ace4b371107feda502382e.txt  \n",
            " extracting: test/labels/image_682_jpg.rf.e052744369bf7f81bcba2f22866dc751.txt  \n",
            " extracting: test/labels/image_684_jpg.rf.64f70e12c72cb2f478a4f28af9643a69.txt  \n",
            " extracting: test/labels/image_68_jpg.rf.ea0e3a035809d7b0062cfd6592772f91.txt  \n",
            " extracting: test/labels/image_6_jpg.rf.31d1a06260f19252ecf9a97ea7692c50.txt  \n",
            " extracting: test/labels/image_705_jpg.rf.ea7ee9fe5142eff7fc5267b0005c5d85.txt  \n",
            " extracting: test/labels/image_709_jpg.rf.301cfa4ef8aaeff8101576e81c40c057.txt  \n",
            " extracting: test/labels/image_710_jpg.rf.8e9463458200e36ddaa222433130047d.txt  \n",
            " extracting: test/labels/image_711_jpg.rf.49296bb90d1f7f6dac1823fb06e3d112.txt  \n",
            " extracting: test/labels/image_719_jpg.rf.9b851178650752144e9ba90c58bd139b.txt  \n",
            " extracting: test/labels/image_722_jpg.rf.36af038eea49c95fc3476ee0d99faa45.txt  \n",
            " extracting: test/labels/image_724_jpg.rf.895def3e0b0a26bf0e19150f335869ed.txt  \n",
            " extracting: test/labels/image_732_jpg.rf.c87d976c35fbf273ac2c051ee124c3a4.txt  \n",
            " extracting: test/labels/image_733_jpg.rf.4fd669420fb886abc04994f60752fe18.txt  \n",
            " extracting: test/labels/image_748_jpg.rf.329f91b89060f33e547a53df07c8b481.txt  \n",
            " extracting: test/labels/image_750_jpg.rf.f2835e5f3781a29341ff4cac04b81e00.txt  \n",
            " extracting: test/labels/image_782_jpg.rf.7017fe724f5e3c92cf8f63ede77d2b48.txt  \n",
            " extracting: test/labels/image_808_jpg.rf.3c9c14b7561c71195a56867b4a86c439.txt  \n",
            " extracting: test/labels/image_816_jpg.rf.e764e970b58a63c82de3be1a32bd7f4b.txt  \n",
            " extracting: test/labels/image_817_jpg.rf.21ca84b79ae81b270b4203b8685f025f.txt  \n",
            " extracting: test/labels/image_826_jpg.rf.a988d5d5b7f3c386dcb18239fb15b54c.txt  \n",
            " extracting: test/labels/image_839_jpg.rf.b1eaa0f13e6c15cc6db02f9b2d99c37b.txt  \n",
            " extracting: test/labels/image_855_jpg.rf.dd0704405f0c6ad1ad5f242e9bd85ea3.txt  \n",
            " extracting: test/labels/image_865_jpg.rf.1c91d07b35937ee8357dd4f5d63e3634.txt  \n",
            " extracting: test/labels/image_885_jpg.rf.6772b86342d2158730c9e32392e926aa.txt  \n",
            " extracting: test/labels/image_888_jpg.rf.c978b58a18b2a72a2f43c04d7a9a01a4.txt  \n",
            " extracting: test/labels/image_894_jpg.rf.241232e83339f11e77bb04b9b6b162d2.txt  \n",
            "   creating: train/\n",
            "   creating: train/images/\n",
            " extracting: train/images/image_0_jpg.rf.112de57bb6ea96651502a245b1d028e6.jpg  \n",
            " extracting: train/images/image_100_jpg.rf.b42f2959d385b83c38544f260608c50f.jpg  \n",
            " extracting: train/images/image_101_jpg.rf.a788abb8339575e18b858f45f3dc5595.jpg  \n",
            " extracting: train/images/image_102_jpg.rf.c484e4b2108b2b756564dfa87d393425.jpg  \n",
            " extracting: train/images/image_106_jpg.rf.fde8df5080bd47861ab4f4141a5527c4.jpg  \n",
            " extracting: train/images/image_107_jpg.rf.a4b1ecef3a9a56348d29193c5b43ae09.jpg  \n",
            " extracting: train/images/image_110_jpg.rf.82f9ca131e6df9f745fd4f2b63f48cf3.jpg  \n",
            " extracting: train/images/image_111_jpg.rf.3914a34203766b32ba48fee5e6d9ce68.jpg  \n",
            " extracting: train/images/image_112_jpg.rf.96e08f83b8490f529ae2d1750d2b158c.jpg  \n",
            " extracting: train/images/image_113_jpg.rf.ef68a523bfef2c10049fc2a8cb817a30.jpg  \n",
            " extracting: train/images/image_117_jpg.rf.f66d995404f4695b53390fb79efef0a9.jpg  \n",
            " extracting: train/images/image_119_jpg.rf.a4b1b26348f84b67e13cb576482c0bf7.jpg  \n",
            " extracting: train/images/image_11_jpg.rf.77d0b5324b39e2acefc3090ffb1f2a87.jpg  \n",
            " extracting: train/images/image_121_jpg.rf.c39f9269dd3f4351108e999788d72775.jpg  \n",
            " extracting: train/images/image_122_jpg.rf.b28f08a2d47f4298c4f6aeefdd9aa99a.jpg  \n",
            " extracting: train/images/image_124_jpg.rf.66e254de124970d6bbf00f4edf238ebd.jpg  \n",
            " extracting: train/images/image_125_jpg.rf.a79c1360a4a5a6302ea510a39b0c3d9c.jpg  \n",
            " extracting: train/images/image_126_jpg.rf.60766d241c5b77ae81fe221fed0fca12.jpg  \n",
            " extracting: train/images/image_129_jpg.rf.f5a0f747c431a5171ac61e14472cea04.jpg  \n",
            " extracting: train/images/image_130_jpg.rf.97fa7bccd70ac03875442f8c3b8a2c33.jpg  \n",
            " extracting: train/images/image_131_jpg.rf.65e84b15fbf3f205cee463cf0e005efc.jpg  \n",
            " extracting: train/images/image_132_jpg.rf.f147787e7d54bcc5fd1de439d919f804.jpg  \n",
            " extracting: train/images/image_134_jpg.rf.57e4530d81fad021244fc17fb693019f.jpg  \n",
            " extracting: train/images/image_137_jpg.rf.d66d81a3d09d6606f57bae4e41532dce.jpg  \n",
            " extracting: train/images/image_139_jpg.rf.2190e4201c5c21f43b61dbfc2545c7b2.jpg  \n",
            " extracting: train/images/image_13_jpg.rf.7924903d6745cc970b442b37c54869ac.jpg  \n",
            " extracting: train/images/image_141_jpg.rf.85d36c21e0903ffa6dbbe996a0e8cc2f.jpg  \n",
            " extracting: train/images/image_142_jpg.rf.ed1e3ad4db51b6383d7b400528cf01cb.jpg  \n",
            " extracting: train/images/image_146_jpg.rf.8582bb5a014f87875b28587fddeb7034.jpg  \n",
            " extracting: train/images/image_147_jpg.rf.131ba596f7e6d8a4df5aa4c1618327fe.jpg  \n",
            " extracting: train/images/image_149_jpg.rf.f24d527bb47b426343e7cac6020ac867.jpg  \n",
            " extracting: train/images/image_14_jpg.rf.e47aa22a5a13bb21d70e15e2d4c2fcd6.jpg  \n",
            " extracting: train/images/image_152_jpg.rf.fdc66b15720d9f0ea0e99305eec1959a.jpg  \n",
            " extracting: train/images/image_153_jpg.rf.c8b955db2719e76c166b40222c9ee5eb.jpg  \n",
            " extracting: train/images/image_155_jpg.rf.e446deb333bf9b8ffecb45042343881e.jpg  \n",
            " extracting: train/images/image_156_jpg.rf.f6449ace0220c41162d8b544d42f6d89.jpg  \n",
            " extracting: train/images/image_157_jpg.rf.0de1721fa7ce5c44228ae09b62c47282.jpg  \n",
            " extracting: train/images/image_159_jpg.rf.3d6c7d62158e4eaf956e8b9ad997ef28.jpg  \n",
            " extracting: train/images/image_15_jpg.rf.cfbd7d1301d8269a2fd5a03a0fa6ed70.jpg  \n",
            " extracting: train/images/image_160_jpg.rf.40059e0d9cfddc7c449ed5c8e4b62c0c.jpg  \n",
            " extracting: train/images/image_163_jpg.rf.c91cd7de4ec7eadf341e8ade8ac5888a.jpg  \n",
            " extracting: train/images/image_164_jpg.rf.9740247e1ae1bbd1d244be7d52992d0e.jpg  \n",
            " extracting: train/images/image_165_jpg.rf.69cf2822e44113f240181df601b93010.jpg  \n",
            " extracting: train/images/image_166_jpg.rf.45974318a5651ee4500afdfee2fc0f50.jpg  \n",
            " extracting: train/images/image_167_jpg.rf.89c0bff7d4dcdcbe0436671cedbe13ed.jpg  \n",
            " extracting: train/images/image_169_jpg.rf.16e062fa76158af8e1f08730c91c17cc.jpg  \n",
            " extracting: train/images/image_16_jpg.rf.3799264dcde096ff8a04af5d098df4d3.jpg  \n",
            " extracting: train/images/image_170_jpg.rf.c3962018032f5c5359e7ab21accf5a18.jpg  \n",
            " extracting: train/images/image_171_jpg.rf.6a5e82b03462f7ff009edb276e1c2c0e.jpg  \n",
            " extracting: train/images/image_173_jpg.rf.356a5537d0d340c70f8c01f2b2d20d63.jpg  \n",
            " extracting: train/images/image_174_jpg.rf.5882835e8b30d049a02efb9665b35fe7.jpg  \n",
            " extracting: train/images/image_175_jpg.rf.c3c2decd4a6eb378a9f08dd75542aaac.jpg  \n",
            " extracting: train/images/image_176_jpg.rf.ef5de6de7661cdda256b601ebadaa09e.jpg  \n",
            " extracting: train/images/image_177_jpg.rf.717fc6f7606eae51c2b05b71ef00ca77.jpg  \n",
            " extracting: train/images/image_178_jpg.rf.b25416b0965877b07fd984a4ee05ce7c.jpg  \n",
            " extracting: train/images/image_179_jpg.rf.72aeb0eec8e6713f0fee7a10deaa9ebb.jpg  \n",
            " extracting: train/images/image_183_jpg.rf.5fccbbd80018b8cc40bfe2481f64dcc5.jpg  \n",
            " extracting: train/images/image_188_jpg.rf.bda4753d9d9257be4920b1422fc770c6.jpg  \n",
            " extracting: train/images/image_189_jpg.rf.3f3a8635e62e2fdbc6e609ff1754eaa8.jpg  \n",
            " extracting: train/images/image_18_jpg.rf.8a9eb1a431a4eb4e7d3b82259ad4f2b5.jpg  \n",
            " extracting: train/images/image_190_jpg.rf.b6736c2287e6ed3c515892f570759e58.jpg  \n",
            " extracting: train/images/image_193_jpg.rf.69d2a06c1cd4604a77b1d5c4baf7844d.jpg  \n",
            " extracting: train/images/image_195_jpg.rf.b62c8b03a5886c3fd934fdbb814e62a9.jpg  \n",
            " extracting: train/images/image_198_jpg.rf.79672182e5cef93af077c24a3ab1f75d.jpg  \n",
            " extracting: train/images/image_19_jpg.rf.bc8a85b3e5ee9d799df4cc9cc08eb07d.jpg  \n",
            " extracting: train/images/image_1_jpg.rf.afcc75b27946fba9e7163a328a07b8b6.jpg  \n",
            " extracting: train/images/image_200_jpg.rf.231bb606237e13e3a5f303352cba7392.jpg  \n",
            " extracting: train/images/image_201_jpg.rf.a0dd2d4ca0585881e6ebc5c5e589c63d.jpg  \n",
            " extracting: train/images/image_203_jpg.rf.f1d02dfb85dbcf3e362614400903c75d.jpg  \n",
            " extracting: train/images/image_205_jpg.rf.c9dfd584ab43b788138d812d95fb5572.jpg  \n",
            " extracting: train/images/image_208_jpg.rf.a559238af01fce318243bb9872c2a250.jpg  \n",
            " extracting: train/images/image_20_jpg.rf.7f1b50d2d1d20dfa377d380e75fcb10d.jpg  \n",
            " extracting: train/images/image_211_jpg.rf.397008f4400830baecb21b93f65082d8.jpg  \n",
            " extracting: train/images/image_212_jpg.rf.54d25e7582ab968b394bbbd5812eccc1.jpg  \n",
            " extracting: train/images/image_214_jpg.rf.e57607f30b3e782b10101aacc3ea25ea.jpg  \n",
            " extracting: train/images/image_215_jpg.rf.7d57b14df6584240d883c0acdd09b4ce.jpg  \n",
            " extracting: train/images/image_216_jpg.rf.6d62e2bad63c40d5455f15102f4fac73.jpg  \n",
            " extracting: train/images/image_218_jpg.rf.6c80ce3e96c135282a50dee90ef87c6a.jpg  \n",
            " extracting: train/images/image_219_jpg.rf.2fbcc0f0669a016d2a5aa8476f838e8f.jpg  \n",
            " extracting: train/images/image_21_jpg.rf.169d33c93792f859c8f8d7a5f91cdcbc.jpg  \n",
            " extracting: train/images/image_220_jpg.rf.d9e4c9cd36f99c6106455fc907b66eee.jpg  \n",
            " extracting: train/images/image_222_jpg.rf.239675cdc864dfe0787aae27d3e92f4b.jpg  \n",
            " extracting: train/images/image_223_jpg.rf.c4446ba0017d4c9541b8d2d353625880.jpg  \n",
            " extracting: train/images/image_224_jpg.rf.b4fbb473af148202aa5b129b492ccd4a.jpg  \n",
            " extracting: train/images/image_225_jpg.rf.de8ddbf673a26105145cfdd3e007a787.jpg  \n",
            " extracting: train/images/image_226_jpg.rf.8f7b7069270d5c9973430e48257ac0d6.jpg  \n",
            " extracting: train/images/image_227_jpg.rf.bd9b99c6f39e6ee8016b05943fab4340.jpg  \n",
            " extracting: train/images/image_228_jpg.rf.3bafb3680d12b44ab4bc5b10cae34993.jpg  \n",
            " extracting: train/images/image_229_jpg.rf.212858a9aeb622d2f238657487aec18f.jpg  \n",
            " extracting: train/images/image_230_jpg.rf.fabbd1a887ef74f1cba4fe20d03c583d.jpg  \n",
            " extracting: train/images/image_231_jpg.rf.82f1c633936529b63415e8d8dcacf57c.jpg  \n",
            " extracting: train/images/image_234_jpg.rf.bc9ff557350f2f5706a21df7d33efe6f.jpg  \n",
            " extracting: train/images/image_235_jpg.rf.d5b55cbe6e41aed9019a933d143c2786.jpg  \n",
            " extracting: train/images/image_238_jpg.rf.8475cba0e08dfbf16ce60576a9baac4f.jpg  \n",
            " extracting: train/images/image_23_jpg.rf.8a09a3364dd943e31387d2c7da8ebbbd.jpg  \n",
            " extracting: train/images/image_241_jpg.rf.2bf15908183f33548c6442926bcfa697.jpg  \n",
            " extracting: train/images/image_242_jpg.rf.16337a8a538840db7bd45be66077a8d8.jpg  \n",
            " extracting: train/images/image_243_jpg.rf.04bc508c029c1050666bee86ff1e569d.jpg  \n",
            " extracting: train/images/image_244_jpg.rf.bb7ae2a42a702e166ee94c5d2eebf448.jpg  \n",
            " extracting: train/images/image_245_jpg.rf.b969628f1b252a245dba22f7f998794b.jpg  \n",
            " extracting: train/images/image_246_jpg.rf.85863277ba9c6aca6761ede8131297f7.jpg  \n",
            " extracting: train/images/image_247_jpg.rf.a4e92eb7361560e0ca9e0bc6ebfa3dbc.jpg  \n",
            " extracting: train/images/image_249_jpg.rf.358de8fd8aa1fb1b0c6ce8dcd8afd269.jpg  \n",
            " extracting: train/images/image_24_jpg.rf.89f8910ce31d6f4fc5f10cb360f036c5.jpg  \n",
            " extracting: train/images/image_251_jpg.rf.b6419ae39807e1a819c4109d3028ec61.jpg  \n",
            " extracting: train/images/image_252_jpg.rf.b69a6c2fa63a5944ab9842a2bb309d35.jpg  \n",
            " extracting: train/images/image_253_jpg.rf.4c780196bd4a41f672fa88a1b14643dd.jpg  \n",
            " extracting: train/images/image_254_jpg.rf.8260d5c793891587389aa35dc539e158.jpg  \n",
            " extracting: train/images/image_255_jpg.rf.2f4b59dda9325ec694c7935a4d0fc4a4.jpg  \n",
            " extracting: train/images/image_257_jpg.rf.f5cbceb492148cfd50a42a831173162f.jpg  \n",
            " extracting: train/images/image_258_jpg.rf.bc3796b417f07e1bde5fd1e555b1f56b.jpg  \n",
            " extracting: train/images/image_259_jpg.rf.0734845cff4bb3baf4503349c20da15c.jpg  \n",
            " extracting: train/images/image_260_jpg.rf.6d53291eb59726aa828ea6cb72447803.jpg  \n",
            " extracting: train/images/image_262_jpg.rf.a709cbebf55df7463288281537a7acce.jpg  \n",
            " extracting: train/images/image_263_jpg.rf.694a83551be049924901a7d838ae6649.jpg  \n",
            " extracting: train/images/image_266_jpg.rf.6d96ea7997bd371b32fb1f542c8721e8.jpg  \n",
            " extracting: train/images/image_267_jpg.rf.f316be8d6b26ababffa89428d4c18c88.jpg  \n",
            " extracting: train/images/image_268_jpg.rf.956333a696f5db6a678d178b35caf309.jpg  \n",
            " extracting: train/images/image_269_jpg.rf.5436f5f4ab8ab51b951822cfbc83af0c.jpg  \n",
            " extracting: train/images/image_270_jpg.rf.66475fa1266122106255fe91d4788a16.jpg  \n",
            " extracting: train/images/image_274_jpg.rf.16ef9d790d219035b3133fd541c1c6ab.jpg  \n",
            " extracting: train/images/image_275_jpg.rf.4d07e234d8bca760af668988a26e5d97.jpg  \n",
            " extracting: train/images/image_277_jpg.rf.8c793f581c36c90565cf2ef535ff6c6a.jpg  \n",
            " extracting: train/images/image_278_jpg.rf.4d3b0b4c41a9c4b26e7864a5fe5143a9.jpg  \n",
            " extracting: train/images/image_279_jpg.rf.a7f98135efa8b01720131514685d9f7f.jpg  \n",
            " extracting: train/images/image_27_jpg.rf.5fb171e576c59f19e57d961d9dc58d6a.jpg  \n",
            " extracting: train/images/image_281_jpg.rf.7cdc119172ad37df1601fcd951fa16bd.jpg  \n",
            " extracting: train/images/image_283_jpg.rf.5c4110de3aba9d4904f0e4f2a39f3350.jpg  \n",
            " extracting: train/images/image_284_jpg.rf.ecfefc58618797580eff6198b56212b9.jpg  \n",
            " extracting: train/images/image_286_jpg.rf.07ed7c9e76dbfd921b9f6c40aa47aaf7.jpg  \n",
            " extracting: train/images/image_287_jpg.rf.a9d5bc0d88bd048dd0c503af22464843.jpg  \n",
            " extracting: train/images/image_290_jpg.rf.5d5446366db6d28b74596a6aa98dac5f.jpg  \n",
            " extracting: train/images/image_292_jpg.rf.dd69bc0d2b16f258797817e0ae8b8f06.jpg  \n",
            " extracting: train/images/image_293_jpg.rf.c3b1ed2a03855bf0aa9e80a0abad49ff.jpg  \n",
            " extracting: train/images/image_294_jpg.rf.dfb3397614a1cf1b710cd7b02c4e7e8c.jpg  \n",
            " extracting: train/images/image_295_jpg.rf.c1a7a985ed7ae45b9121889b531d0803.jpg  \n",
            " extracting: train/images/image_296_jpg.rf.cd25b0ac504bd87c979b3618d203c616.jpg  \n",
            " extracting: train/images/image_297_jpg.rf.540d3495ff136bd0603bc712963d1d86.jpg  \n",
            " extracting: train/images/image_298_jpg.rf.d6b4356d3dd45e98d45f4813879f6eee.jpg  \n",
            " extracting: train/images/image_299_jpg.rf.38140aa5cd4e9cbdcb86681cf92d4f48.jpg  \n",
            " extracting: train/images/image_2_jpg.rf.bbcdfcbf5458776f00beb3e62290620c.jpg  \n",
            " extracting: train/images/image_300_jpg.rf.dc806197aaf8b8cc3c028bec2dd9a326.jpg  \n",
            " extracting: train/images/image_302_jpg.rf.f1958b28b2af5d4c2b04814de0c7b6c8.jpg  \n",
            " extracting: train/images/image_303_jpg.rf.34bd52a31abf74dcf18dad935cd5e016.jpg  \n",
            " extracting: train/images/image_304_jpg.rf.28174e9cb0bc5e46fccc7477d1784342.jpg  \n",
            " extracting: train/images/image_305_jpg.rf.f46ca6990cf82f891ce479debcf69e31.jpg  \n",
            " extracting: train/images/image_306_jpg.rf.bc2de546ad31a7c00cd72cc7ed81803c.jpg  \n",
            " extracting: train/images/image_307_jpg.rf.8a745a1094c20957216440618c5a35ac.jpg  \n",
            " extracting: train/images/image_309_jpg.rf.dc3d3e9651e253ae665f2f83f0f61850.jpg  \n",
            " extracting: train/images/image_30_jpg.rf.0311a0f2697cdbc34526445c4c8da897.jpg  \n",
            " extracting: train/images/image_310_jpg.rf.e560cb6a25a1ab78d0fc3bd308618a73.jpg  \n",
            " extracting: train/images/image_312_jpg.rf.85bca6fa26dd1e74c2d21eed7e69f519.jpg  \n",
            " extracting: train/images/image_313_jpg.rf.333d935dcccf288b5494632e8b8343bc.jpg  \n",
            " extracting: train/images/image_317_jpg.rf.0c86cfe8caf1ed1cd1ff70487987f9cf.jpg  \n",
            " extracting: train/images/image_318_jpg.rf.4f897d17bec7ddf0f84e34591863edf1.jpg  \n",
            " extracting: train/images/image_319_jpg.rf.d2ab993908e75df229c9fcf2446d1e19.jpg  \n",
            " extracting: train/images/image_31_jpg.rf.295526ae2617243c9a1103999b997ca9.jpg  \n",
            " extracting: train/images/image_322_jpg.rf.5c709cf541a60344715e7b2b2f8ec6b2.jpg  \n",
            " extracting: train/images/image_324_jpg.rf.15002929409dcd1a0bf9789a368129bd.jpg  \n",
            " extracting: train/images/image_325_jpg.rf.46daf90db197296202545045794e2bd4.jpg  \n",
            " extracting: train/images/image_326_jpg.rf.b424fc7807ddd06e0f4593d7b4612d47.jpg  \n",
            " extracting: train/images/image_327_jpg.rf.15ecbc0ec33526001efaef9e337e9640.jpg  \n",
            " extracting: train/images/image_328_jpg.rf.f79009bbca49d089e9ac6c46785725bc.jpg  \n",
            " extracting: train/images/image_32_jpg.rf.f0359a4a4ab37ebabb84c4db544cac6d.jpg  \n",
            " extracting: train/images/image_332_jpg.rf.9a55dfc80cb4dca9ae9b6f0522f36b97.jpg  \n",
            " extracting: train/images/image_333_jpg.rf.a6a5888a9c2e87acadc7bb60df5d7eb5.jpg  \n",
            " extracting: train/images/image_334_jpg.rf.d3afe6ac7575b6bcf5be4d73c94bb7c8.jpg  \n",
            " extracting: train/images/image_337_jpg.rf.0753e52b40891f23d4c7e9872aa9c116.jpg  \n",
            " extracting: train/images/image_339_jpg.rf.d0c7b888701372f4b2d2f5b49e547ce7.jpg  \n",
            " extracting: train/images/image_344_jpg.rf.d0321c618ef431ba0cdc4e435c58d3a4.jpg  \n",
            " extracting: train/images/image_345_jpg.rf.348b767dbe241fbfce847be7b49da417.jpg  \n",
            " extracting: train/images/image_348_jpg.rf.d8b0eab397bf2540c0c50eb44b10f393.jpg  \n",
            " extracting: train/images/image_34_jpg.rf.d3cae00a6aeb797ef23eb9e5253f89ab.jpg  \n",
            " extracting: train/images/image_350_jpg.rf.d0cf3cf1643cae08829b0e038559cb71.jpg  \n",
            " extracting: train/images/image_351_jpg.rf.61da77381f3c7bd7d75d433a03bcd476.jpg  \n",
            " extracting: train/images/image_352_jpg.rf.a1ebf5c8e65acda4f529f4a53a9b3966.jpg  \n",
            " extracting: train/images/image_353_jpg.rf.fdf7cfeefe194fc06e0098b15a760b27.jpg  \n",
            " extracting: train/images/image_356_jpg.rf.68e5b3f775d3e253ed935fcda7867a63.jpg  \n",
            " extracting: train/images/image_358_jpg.rf.a60a9f84d9f6136e5b78fd2aff4225bd.jpg  \n",
            " extracting: train/images/image_359_jpg.rf.d93ffaa3d09ea6b9f6356246d5b0b7f9.jpg  \n",
            " extracting: train/images/image_360_jpg.rf.223d983eb2ccc2f9620835a5a6455ddd.jpg  \n",
            " extracting: train/images/image_362_jpg.rf.b40d2b538100d5cdd7796158fb619719.jpg  \n",
            " extracting: train/images/image_363_jpg.rf.02206fa677f6fa8fab2de17fb7d5d3ff.jpg  \n",
            " extracting: train/images/image_368_jpg.rf.207c7bf26de2e1bfdb1de461a19500cf.jpg  \n",
            " extracting: train/images/image_370_jpg.rf.b43ca9eb3c93f66eecd75c011e524285.jpg  \n",
            " extracting: train/images/image_371_jpg.rf.764a641ac84d8187a96ef32c84e841f1.jpg  \n",
            " extracting: train/images/image_372_jpg.rf.aefde902af796c012bc193a968050ee2.jpg  \n",
            " extracting: train/images/image_375_jpg.rf.f3a59e0dc89e4d044b4ee322012142ce.jpg  \n",
            " extracting: train/images/image_376_jpg.rf.4f966f44a015272bf555c50956e99986.jpg  \n",
            " extracting: train/images/image_379_jpg.rf.fc6c8ff680b7ac725757f91c67f6e716.jpg  \n",
            " extracting: train/images/image_384_jpg.rf.f83805d476c652add6cdca65b21f4b67.jpg  \n",
            " extracting: train/images/image_387_jpg.rf.05c4905a38f92833be288f03de0f8d41.jpg  \n",
            " extracting: train/images/image_388_jpg.rf.e53ff9e7ea7e8b6bdf039db28c5b0076.jpg  \n",
            " extracting: train/images/image_389_jpg.rf.612aa6e777c193aa13a19d9950863dd1.jpg  \n",
            " extracting: train/images/image_38_jpg.rf.e36bbb9af6eccffd1de2bf84de6886c2.jpg  \n",
            " extracting: train/images/image_390_jpg.rf.6f6897d64501953882f540cf445431f1.jpg  \n",
            " extracting: train/images/image_391_jpg.rf.ac43e6981ad58b99d4fa64d2e353eafc.jpg  \n",
            " extracting: train/images/image_394_jpg.rf.c8a4d576d58e8f84519da8cc373eaae4.jpg  \n",
            " extracting: train/images/image_395_jpg.rf.9435d41f7eeea3990c4ae59b19dd4bda.jpg  \n",
            " extracting: train/images/image_396_jpg.rf.aa9140a3be4041c6ef4a220a599354b4.jpg  \n",
            " extracting: train/images/image_397_jpg.rf.fa9e872c857420a55623ab7049bd027b.jpg  \n",
            " extracting: train/images/image_398_jpg.rf.f3bd3be58d6e1836ae84e1e159bf8d47.jpg  \n",
            " extracting: train/images/image_399_jpg.rf.a2779dab9652daa3df010ec0e761f0a7.jpg  \n",
            " extracting: train/images/image_39_jpg.rf.ed9d9ef09c9811d45d6613dad87ebf2d.jpg  \n",
            " extracting: train/images/image_3_jpg.rf.2e09713e052fd31b7efd67a9cf6ce097.jpg  \n",
            " extracting: train/images/image_400_jpg.rf.8984e30f59386b1f59a2c178180df47e.jpg  \n",
            " extracting: train/images/image_401_jpg.rf.c436297b11af958de67d21c3fdaa54be.jpg  \n",
            " extracting: train/images/image_404_jpg.rf.1d9019f436d38e5f79560f2405769a71.jpg  \n",
            " extracting: train/images/image_405_jpg.rf.db20a475776397798ab45a882ff97957.jpg  \n",
            " extracting: train/images/image_406_jpg.rf.c0d1af53304c0f3ed5a3433800ae79e5.jpg  \n",
            " extracting: train/images/image_407_jpg.rf.44d3a57634ec7c7f8f6dad1f7b22d623.jpg  \n",
            " extracting: train/images/image_408_jpg.rf.b2681b05b2a2242acb53cad863d10795.jpg  \n",
            " extracting: train/images/image_409_jpg.rf.07af6914b65450ff0b27aadb503f5282.jpg  \n",
            " extracting: train/images/image_411_jpg.rf.94e01ba841fb703801186273647e1ffc.jpg  \n",
            " extracting: train/images/image_412_jpg.rf.350709fe98bfc3ad3a3bb5dc6a30d6eb.jpg  \n",
            " extracting: train/images/image_413_jpg.rf.a4840c25b94a97067acbe1b41ce8f09c.jpg  \n",
            " extracting: train/images/image_414_jpg.rf.da9c7884b6ab1eabcad33bbbe4a57731.jpg  \n",
            " extracting: train/images/image_417_jpg.rf.174fa7792f07b6eb6cf8ed79583d1099.jpg  \n",
            " extracting: train/images/image_418_jpg.rf.3000fe14f8624314c417d57ea62cf582.jpg  \n",
            " extracting: train/images/image_419_jpg.rf.1cc0f19036fe4a1969cefb7f56189bcd.jpg  \n",
            " extracting: train/images/image_41_jpg.rf.988449d160c5e954f18a7598cf575cf0.jpg  \n",
            " extracting: train/images/image_420_jpg.rf.616d79157ad07bebc406afa0e61ac9f0.jpg  \n",
            " extracting: train/images/image_421_jpg.rf.983dae6b4b9d4ed58bae3410f1e2dddc.jpg  \n",
            " extracting: train/images/image_422_jpg.rf.ca900cee6701369a840958c7232a4969.jpg  \n",
            " extracting: train/images/image_423_jpg.rf.e205667d589bcdd8b7d9145abe9854cb.jpg  \n",
            " extracting: train/images/image_425_jpg.rf.3cfb436a4b0b6fe99995ab072fa84384.jpg  \n",
            " extracting: train/images/image_430_jpg.rf.574c94266fdd472046e488e44ed46b0a.jpg  \n",
            " extracting: train/images/image_431_jpg.rf.e0f3487e9b6c11e7662d6679b1d83935.jpg  \n",
            " extracting: train/images/image_432_jpg.rf.160c8ae5970983c5e5f96a9450460594.jpg  \n",
            " extracting: train/images/image_433_jpg.rf.680d0be9ea139526a74e4bed0411b254.jpg  \n",
            " extracting: train/images/image_435_jpg.rf.4e3d94712aa3fd4d1c2a26edc484e553.jpg  \n",
            " extracting: train/images/image_437_jpg.rf.32da304b5290fa9073f4b55955c82a5c.jpg  \n",
            " extracting: train/images/image_438_jpg.rf.70779331525b4eb70b04a913600fc1d0.jpg  \n",
            " extracting: train/images/image_441_jpg.rf.3604ce57f7159abde817ac9856b775ec.jpg  \n",
            " extracting: train/images/image_443_jpg.rf.e94f923d04e27d7d223b5d27d82982fc.jpg  \n",
            " extracting: train/images/image_444_jpg.rf.c171cf88aecec2aeeb9916f43547d94c.jpg  \n",
            " extracting: train/images/image_445_jpg.rf.f33a3b849dcdab3dd356215f367fc414.jpg  \n",
            " extracting: train/images/image_446_jpg.rf.313ac05b9df02ae5cd62dda5662ec5bd.jpg  \n",
            " extracting: train/images/image_449_jpg.rf.33ae583b1a231d58520f304feb96593b.jpg  \n",
            " extracting: train/images/image_44_jpg.rf.4646c7b5ea918d357f7b997f5f077992.jpg  \n",
            " extracting: train/images/image_450_jpg.rf.3fe03acfce0803ee1ae2444dad2c52a1.jpg  \n",
            " extracting: train/images/image_451_jpg.rf.5c4f7507475078fdfd9a6c9fba5a9e02.jpg  \n",
            " extracting: train/images/image_452_jpg.rf.92b201dc548b2bb3a2b1c1ca1bdd1ab2.jpg  \n",
            " extracting: train/images/image_453_jpg.rf.02dd4989709ba4b8ddd4abbf215bdf5c.jpg  \n",
            " extracting: train/images/image_454_jpg.rf.dd97c0aa47184ee3a2e7827638558ea7.jpg  \n",
            " extracting: train/images/image_455_jpg.rf.41092522de61b325ad397a6180c1da7e.jpg  \n",
            " extracting: train/images/image_456_jpg.rf.84f9a8f2c6abfeb3fe4ff373209336b7.jpg  \n",
            " extracting: train/images/image_457_jpg.rf.1cbd3e6e8775f4f054f53f05e074ca50.jpg  \n",
            " extracting: train/images/image_458_jpg.rf.78f778d399e7a7bfd6f458a439b0b395.jpg  \n",
            " extracting: train/images/image_459_jpg.rf.2b327bc09e142cf88d304a29334fef26.jpg  \n",
            " extracting: train/images/image_45_jpg.rf.180a5b63b560550f9d0a5553cfa81f0c.jpg  \n",
            " extracting: train/images/image_460_jpg.rf.e781eea3c0da0045a695c733e754c1cc.jpg  \n",
            " extracting: train/images/image_463_jpg.rf.9b464995f3535377cb8b2a9a0f78aac4.jpg  \n",
            " extracting: train/images/image_464_jpg.rf.f3d245e634237914a70487e927e1a5c9.jpg  \n",
            " extracting: train/images/image_466_jpg.rf.1e8dde2ea2798af30d664f0cada13a30.jpg  \n",
            " extracting: train/images/image_467_jpg.rf.ee6a3b59c4f752ef90f523292d0dc0fc.jpg  \n",
            " extracting: train/images/image_468_jpg.rf.9badf34a43e745c6f0972263a7c18562.jpg  \n",
            " extracting: train/images/image_46_jpg.rf.499a758cda9964c101f6def018e596ea.jpg  \n",
            " extracting: train/images/image_470_jpg.rf.535c0919dbc55b3e48d0b5ac70769ca3.jpg  \n",
            " extracting: train/images/image_471_jpg.rf.94177ce134a1992c9bf12ab1c282cf8c.jpg  \n",
            " extracting: train/images/image_473_jpg.rf.677e95c48879d1eb39fe9f5d85796398.jpg  \n",
            " extracting: train/images/image_474_jpg.rf.bc7993454855633422032caaf39fc400.jpg  \n",
            " extracting: train/images/image_475_jpg.rf.6e2e5014388c01d7e34e590f4903d2b2.jpg  \n",
            " extracting: train/images/image_476_jpg.rf.cefc1615cb6d7f74d83ac434c9144eed.jpg  \n",
            " extracting: train/images/image_480_jpg.rf.00d258278b2a37ab95de0570415f95a8.jpg  \n",
            " extracting: train/images/image_481_jpg.rf.9ed1533c5af94b70e6da6d979af7697e.jpg  \n",
            " extracting: train/images/image_485_jpg.rf.be826d8d5ab4eba53319bed1bfc0fbdf.jpg  \n",
            " extracting: train/images/image_486_jpg.rf.bf5f9fc578def031d67fa9335423dd34.jpg  \n",
            " extracting: train/images/image_487_jpg.rf.86b86697ab81e9481687b359b1b4add0.jpg  \n",
            " extracting: train/images/image_489_jpg.rf.f766142c2109bf5415eb1e78fbe12dc5.jpg  \n",
            " extracting: train/images/image_48_jpg.rf.002cca1bd84cdf2005e0853a1929dc30.jpg  \n",
            " extracting: train/images/image_490_jpg.rf.b7043ace8679d8b918635e61b1d1c10c.jpg  \n",
            " extracting: train/images/image_491_jpg.rf.7ac7560443896d91dc4467c21e8b72f3.jpg  \n",
            " extracting: train/images/image_492_jpg.rf.10c3c4f05c3b9a1c6e56ff2e87432326.jpg  \n",
            " extracting: train/images/image_493_jpg.rf.53d8514f5e27895a98e03dd87261753c.jpg  \n",
            " extracting: train/images/image_494_jpg.rf.b2a240a749c3fc71f50abd9cdc4c0382.jpg  \n",
            " extracting: train/images/image_495_jpg.rf.c4f373925c538ecbf353b979fa348fb7.jpg  \n",
            " extracting: train/images/image_497_jpg.rf.b9665e11790e25f1611c723ece6cea46.jpg  \n",
            " extracting: train/images/image_499_jpg.rf.fad93b9797d4cce6257b4d413c7b5ac1.jpg  \n",
            " extracting: train/images/image_500_jpg.rf.023412960628bd5cc81fa73c56b50537.jpg  \n",
            " extracting: train/images/image_501_jpg.rf.deb16e957d4202e6dbb596b4ad9d7976.jpg  \n",
            " extracting: train/images/image_502_jpg.rf.52904422a97c194d1fe048c2d2fdb755.jpg  \n",
            " extracting: train/images/image_504_jpg.rf.0f8fe2dffb3950d6130d5fab400d3f21.jpg  \n",
            " extracting: train/images/image_505_jpg.rf.d24041e61cd65d9bd198791f95025a1b.jpg  \n",
            " extracting: train/images/image_506_jpg.rf.41f1590a155680829ee2b4db62d65e87.jpg  \n",
            " extracting: train/images/image_507_jpg.rf.9945c6902d7d4c9e60b3d39e5c91c02d.jpg  \n",
            " extracting: train/images/image_509_jpg.rf.ac1a64b6cd6373cd7c75f2d3fb1cc542.jpg  \n",
            " extracting: train/images/image_50_jpg.rf.d7a408c3922a7493fb5ca62eb5b3e6d3.jpg  \n",
            " extracting: train/images/image_510_jpg.rf.559383f725a1026e758a7c1a5ef5249d.jpg  \n",
            " extracting: train/images/image_512_jpg.rf.f50471270950bcb0d0708ae1fb600f8b.jpg  \n",
            " extracting: train/images/image_513_jpg.rf.ea069b87c86467bc81b81bd2a8349a68.jpg  \n",
            " extracting: train/images/image_514_jpg.rf.c0734e23f83dacd92f73c769152f4c61.jpg  \n",
            " extracting: train/images/image_515_jpg.rf.a6f170817a7274e9cc76dd81a01f11f3.jpg  \n",
            " extracting: train/images/image_516_jpg.rf.cd65aee13d08b03af0e3719f6942f976.jpg  \n",
            " extracting: train/images/image_517_jpg.rf.3bdbd0a1a49a1fed43aab65bc6d6e60a.jpg  \n",
            " extracting: train/images/image_519_jpg.rf.76a610b3fb696c071a4672268b3da386.jpg  \n",
            " extracting: train/images/image_51_jpg.rf.e55582076d19c5247d248f1b7703afe0.jpg  \n",
            " extracting: train/images/image_521_jpg.rf.b2aa95c8971adf418f09f546a08849ac.jpg  \n",
            " extracting: train/images/image_523_jpg.rf.dffff393426b3806892eb75c9919593b.jpg  \n",
            " extracting: train/images/image_524_jpg.rf.1d09d36f629e602ad64eb3e5bf1b22d5.jpg  \n",
            " extracting: train/images/image_525_jpg.rf.e753abea382b157cf7bb537e253951d3.jpg  \n",
            " extracting: train/images/image_526_jpg.rf.cbe1136d6cf1d7a3c8f96f10e8be38e1.jpg  \n",
            " extracting: train/images/image_527_jpg.rf.93fa8ebcbab43bd888d1b374499b1543.jpg  \n",
            " extracting: train/images/image_529_jpg.rf.de19b245b2d187ed823e4d6c56d86dea.jpg  \n",
            " extracting: train/images/image_52_jpg.rf.95f55a6df06310b2a72a8544007818a3.jpg  \n",
            " extracting: train/images/image_530_jpg.rf.0cf8087677a3ed1f195a5cfb627dd22d.jpg  \n",
            " extracting: train/images/image_531_jpg.rf.67c2dc5a6acae4c63212b393699e93ff.jpg  \n",
            " extracting: train/images/image_534_jpg.rf.956f4744a4ea591f22c9f83ae5ed216f.jpg  \n",
            " extracting: train/images/image_535_jpg.rf.f6890abfbd65196662e268d8b09b5e31.jpg  \n",
            " extracting: train/images/image_536_jpg.rf.1f254bcce2e22d76123a861cd7881d6a.jpg  \n",
            " extracting: train/images/image_537_jpg.rf.db2eea6eb5fa0dd92ee929f004b16546.jpg  \n",
            " extracting: train/images/image_538_jpg.rf.c04cb72221c1d93e9a5c1f5392f07b46.jpg  \n",
            " extracting: train/images/image_539_jpg.rf.ccdcc4cba80c494f4424cd59b07640e3.jpg  \n",
            " extracting: train/images/image_540_jpg.rf.f7719111e7d75da471de87e4456af83e.jpg  \n",
            " extracting: train/images/image_541_jpg.rf.7311cc0049930a6725dc086cd13a0cea.jpg  \n",
            " extracting: train/images/image_542_jpg.rf.ac61aec6011a4027d25b9a4c004efedd.jpg  \n",
            " extracting: train/images/image_543_jpg.rf.0e1a058c315dff3e0fed3967516afc05.jpg  \n",
            " extracting: train/images/image_545_jpg.rf.e9e45a9e11062fe2760fcc2fd36486d9.jpg  \n",
            " extracting: train/images/image_548_jpg.rf.1312e6867eadc426444f0265511889a8.jpg  \n",
            " extracting: train/images/image_549_jpg.rf.8eaa87bb54e9f90840f3f8611d1f291d.jpg  \n",
            " extracting: train/images/image_550_jpg.rf.df8f94b463d4b645f0631c6d317da4d4.jpg  \n",
            " extracting: train/images/image_552_jpg.rf.a5aa0048b62b6118d26ba40c794d722d.jpg  \n",
            " extracting: train/images/image_554_jpg.rf.7e87110daa64eef7641d8d32fd370f46.jpg  \n",
            " extracting: train/images/image_555_jpg.rf.3e74820987e6b17b7c9e25e89d97e047.jpg  \n",
            " extracting: train/images/image_556_jpg.rf.771727c583303d3a958e63d98e82277b.jpg  \n",
            " extracting: train/images/image_557_jpg.rf.c4adc9e1b03cbc7f433056f2f17ca2d6.jpg  \n",
            " extracting: train/images/image_55_jpg.rf.634c49971c6184c7a80a57d425e708d5.jpg  \n",
            " extracting: train/images/image_560_jpg.rf.805a06ca7cc5bbe9494d074bed9bf98f.jpg  \n",
            " extracting: train/images/image_562_jpg.rf.57473fadeb79d969e8038323685d058b.jpg  \n",
            " extracting: train/images/image_563_jpg.rf.f752496968ed9b70157bd6ed8d28b340.jpg  \n",
            " extracting: train/images/image_564_jpg.rf.19c774ca330d3dc5e675cff301e4aae9.jpg  \n",
            " extracting: train/images/image_565_jpg.rf.d22ac17e88a30d5d3a6c1308dfa564d4.jpg  \n",
            " extracting: train/images/image_567_jpg.rf.1d55f7e86c1ddeca66aeb163f1ba1aab.jpg  \n",
            " extracting: train/images/image_568_jpg.rf.cfb881e80b9fe52db42690568dffa4d0.jpg  \n",
            " extracting: train/images/image_569_jpg.rf.cd1c823bd23fba8c6bcad0bbf69ede21.jpg  \n",
            " extracting: train/images/image_570_jpg.rf.b5ed46573fccb174922dfaf78c6b5255.jpg  \n",
            " extracting: train/images/image_571_jpg.rf.cd32c362800ab0e8dce0ec50480d362c.jpg  \n",
            " extracting: train/images/image_573_jpg.rf.0b648529a3fb7d0159ea45b61dd9d1c2.jpg  \n",
            " extracting: train/images/image_576_jpg.rf.b19b5d0b5ee0abd25801692b65b64992.jpg  \n",
            " extracting: train/images/image_577_jpg.rf.fb66d0b05c2ea42f8dc54eca8f0c93f4.jpg  \n",
            " extracting: train/images/image_579_jpg.rf.183c02b732abf9c29643b2f391f713e2.jpg  \n",
            " extracting: train/images/image_57_jpg.rf.809860506485fa65d752925c10a39875.jpg  \n",
            " extracting: train/images/image_580_jpg.rf.2770a22573e9b5ec055dc4e2d9ff89b9.jpg  \n",
            " extracting: train/images/image_583_jpg.rf.5e10204f99ffd4a10ba8eb1a3b73fca8.jpg  \n",
            " extracting: train/images/image_584_jpg.rf.92a535578862b03c4ea76897a201ce36.jpg  \n",
            " extracting: train/images/image_585_jpg.rf.70030c86323343ed7a10cb9a913a0342.jpg  \n",
            " extracting: train/images/image_588_jpg.rf.6e913ab9f671e00d38d1f680da57d838.jpg  \n",
            " extracting: train/images/image_589_jpg.rf.d74193212f5a7ed2c2ee404092d519d5.jpg  \n",
            " extracting: train/images/image_58_jpg.rf.03b717798c6f4398464f42e49ff689d1.jpg  \n",
            " extracting: train/images/image_592_jpg.rf.e938ea9bc2ea065b43ea3d94bfbaa17d.jpg  \n",
            " extracting: train/images/image_595_jpg.rf.47c32ba6522aaeae5990d70e6e051b1b.jpg  \n",
            " extracting: train/images/image_597_jpg.rf.74406fb3b23a0e781fd939de93953ba6.jpg  \n",
            " extracting: train/images/image_598_jpg.rf.bbcd175079dc181389dfdeb54f15a743.jpg  \n",
            " extracting: train/images/image_599_jpg.rf.581af3868604cc334e0333fd2cf2c872.jpg  \n",
            " extracting: train/images/image_59_jpg.rf.fd9efe6d5c6dda571021bcd761e0385b.jpg  \n",
            " extracting: train/images/image_5_jpg.rf.d9b15d561c6f24cfd4a91e84c7dd039b.jpg  \n",
            " extracting: train/images/image_602_jpg.rf.2599959077d4bc1ea99212f9a778dffd.jpg  \n",
            " extracting: train/images/image_604_jpg.rf.c5c378e6a867633648f480c476a352aa.jpg  \n",
            " extracting: train/images/image_605_jpg.rf.bb3111ca97b0858b2e95b35ffa101a70.jpg  \n",
            " extracting: train/images/image_607_jpg.rf.f9de55337eebe4e65cdcde2363c0bb00.jpg  \n",
            " extracting: train/images/image_608_jpg.rf.d19ab42695550df56c6538ee2c29ec53.jpg  \n",
            " extracting: train/images/image_609_jpg.rf.57439f9e8367812c4161b2c596a07641.jpg  \n",
            " extracting: train/images/image_60_jpg.rf.91fa54a8e4056524044fff58285cea24.jpg  \n",
            " extracting: train/images/image_610_jpg.rf.3a1623ac4129a842b7c1a48b1922c21e.jpg  \n",
            " extracting: train/images/image_611_jpg.rf.e22cfdb7e1569531c14d0e03fa7de271.jpg  \n",
            " extracting: train/images/image_612_jpg.rf.0e18051a56c815ae56ac2efdca569a93.jpg  \n",
            " extracting: train/images/image_614_jpg.rf.8911e8d700f66a8482a28b2989f2a541.jpg  \n",
            " extracting: train/images/image_615_jpg.rf.c72a80c0812258a122884927989f3264.jpg  \n",
            " extracting: train/images/image_617_jpg.rf.219f5e690d1bffb46329b130939ed68e.jpg  \n",
            " extracting: train/images/image_61_jpg.rf.13fc33b313736ec75292fc0490014ed0.jpg  \n",
            " extracting: train/images/image_620_jpg.rf.f2ff519bea981f97686e2326cde70a41.jpg  \n",
            " extracting: train/images/image_621_jpg.rf.6293b33ec4894191f7dd99a3af2c7e34.jpg  \n",
            " extracting: train/images/image_622_jpg.rf.7dd75555af6c786be41fd3de814b0ddb.jpg  \n",
            " extracting: train/images/image_623_jpg.rf.af7a1db97141c258ca3deacd042dc224.jpg  \n",
            " extracting: train/images/image_624_jpg.rf.d4c519af119683281bd1f8b2d3d1a8db.jpg  \n",
            " extracting: train/images/image_627_jpg.rf.077638960f86f8763aaa59b6ab7547c0.jpg  \n",
            " extracting: train/images/image_628_jpg.rf.1574dd1111c1ea17e86920cfdd668c28.jpg  \n",
            " extracting: train/images/image_629_jpg.rf.c51e4655a608fafe58e7b95ee8c49c2b.jpg  \n",
            " extracting: train/images/image_630_jpg.rf.7f6c218d9d92f84b20ebe2ba980e7dee.jpg  \n",
            " extracting: train/images/image_631_jpg.rf.9f62d965918fb33b1c742c727ea8dd28.jpg  \n",
            " extracting: train/images/image_632_jpg.rf.07f3c01a87d193631190bbe43d1a0065.jpg  \n",
            " extracting: train/images/image_635_jpg.rf.9fe2e03c5c64415c872cb239668e9392.jpg  \n",
            " extracting: train/images/image_636_jpg.rf.3eb3d23cff51c3459e8462fdd4a59339.jpg  \n",
            " extracting: train/images/image_637_jpg.rf.75b25edb1869e4314bc242a424395bdc.jpg  \n",
            " extracting: train/images/image_638_jpg.rf.c8f4a483e9df4054a71cff66455474b0.jpg  \n",
            " extracting: train/images/image_639_jpg.rf.4de16ebc64a7cb96a29e98df5b4e8907.jpg  \n",
            " extracting: train/images/image_63_jpg.rf.13c6b82e74c12dce4fa939813d6cfafa.jpg  \n",
            " extracting: train/images/image_640_jpg.rf.f522cd6e44e6a41816fed381d0e0c1b8.jpg  \n",
            " extracting: train/images/image_642_jpg.rf.5cb817a210158428c9e6c4a44d6070a4.jpg  \n",
            " extracting: train/images/image_643_jpg.rf.3e32768585f7e28d84965f2b615fa28b.jpg  \n",
            " extracting: train/images/image_644_jpg.rf.a4ff825e67f81488cf7deb02164aaa3c.jpg  \n",
            " extracting: train/images/image_645_jpg.rf.589ae7d4e6f121c2245d8c484e7cd3e2.jpg  \n",
            " extracting: train/images/image_646_jpg.rf.324547afd6031d8f997c06fe3c6c7139.jpg  \n",
            " extracting: train/images/image_647_jpg.rf.f774091ba98466d7d0b7510df812ef48.jpg  \n",
            " extracting: train/images/image_648_jpg.rf.71ba390823035214ef3eafbe0602245d.jpg  \n",
            " extracting: train/images/image_64_jpg.rf.75897a2629e8deb6e98e996e56f28ada.jpg  \n",
            " extracting: train/images/image_650_jpg.rf.06101a0e0cb4547934d2ab1a2c258189.jpg  \n",
            " extracting: train/images/image_652_jpg.rf.cb463d7be67136160146dea8931ea9d1.jpg  \n",
            " extracting: train/images/image_653_jpg.rf.190adaf5eef0536a82c29ea87786bf46.jpg  \n",
            " extracting: train/images/image_658_jpg.rf.e551ce1c7f7cf3153c1efb5a0307ec45.jpg  \n",
            " extracting: train/images/image_659_jpg.rf.0eea0e8f521045176bd6cd372bfab16e.jpg  \n",
            " extracting: train/images/image_65_jpg.rf.5e3a92b201408c848aa64f6ade53f275.jpg  \n",
            " extracting: train/images/image_660_jpg.rf.f5d5c143fed387ef48d9b76ae04387f2.jpg  \n",
            " extracting: train/images/image_661_jpg.rf.886e5576368c5e25b0635263e50c9fe2.jpg  \n",
            " extracting: train/images/image_664_jpg.rf.3f9a1b8105ce3eae30730d66bf002880.jpg  \n",
            " extracting: train/images/image_666_jpg.rf.15114fc576b473556172e8aa6d2a94b6.jpg  \n",
            " extracting: train/images/image_667_jpg.rf.afa3a4f480779b3167eb2a97e47bebb0.jpg  \n",
            " extracting: train/images/image_668_jpg.rf.81243ebfdc38f53e2c64622a5ae9eba7.jpg  \n",
            " extracting: train/images/image_669_jpg.rf.4cadcaacfc9597e51b93cd5637237b72.jpg  \n",
            " extracting: train/images/image_670_jpg.rf.5df0d56f4cbc36c7df4b620a2e741357.jpg  \n",
            " extracting: train/images/image_671_jpg.rf.08aecbe798ae532aab69c8e16b4f5e16.jpg  \n",
            " extracting: train/images/image_672_jpg.rf.0412a1cefb735505bbeb6b3f9a991502.jpg  \n",
            " extracting: train/images/image_673_jpg.rf.e0e04009aca52ca6b77b8c94c51124ff.jpg  \n",
            " extracting: train/images/image_674_jpg.rf.366bbfbda96e155c442aaba9496dfa1e.jpg  \n",
            " extracting: train/images/image_675_jpg.rf.b68a474dcdcefe950f56c74c957eff17.jpg  \n",
            " extracting: train/images/image_676_jpg.rf.f632b4971ae9ed6aafa26a12d4b16674.jpg  \n",
            " extracting: train/images/image_677_jpg.rf.47b5b61f3b6e01b5703600d28b805e3d.jpg  \n",
            " extracting: train/images/image_678_jpg.rf.26bc30869a87bc947d8ba299e83f5222.jpg  \n",
            " extracting: train/images/image_679_jpg.rf.4093b13d3ba9c9712ac4f75a8574c87c.jpg  \n",
            " extracting: train/images/image_67_jpg.rf.22ba561f5dae952668536727ee88ab05.jpg  \n",
            " extracting: train/images/image_680_jpg.rf.5c445316626c3dadee6572670b9dc221.jpg  \n",
            " extracting: train/images/image_681_jpg.rf.52f1bf6143a65c2b79b96d76e6b49fbb.jpg  \n",
            " extracting: train/images/image_683_jpg.rf.c0ca772d7d97cc844a16dc1280766119.jpg  \n",
            " extracting: train/images/image_685_jpg.rf.86a7d35697ea0769d8a0447fd96b37bc.jpg  \n",
            " extracting: train/images/image_686_jpg.rf.becee3193886b4d1c07058b40aabbc6d.jpg  \n",
            " extracting: train/images/image_687_jpg.rf.e3ad805fc88afda305b88d90eb636136.jpg  \n",
            " extracting: train/images/image_688_jpg.rf.cd2105ed97f3e5d994088c207501b4f5.jpg  \n",
            " extracting: train/images/image_689_jpg.rf.3af8a26d834ea80f90006316199c3409.jpg  \n",
            " extracting: train/images/image_690_jpg.rf.1dc520bc3488fa50ebc79f643775abf2.jpg  \n",
            " extracting: train/images/image_691_jpg.rf.c8d45bf97fa67dcdd488bc2d31828e96.jpg  \n",
            " extracting: train/images/image_692_jpg.rf.8c7cf371924802115c7ef08e26a0ac65.jpg  \n",
            " extracting: train/images/image_693_jpg.rf.c8c053a65eea39a9b1441a63764e6d5e.jpg  \n",
            " extracting: train/images/image_694_jpg.rf.c75322f0d5d4c7672ad98a759bdff7dd.jpg  \n",
            " extracting: train/images/image_696_jpg.rf.3a1c64a9eaa1fdf65f1bc0b81b3d43d6.jpg  \n",
            " extracting: train/images/image_697_jpg.rf.429c2eeccecf59b2dd461ad334d73bdc.jpg  \n",
            " extracting: train/images/image_698_jpg.rf.be9ea3e4d4c918a6d90f44c72695e91a.jpg  \n",
            " extracting: train/images/image_699_jpg.rf.adc75be89b247fe426211d9e277393a2.jpg  \n",
            " extracting: train/images/image_69_jpg.rf.7600b280c6c2f34ad6bd9a000927f2ef.jpg  \n",
            " extracting: train/images/image_701_jpg.rf.5545a1a2cd1115ec848c479dae81c508.jpg  \n",
            " extracting: train/images/image_702_jpg.rf.b77e2c7c57c15f9ccb400f823aeda79b.jpg  \n",
            " extracting: train/images/image_704_jpg.rf.3afeaf4d5a6865accf42f44aefae68d4.jpg  \n",
            " extracting: train/images/image_706_jpg.rf.dd2d4f3ff2e581436acbb7e5a1f50a7b.jpg  \n",
            " extracting: train/images/image_708_jpg.rf.43abaf910f400d7f94754601fb40fb01.jpg  \n",
            " extracting: train/images/image_712_jpg.rf.74955959a2e3051e76956fd0f7c43170.jpg  \n",
            " extracting: train/images/image_713_jpg.rf.ee6e54a77a49f631fff01315b1de755f.jpg  \n",
            " extracting: train/images/image_714_jpg.rf.bbae1f938710680f3a9caade1d558cfb.jpg  \n",
            " extracting: train/images/image_715_jpg.rf.d0fa92371d9921e78e73b8cb96e944a3.jpg  \n",
            " extracting: train/images/image_716_jpg.rf.7855ea6be54f756ab87e76bb07d7a89e.jpg  \n",
            " extracting: train/images/image_717_jpg.rf.d154a97955a141e710ecae9725f85b81.jpg  \n",
            " extracting: train/images/image_718_jpg.rf.c5f301e6475f966c0fbbdf2216d9421e.jpg  \n",
            " extracting: train/images/image_71_jpg.rf.e9a145a72cf65372fc317d6815dd0f40.jpg  \n",
            " extracting: train/images/image_721_jpg.rf.769a49ff5e37950765eb4e902b0ea965.jpg  \n",
            " extracting: train/images/image_723_jpg.rf.f49d80d453e97e8fe896701004cbfd3a.jpg  \n",
            " extracting: train/images/image_725_jpg.rf.ded43df94bf8478cdaf24cce6cf72db8.jpg  \n",
            " extracting: train/images/image_726_jpg.rf.589b5873e13be997cc173fa72e348217.jpg  \n",
            " extracting: train/images/image_727_jpg.rf.d79130fc1b30323f57b9e939ee04659b.jpg  \n",
            " extracting: train/images/image_728_jpg.rf.b6a3ce2613587dc0a835846b77de3e35.jpg  \n",
            " extracting: train/images/image_72_jpg.rf.e348b31a41cfe28eb96530328f927045.jpg  \n",
            " extracting: train/images/image_731_jpg.rf.810a96995d9745e0c6f7a522914095d0.jpg  \n",
            " extracting: train/images/image_734_jpg.rf.4a8e1e87ddc35b3a99428f0204b45b6c.jpg  \n",
            " extracting: train/images/image_737_jpg.rf.a2c7b136ddf10fcab4263d07a63f4f84.jpg  \n",
            " extracting: train/images/image_738_jpg.rf.d062c9eccc8d58a726e88f28061d36ed.jpg  \n",
            " extracting: train/images/image_739_jpg.rf.8018986213baa1e655ee71063a7044ce.jpg  \n",
            " extracting: train/images/image_73_jpg.rf.a5114e003ce72f3f55931f6bd23d9a3b.jpg  \n",
            " extracting: train/images/image_740_jpg.rf.e715fb15499e16ea671975f42cc93450.jpg  \n",
            " extracting: train/images/image_741_jpg.rf.8ab936621ea902bc4fc853d305e9da91.jpg  \n",
            " extracting: train/images/image_743_jpg.rf.f94fd83d09426026f79cef7f53eb5e71.jpg  \n",
            " extracting: train/images/image_744_jpg.rf.71d8f2f1a835cb1139588f1faac2090e.jpg  \n",
            " extracting: train/images/image_745_jpg.rf.91c5165335f72ec73bf51e538a355cea.jpg  \n",
            " extracting: train/images/image_746_jpg.rf.ff002d3778937124a59a99fb5ace6fe0.jpg  \n",
            " extracting: train/images/image_747_jpg.rf.49e6eaf7d21c2bcb567de8d3f524bdc2.jpg  \n",
            " extracting: train/images/image_749_jpg.rf.5d538f91da8c8811fa6e394c516c6f44.jpg  \n",
            " extracting: train/images/image_74_jpg.rf.8d36164bf3d3808892d08b3854034e5a.jpg  \n",
            " extracting: train/images/image_751_jpg.rf.7c04c2029611ddb1fea743dae4f4efeb.jpg  \n",
            " extracting: train/images/image_752_jpg.rf.c6b74cf3721752e3ffe7a25efe6aea10.jpg  \n",
            " extracting: train/images/image_753_jpg.rf.323c6fc952e9b03f7071eeceec457249.jpg  \n",
            " extracting: train/images/image_756_jpg.rf.9bf7dde84d025df2b2e9c6a3ecb42290.jpg  \n",
            " extracting: train/images/image_757_jpg.rf.51fb63283e70df5a25b20953f6485a5a.jpg  \n",
            " extracting: train/images/image_758_jpg.rf.025d5e335f516914e250237540392b1a.jpg  \n",
            " extracting: train/images/image_759_jpg.rf.0e645fc757a992d0a524f885beef1fe6.jpg  \n",
            " extracting: train/images/image_75_jpg.rf.0a443fe1581f1f6a6d50054da9cf3386.jpg  \n",
            " extracting: train/images/image_760_jpg.rf.0531dbcacc3a903f42e3190b61de8764.jpg  \n",
            " extracting: train/images/image_761_jpg.rf.9758748fd81b3e633ff4c46414f1582b.jpg  \n",
            " extracting: train/images/image_762_jpg.rf.36a6b973e4fb891f312f4f6158db705e.jpg  \n",
            " extracting: train/images/image_764_jpg.rf.3df7300db385069f4b72296a8b519765.jpg  \n",
            " extracting: train/images/image_765_jpg.rf.0b81c5eeef9e453d70b6060108e0e9a8.jpg  \n",
            " extracting: train/images/image_767_jpg.rf.93442ef757f4d81c60b0fd8e978ce6d1.jpg  \n",
            " extracting: train/images/image_768_jpg.rf.43b2dba5169244e0c12f233cb34ab5d7.jpg  \n",
            " extracting: train/images/image_769_jpg.rf.dcd58508230607e217ab36df69744dda.jpg  \n",
            " extracting: train/images/image_76_jpg.rf.6b4156c5a32b1a8afe4dde4aadbe2bc2.jpg  \n",
            " extracting: train/images/image_770_jpg.rf.e4a78c1d12321c0cabaa96ebe504b2fb.jpg  \n",
            " extracting: train/images/image_771_jpg.rf.3690a3be8179a58e31f362678945e0fa.jpg  \n",
            " extracting: train/images/image_774_jpg.rf.490d9a4579d7c58e1e5ed27e0038f817.jpg  \n",
            " extracting: train/images/image_777_jpg.rf.aab5ec7689a97843db3d964bf80c23da.jpg  \n",
            " extracting: train/images/image_778_jpg.rf.be77603e3e01feb9d166872f103c3597.jpg  \n",
            " extracting: train/images/image_779_jpg.rf.29fb41cfc272d458a2a204a558bb1862.jpg  \n",
            " extracting: train/images/image_77_jpg.rf.66f96caf071ae62c26310e1ad2d54107.jpg  \n",
            " extracting: train/images/image_780_jpg.rf.d278e738feb7129b78b14e876931e084.jpg  \n",
            " extracting: train/images/image_781_jpg.rf.da61d80b25636fcb4a683395291f61e4.jpg  \n",
            " extracting: train/images/image_783_jpg.rf.03e57e8976a398882c6a6f0f959a9880.jpg  \n",
            " extracting: train/images/image_784_jpg.rf.4ce79811f0eb4451781ad1db769f1afb.jpg  \n",
            " extracting: train/images/image_786_jpg.rf.4cae62e84824f58ed64964a0213daf53.jpg  \n",
            " extracting: train/images/image_787_jpg.rf.5a06121eb2e1133529141b5e4347dfb0.jpg  \n",
            " extracting: train/images/image_788_jpg.rf.d80619ec31c2497c70be6e6c7b52c771.jpg  \n",
            " extracting: train/images/image_789_jpg.rf.7472efce5ee966f3ed90ad418f12d1f9.jpg  \n",
            " extracting: train/images/image_78_jpg.rf.9f012bd557513e1b418e6ad3d43c7322.jpg  \n",
            " extracting: train/images/image_790_jpg.rf.2e876fdf1b1f36fde974221eaf7d6184.jpg  \n",
            " extracting: train/images/image_793_jpg.rf.1069ce4872e8543627e4e0429f812397.jpg  \n",
            " extracting: train/images/image_794_jpg.rf.2e21f119f4fcf8b8a74ac06436436854.jpg  \n",
            " extracting: train/images/image_795_jpg.rf.59467cf92379912a95d02650fc8df9b4.jpg  \n",
            " extracting: train/images/image_796_jpg.rf.26893a216d4c9ed7c11acf037698abac.jpg  \n",
            " extracting: train/images/image_797_jpg.rf.65ef2d4d9adc627d337156e421885486.jpg  \n",
            " extracting: train/images/image_798_jpg.rf.7c344b1b6426147b7b270295568badc8.jpg  \n",
            " extracting: train/images/image_799_jpg.rf.8d98b1478ad9eea00c1a2c1a616586f6.jpg  \n",
            " extracting: train/images/image_79_jpg.rf.0ed7c83e0b74f878b2fa2c3adbb5211c.jpg  \n",
            " extracting: train/images/image_801_jpg.rf.90e475bd0195f4dc2db257c43ae8aba6.jpg  \n",
            " extracting: train/images/image_803_jpg.rf.504c7f4dcb796bce6823864dca324b36.jpg  \n",
            " extracting: train/images/image_804_jpg.rf.9dfa79b604ccec208724b42cbc238063.jpg  \n",
            " extracting: train/images/image_805_jpg.rf.3ffed45ea779d98aea75b2a5f6396bc5.jpg  \n",
            " extracting: train/images/image_807_jpg.rf.2e1116d77de88112f9616ed3587696de.jpg  \n",
            " extracting: train/images/image_809_jpg.rf.2baf6b8c7be9bbdeba3fd38b508ca698.jpg  \n",
            " extracting: train/images/image_810_jpg.rf.b2f822bb22b920142bcaefb974412b8c.jpg  \n",
            " extracting: train/images/image_811_jpg.rf.eb560f5e9468b43c94bddf7597912bd6.jpg  \n",
            " extracting: train/images/image_814_jpg.rf.bb86c0c565b847c45a2e900bc400093e.jpg  \n",
            " extracting: train/images/image_815_jpg.rf.a6127520e518d0b16e795285026cab20.jpg  \n",
            " extracting: train/images/image_818_jpg.rf.61af7d39ede79bbc54dd29529582cf16.jpg  \n",
            " extracting: train/images/image_819_jpg.rf.dd71d8cd891902fbec1c2c0015b6adf5.jpg  \n",
            " extracting: train/images/image_81_jpg.rf.82dddec0cdeb0dcc019011be9af84418.jpg  \n",
            " extracting: train/images/image_820_jpg.rf.396425668899afda9b9a9fddb659da75.jpg  \n",
            " extracting: train/images/image_822_jpg.rf.8bd2bb3ab4edfe43d159979511688b8b.jpg  \n",
            " extracting: train/images/image_825_jpg.rf.b1c1d9ec1794f39a965937477d69097d.jpg  \n",
            " extracting: train/images/image_827_jpg.rf.d3218010d697bedeaca1adafd9ffe1c6.jpg  \n",
            " extracting: train/images/image_828_jpg.rf.afabe3f48a96c2e5a6a588da732e9096.jpg  \n",
            " extracting: train/images/image_829_jpg.rf.dfa9da3b34e424f937c2cf6348172e47.jpg  \n",
            " extracting: train/images/image_82_jpg.rf.833e5fe3282e0136444778223ef4ba48.jpg  \n",
            " extracting: train/images/image_830_jpg.rf.368b25f1058c8114682bef1912439fd4.jpg  \n",
            " extracting: train/images/image_831_jpg.rf.d48521291d4e42407f34148b46ac4a0a.jpg  \n",
            " extracting: train/images/image_833_jpg.rf.c9726e0e97158791ae94c46684fb5c7c.jpg  \n",
            " extracting: train/images/image_835_jpg.rf.e8483d1330c2f0f82404a3a176c2d1dd.jpg  \n",
            " extracting: train/images/image_836_jpg.rf.8d6b16b344fba5a13bcd291c8e4b59e4.jpg  \n",
            " extracting: train/images/image_837_jpg.rf.506fc5c16aa575664628d27b7f88bf4e.jpg  \n",
            " extracting: train/images/image_840_jpg.rf.86881282c19c812410bb2b7f04728292.jpg  \n",
            " extracting: train/images/image_844_jpg.rf.785e5eaa44efecc93b9a365f2a1ddc61.jpg  \n",
            " extracting: train/images/image_845_jpg.rf.7da72baffe1a5751fa591a7a484b12b7.jpg  \n",
            " extracting: train/images/image_846_jpg.rf.8514a39c3b4c47b5599420165cfca306.jpg  \n",
            " extracting: train/images/image_847_jpg.rf.b8bb7154e64acc62871d50afcc5a9528.jpg  \n",
            " extracting: train/images/image_848_jpg.rf.09983cc978b01be2fa948e1a154f98d0.jpg  \n",
            " extracting: train/images/image_849_jpg.rf.e759fedff596f012d7a78bc2ae33394f.jpg  \n",
            " extracting: train/images/image_84_jpg.rf.e65a107920913df743585c528ca193e9.jpg  \n",
            " extracting: train/images/image_851_jpg.rf.faf5213bb0529230ee90d56c43f33785.jpg  \n",
            " extracting: train/images/image_852_jpg.rf.fe7b1ed3d61a41072035116d7a3534b1.jpg  \n",
            " extracting: train/images/image_853_jpg.rf.9eaa22085258cddceed295a732e360d1.jpg  \n",
            " extracting: train/images/image_854_jpg.rf.a540eb25f7c1852a25638df273e79772.jpg  \n",
            " extracting: train/images/image_856_jpg.rf.c544e4b9e1bde042c48fce5251fb1904.jpg  \n",
            " extracting: train/images/image_857_jpg.rf.5391d832518e25a4bf4822c9c8ab7e88.jpg  \n",
            " extracting: train/images/image_858_jpg.rf.5048e061c19cc4d68d440f27e0f771de.jpg  \n",
            " extracting: train/images/image_859_jpg.rf.e5e091ad3fdb8e471e4138f2d63a5474.jpg  \n",
            " extracting: train/images/image_85_jpg.rf.a2b27932f4c2b6398f20bed8cad8f06e.jpg  \n",
            " extracting: train/images/image_861_jpg.rf.3cfceeae974f67634201834b3280b18c.jpg  \n",
            " extracting: train/images/image_862_jpg.rf.a4db233555e7d91e659d61c605d539c3.jpg  \n",
            " extracting: train/images/image_864_jpg.rf.7e76b0895577afa7476eb3242a4a9844.jpg  \n",
            " extracting: train/images/image_867_jpg.rf.0ceb62417cbc7e38b76b01e3b002ae1d.jpg  \n",
            " extracting: train/images/image_868_jpg.rf.cd9333d0aa6d122073511ba7d72f1764.jpg  \n",
            " extracting: train/images/image_869_jpg.rf.9e24c395be5b4bdcd577db3989f9613f.jpg  \n",
            " extracting: train/images/image_86_jpg.rf.43a88008519c8c6a60505516a0f34721.jpg  \n",
            " extracting: train/images/image_870_jpg.rf.041361204d2170c4621c2b64873027ba.jpg  \n",
            " extracting: train/images/image_871_jpg.rf.68ac8de640d3fc5ed85a13d8ec8ab63d.jpg  \n",
            " extracting: train/images/image_872_jpg.rf.a0a37420dde890bd87c58f2be92c21ad.jpg  \n",
            " extracting: train/images/image_873_jpg.rf.bc910c748893de8a98a41104c61de05c.jpg  \n",
            " extracting: train/images/image_875_jpg.rf.4689b264afa0f62e51111f9bb33c5764.jpg  \n",
            " extracting: train/images/image_877_jpg.rf.f1fbe22a0fb6ac69a2a3871edc439eda.jpg  \n",
            " extracting: train/images/image_878_jpg.rf.9a1ad634c76306967844f0b5e5d13e9e.jpg  \n",
            " extracting: train/images/image_87_jpg.rf.281cf0a08924cadcf4eddeb599f5f3ca.jpg  \n",
            " extracting: train/images/image_881_jpg.rf.1b81d8810d3e7565413746d1eb7ceb16.jpg  \n",
            " extracting: train/images/image_882_jpg.rf.983da1450ce31ce26d8c325b8d81184b.jpg  \n",
            " extracting: train/images/image_883_jpg.rf.a6ab3ce7c5647c08b71469ccb0cd7e78.jpg  \n",
            " extracting: train/images/image_884_jpg.rf.0feef2a909b52c15b6997f8430f31102.jpg  \n",
            " extracting: train/images/image_886_jpg.rf.4f9c1ca7f9de1b5cc96badf077de6c4a.jpg  \n",
            " extracting: train/images/image_887_jpg.rf.9420c30ecc61be357572e07315472508.jpg  \n",
            " extracting: train/images/image_889_jpg.rf.7e392ccc1b7fd2ed2521f111a5993cc5.jpg  \n",
            " extracting: train/images/image_88_jpg.rf.fc634e1806c22f2714d0840558d734b1.jpg  \n",
            " extracting: train/images/image_890_jpg.rf.49d40d221103b01e3c779879b01594f7.jpg  \n",
            " extracting: train/images/image_891_jpg.rf.0b07b7bc6c2289a667e4c77a2e398532.jpg  \n",
            " extracting: train/images/image_892_jpg.rf.b380938bfaf8d330081eea0bca7cecb1.jpg  \n",
            " extracting: train/images/image_893_jpg.rf.11b6ef80a9928f28503511ed060da71a.jpg  \n",
            " extracting: train/images/image_896_jpg.rf.48de6e4840b8f724eb7a6ed4faea95c0.jpg  \n",
            " extracting: train/images/image_897_jpg.rf.eb4f964e64c22921cabfdeb64621b419.jpg  \n",
            " extracting: train/images/image_898_jpg.rf.e0d4f12780ec8307d98c78360536244d.jpg  \n",
            " extracting: train/images/image_899_jpg.rf.492d3eb09aae156e94e2303aebee1673.jpg  \n",
            " extracting: train/images/image_89_jpg.rf.7b6d54c0215844f3966146bb18cd9a24.jpg  \n",
            " extracting: train/images/image_90_jpg.rf.3b7c4f37f6422e7bdd73effb189d244f.jpg  \n",
            " extracting: train/images/image_91_jpg.rf.f2262066e43bcbb41c97afdf3b57d4d2.jpg  \n",
            " extracting: train/images/image_93_jpg.rf.2f98ee1003f4796589ca79f0a751ea37.jpg  \n",
            " extracting: train/images/image_94_jpg.rf.556e865bc7f4e2508806b1cb456fdc79.jpg  \n",
            " extracting: train/images/image_97_jpg.rf.f3b9bb7314460bf31b1e9964597b85c9.jpg  \n",
            " extracting: train/images/image_98_jpg.rf.60e75c4808ae17f6482632d5453aada1.jpg  \n",
            " extracting: train/images/image_9_jpg.rf.da930721e65550ed0dc07a32537177a2.jpg  \n",
            "   creating: train/labels/\n",
            " extracting: train/labels/image_0_jpg.rf.112de57bb6ea96651502a245b1d028e6.txt  \n",
            " extracting: train/labels/image_100_jpg.rf.b42f2959d385b83c38544f260608c50f.txt  \n",
            " extracting: train/labels/image_101_jpg.rf.a788abb8339575e18b858f45f3dc5595.txt  \n",
            " extracting: train/labels/image_102_jpg.rf.c484e4b2108b2b756564dfa87d393425.txt  \n",
            " extracting: train/labels/image_106_jpg.rf.fde8df5080bd47861ab4f4141a5527c4.txt  \n",
            " extracting: train/labels/image_107_jpg.rf.a4b1ecef3a9a56348d29193c5b43ae09.txt  \n",
            " extracting: train/labels/image_110_jpg.rf.82f9ca131e6df9f745fd4f2b63f48cf3.txt  \n",
            " extracting: train/labels/image_111_jpg.rf.3914a34203766b32ba48fee5e6d9ce68.txt  \n",
            " extracting: train/labels/image_112_jpg.rf.96e08f83b8490f529ae2d1750d2b158c.txt  \n",
            " extracting: train/labels/image_113_jpg.rf.ef68a523bfef2c10049fc2a8cb817a30.txt  \n",
            " extracting: train/labels/image_117_jpg.rf.f66d995404f4695b53390fb79efef0a9.txt  \n",
            " extracting: train/labels/image_119_jpg.rf.a4b1b26348f84b67e13cb576482c0bf7.txt  \n",
            " extracting: train/labels/image_11_jpg.rf.77d0b5324b39e2acefc3090ffb1f2a87.txt  \n",
            " extracting: train/labels/image_121_jpg.rf.c39f9269dd3f4351108e999788d72775.txt  \n",
            " extracting: train/labels/image_122_jpg.rf.b28f08a2d47f4298c4f6aeefdd9aa99a.txt  \n",
            " extracting: train/labels/image_124_jpg.rf.66e254de124970d6bbf00f4edf238ebd.txt  \n",
            " extracting: train/labels/image_125_jpg.rf.a79c1360a4a5a6302ea510a39b0c3d9c.txt  \n",
            " extracting: train/labels/image_126_jpg.rf.60766d241c5b77ae81fe221fed0fca12.txt  \n",
            " extracting: train/labels/image_129_jpg.rf.f5a0f747c431a5171ac61e14472cea04.txt  \n",
            " extracting: train/labels/image_130_jpg.rf.97fa7bccd70ac03875442f8c3b8a2c33.txt  \n",
            " extracting: train/labels/image_131_jpg.rf.65e84b15fbf3f205cee463cf0e005efc.txt  \n",
            " extracting: train/labels/image_132_jpg.rf.f147787e7d54bcc5fd1de439d919f804.txt  \n",
            " extracting: train/labels/image_134_jpg.rf.57e4530d81fad021244fc17fb693019f.txt  \n",
            " extracting: train/labels/image_137_jpg.rf.d66d81a3d09d6606f57bae4e41532dce.txt  \n",
            " extracting: train/labels/image_139_jpg.rf.2190e4201c5c21f43b61dbfc2545c7b2.txt  \n",
            " extracting: train/labels/image_13_jpg.rf.7924903d6745cc970b442b37c54869ac.txt  \n",
            " extracting: train/labels/image_141_jpg.rf.85d36c21e0903ffa6dbbe996a0e8cc2f.txt  \n",
            " extracting: train/labels/image_142_jpg.rf.ed1e3ad4db51b6383d7b400528cf01cb.txt  \n",
            " extracting: train/labels/image_146_jpg.rf.8582bb5a014f87875b28587fddeb7034.txt  \n",
            " extracting: train/labels/image_147_jpg.rf.131ba596f7e6d8a4df5aa4c1618327fe.txt  \n",
            " extracting: train/labels/image_149_jpg.rf.f24d527bb47b426343e7cac6020ac867.txt  \n",
            " extracting: train/labels/image_14_jpg.rf.e47aa22a5a13bb21d70e15e2d4c2fcd6.txt  \n",
            " extracting: train/labels/image_152_jpg.rf.fdc66b15720d9f0ea0e99305eec1959a.txt  \n",
            " extracting: train/labels/image_153_jpg.rf.c8b955db2719e76c166b40222c9ee5eb.txt  \n",
            " extracting: train/labels/image_155_jpg.rf.e446deb333bf9b8ffecb45042343881e.txt  \n",
            " extracting: train/labels/image_156_jpg.rf.f6449ace0220c41162d8b544d42f6d89.txt  \n",
            " extracting: train/labels/image_157_jpg.rf.0de1721fa7ce5c44228ae09b62c47282.txt  \n",
            " extracting: train/labels/image_159_jpg.rf.3d6c7d62158e4eaf956e8b9ad997ef28.txt  \n",
            " extracting: train/labels/image_15_jpg.rf.cfbd7d1301d8269a2fd5a03a0fa6ed70.txt  \n",
            " extracting: train/labels/image_160_jpg.rf.40059e0d9cfddc7c449ed5c8e4b62c0c.txt  \n",
            " extracting: train/labels/image_163_jpg.rf.c91cd7de4ec7eadf341e8ade8ac5888a.txt  \n",
            " extracting: train/labels/image_164_jpg.rf.9740247e1ae1bbd1d244be7d52992d0e.txt  \n",
            " extracting: train/labels/image_165_jpg.rf.69cf2822e44113f240181df601b93010.txt  \n",
            " extracting: train/labels/image_166_jpg.rf.45974318a5651ee4500afdfee2fc0f50.txt  \n",
            " extracting: train/labels/image_167_jpg.rf.89c0bff7d4dcdcbe0436671cedbe13ed.txt  \n",
            " extracting: train/labels/image_169_jpg.rf.16e062fa76158af8e1f08730c91c17cc.txt  \n",
            " extracting: train/labels/image_16_jpg.rf.3799264dcde096ff8a04af5d098df4d3.txt  \n",
            " extracting: train/labels/image_170_jpg.rf.c3962018032f5c5359e7ab21accf5a18.txt  \n",
            " extracting: train/labels/image_171_jpg.rf.6a5e82b03462f7ff009edb276e1c2c0e.txt  \n",
            " extracting: train/labels/image_173_jpg.rf.356a5537d0d340c70f8c01f2b2d20d63.txt  \n",
            " extracting: train/labels/image_174_jpg.rf.5882835e8b30d049a02efb9665b35fe7.txt  \n",
            " extracting: train/labels/image_175_jpg.rf.c3c2decd4a6eb378a9f08dd75542aaac.txt  \n",
            " extracting: train/labels/image_176_jpg.rf.ef5de6de7661cdda256b601ebadaa09e.txt  \n",
            " extracting: train/labels/image_177_jpg.rf.717fc6f7606eae51c2b05b71ef00ca77.txt  \n",
            " extracting: train/labels/image_178_jpg.rf.b25416b0965877b07fd984a4ee05ce7c.txt  \n",
            " extracting: train/labels/image_179_jpg.rf.72aeb0eec8e6713f0fee7a10deaa9ebb.txt  \n",
            " extracting: train/labels/image_183_jpg.rf.5fccbbd80018b8cc40bfe2481f64dcc5.txt  \n",
            " extracting: train/labels/image_188_jpg.rf.bda4753d9d9257be4920b1422fc770c6.txt  \n",
            " extracting: train/labels/image_189_jpg.rf.3f3a8635e62e2fdbc6e609ff1754eaa8.txt  \n",
            " extracting: train/labels/image_18_jpg.rf.8a9eb1a431a4eb4e7d3b82259ad4f2b5.txt  \n",
            " extracting: train/labels/image_190_jpg.rf.b6736c2287e6ed3c515892f570759e58.txt  \n",
            " extracting: train/labels/image_193_jpg.rf.69d2a06c1cd4604a77b1d5c4baf7844d.txt  \n",
            " extracting: train/labels/image_195_jpg.rf.b62c8b03a5886c3fd934fdbb814e62a9.txt  \n",
            " extracting: train/labels/image_198_jpg.rf.79672182e5cef93af077c24a3ab1f75d.txt  \n",
            " extracting: train/labels/image_19_jpg.rf.bc8a85b3e5ee9d799df4cc9cc08eb07d.txt  \n",
            " extracting: train/labels/image_1_jpg.rf.afcc75b27946fba9e7163a328a07b8b6.txt  \n",
            " extracting: train/labels/image_200_jpg.rf.231bb606237e13e3a5f303352cba7392.txt  \n",
            " extracting: train/labels/image_201_jpg.rf.a0dd2d4ca0585881e6ebc5c5e589c63d.txt  \n",
            " extracting: train/labels/image_203_jpg.rf.f1d02dfb85dbcf3e362614400903c75d.txt  \n",
            " extracting: train/labels/image_205_jpg.rf.c9dfd584ab43b788138d812d95fb5572.txt  \n",
            " extracting: train/labels/image_208_jpg.rf.a559238af01fce318243bb9872c2a250.txt  \n",
            " extracting: train/labels/image_20_jpg.rf.7f1b50d2d1d20dfa377d380e75fcb10d.txt  \n",
            " extracting: train/labels/image_211_jpg.rf.397008f4400830baecb21b93f65082d8.txt  \n",
            " extracting: train/labels/image_212_jpg.rf.54d25e7582ab968b394bbbd5812eccc1.txt  \n",
            " extracting: train/labels/image_214_jpg.rf.e57607f30b3e782b10101aacc3ea25ea.txt  \n",
            " extracting: train/labels/image_215_jpg.rf.7d57b14df6584240d883c0acdd09b4ce.txt  \n",
            " extracting: train/labels/image_216_jpg.rf.6d62e2bad63c40d5455f15102f4fac73.txt  \n",
            " extracting: train/labels/image_218_jpg.rf.6c80ce3e96c135282a50dee90ef87c6a.txt  \n",
            " extracting: train/labels/image_219_jpg.rf.2fbcc0f0669a016d2a5aa8476f838e8f.txt  \n",
            " extracting: train/labels/image_21_jpg.rf.169d33c93792f859c8f8d7a5f91cdcbc.txt  \n",
            " extracting: train/labels/image_220_jpg.rf.d9e4c9cd36f99c6106455fc907b66eee.txt  \n",
            " extracting: train/labels/image_222_jpg.rf.239675cdc864dfe0787aae27d3e92f4b.txt  \n",
            " extracting: train/labels/image_223_jpg.rf.c4446ba0017d4c9541b8d2d353625880.txt  \n",
            " extracting: train/labels/image_224_jpg.rf.b4fbb473af148202aa5b129b492ccd4a.txt  \n",
            " extracting: train/labels/image_225_jpg.rf.de8ddbf673a26105145cfdd3e007a787.txt  \n",
            " extracting: train/labels/image_226_jpg.rf.8f7b7069270d5c9973430e48257ac0d6.txt  \n",
            " extracting: train/labels/image_227_jpg.rf.bd9b99c6f39e6ee8016b05943fab4340.txt  \n",
            " extracting: train/labels/image_228_jpg.rf.3bafb3680d12b44ab4bc5b10cae34993.txt  \n",
            " extracting: train/labels/image_229_jpg.rf.212858a9aeb622d2f238657487aec18f.txt  \n",
            " extracting: train/labels/image_230_jpg.rf.fabbd1a887ef74f1cba4fe20d03c583d.txt  \n",
            " extracting: train/labels/image_231_jpg.rf.82f1c633936529b63415e8d8dcacf57c.txt  \n",
            " extracting: train/labels/image_234_jpg.rf.bc9ff557350f2f5706a21df7d33efe6f.txt  \n",
            " extracting: train/labels/image_235_jpg.rf.d5b55cbe6e41aed9019a933d143c2786.txt  \n",
            " extracting: train/labels/image_238_jpg.rf.8475cba0e08dfbf16ce60576a9baac4f.txt  \n",
            " extracting: train/labels/image_23_jpg.rf.8a09a3364dd943e31387d2c7da8ebbbd.txt  \n",
            " extracting: train/labels/image_241_jpg.rf.2bf15908183f33548c6442926bcfa697.txt  \n",
            " extracting: train/labels/image_242_jpg.rf.16337a8a538840db7bd45be66077a8d8.txt  \n",
            " extracting: train/labels/image_243_jpg.rf.04bc508c029c1050666bee86ff1e569d.txt  \n",
            " extracting: train/labels/image_244_jpg.rf.bb7ae2a42a702e166ee94c5d2eebf448.txt  \n",
            " extracting: train/labels/image_245_jpg.rf.b969628f1b252a245dba22f7f998794b.txt  \n",
            " extracting: train/labels/image_246_jpg.rf.85863277ba9c6aca6761ede8131297f7.txt  \n",
            " extracting: train/labels/image_247_jpg.rf.a4e92eb7361560e0ca9e0bc6ebfa3dbc.txt  \n",
            " extracting: train/labels/image_249_jpg.rf.358de8fd8aa1fb1b0c6ce8dcd8afd269.txt  \n",
            " extracting: train/labels/image_24_jpg.rf.89f8910ce31d6f4fc5f10cb360f036c5.txt  \n",
            " extracting: train/labels/image_251_jpg.rf.b6419ae39807e1a819c4109d3028ec61.txt  \n",
            " extracting: train/labels/image_252_jpg.rf.b69a6c2fa63a5944ab9842a2bb309d35.txt  \n",
            " extracting: train/labels/image_253_jpg.rf.4c780196bd4a41f672fa88a1b14643dd.txt  \n",
            " extracting: train/labels/image_254_jpg.rf.8260d5c793891587389aa35dc539e158.txt  \n",
            " extracting: train/labels/image_255_jpg.rf.2f4b59dda9325ec694c7935a4d0fc4a4.txt  \n",
            " extracting: train/labels/image_257_jpg.rf.f5cbceb492148cfd50a42a831173162f.txt  \n",
            " extracting: train/labels/image_258_jpg.rf.bc3796b417f07e1bde5fd1e555b1f56b.txt  \n",
            " extracting: train/labels/image_259_jpg.rf.0734845cff4bb3baf4503349c20da15c.txt  \n",
            " extracting: train/labels/image_260_jpg.rf.6d53291eb59726aa828ea6cb72447803.txt  \n",
            " extracting: train/labels/image_262_jpg.rf.a709cbebf55df7463288281537a7acce.txt  \n",
            " extracting: train/labels/image_263_jpg.rf.694a83551be049924901a7d838ae6649.txt  \n",
            " extracting: train/labels/image_266_jpg.rf.6d96ea7997bd371b32fb1f542c8721e8.txt  \n",
            " extracting: train/labels/image_267_jpg.rf.f316be8d6b26ababffa89428d4c18c88.txt  \n",
            " extracting: train/labels/image_268_jpg.rf.956333a696f5db6a678d178b35caf309.txt  \n",
            " extracting: train/labels/image_269_jpg.rf.5436f5f4ab8ab51b951822cfbc83af0c.txt  \n",
            " extracting: train/labels/image_270_jpg.rf.66475fa1266122106255fe91d4788a16.txt  \n",
            " extracting: train/labels/image_274_jpg.rf.16ef9d790d219035b3133fd541c1c6ab.txt  \n",
            " extracting: train/labels/image_275_jpg.rf.4d07e234d8bca760af668988a26e5d97.txt  \n",
            " extracting: train/labels/image_277_jpg.rf.8c793f581c36c90565cf2ef535ff6c6a.txt  \n",
            " extracting: train/labels/image_278_jpg.rf.4d3b0b4c41a9c4b26e7864a5fe5143a9.txt  \n",
            " extracting: train/labels/image_279_jpg.rf.a7f98135efa8b01720131514685d9f7f.txt  \n",
            " extracting: train/labels/image_27_jpg.rf.5fb171e576c59f19e57d961d9dc58d6a.txt  \n",
            " extracting: train/labels/image_281_jpg.rf.7cdc119172ad37df1601fcd951fa16bd.txt  \n",
            " extracting: train/labels/image_283_jpg.rf.5c4110de3aba9d4904f0e4f2a39f3350.txt  \n",
            " extracting: train/labels/image_284_jpg.rf.ecfefc58618797580eff6198b56212b9.txt  \n",
            " extracting: train/labels/image_286_jpg.rf.07ed7c9e76dbfd921b9f6c40aa47aaf7.txt  \n",
            " extracting: train/labels/image_287_jpg.rf.a9d5bc0d88bd048dd0c503af22464843.txt  \n",
            " extracting: train/labels/image_290_jpg.rf.5d5446366db6d28b74596a6aa98dac5f.txt  \n",
            " extracting: train/labels/image_292_jpg.rf.dd69bc0d2b16f258797817e0ae8b8f06.txt  \n",
            " extracting: train/labels/image_293_jpg.rf.c3b1ed2a03855bf0aa9e80a0abad49ff.txt  \n",
            " extracting: train/labels/image_294_jpg.rf.dfb3397614a1cf1b710cd7b02c4e7e8c.txt  \n",
            " extracting: train/labels/image_295_jpg.rf.c1a7a985ed7ae45b9121889b531d0803.txt  \n",
            " extracting: train/labels/image_296_jpg.rf.cd25b0ac504bd87c979b3618d203c616.txt  \n",
            " extracting: train/labels/image_297_jpg.rf.540d3495ff136bd0603bc712963d1d86.txt  \n",
            " extracting: train/labels/image_298_jpg.rf.d6b4356d3dd45e98d45f4813879f6eee.txt  \n",
            " extracting: train/labels/image_299_jpg.rf.38140aa5cd4e9cbdcb86681cf92d4f48.txt  \n",
            " extracting: train/labels/image_2_jpg.rf.bbcdfcbf5458776f00beb3e62290620c.txt  \n",
            " extracting: train/labels/image_300_jpg.rf.dc806197aaf8b8cc3c028bec2dd9a326.txt  \n",
            " extracting: train/labels/image_302_jpg.rf.f1958b28b2af5d4c2b04814de0c7b6c8.txt  \n",
            " extracting: train/labels/image_303_jpg.rf.34bd52a31abf74dcf18dad935cd5e016.txt  \n",
            " extracting: train/labels/image_304_jpg.rf.28174e9cb0bc5e46fccc7477d1784342.txt  \n",
            " extracting: train/labels/image_305_jpg.rf.f46ca6990cf82f891ce479debcf69e31.txt  \n",
            " extracting: train/labels/image_306_jpg.rf.bc2de546ad31a7c00cd72cc7ed81803c.txt  \n",
            " extracting: train/labels/image_307_jpg.rf.8a745a1094c20957216440618c5a35ac.txt  \n",
            " extracting: train/labels/image_309_jpg.rf.dc3d3e9651e253ae665f2f83f0f61850.txt  \n",
            " extracting: train/labels/image_30_jpg.rf.0311a0f2697cdbc34526445c4c8da897.txt  \n",
            " extracting: train/labels/image_310_jpg.rf.e560cb6a25a1ab78d0fc3bd308618a73.txt  \n",
            " extracting: train/labels/image_312_jpg.rf.85bca6fa26dd1e74c2d21eed7e69f519.txt  \n",
            " extracting: train/labels/image_313_jpg.rf.333d935dcccf288b5494632e8b8343bc.txt  \n",
            " extracting: train/labels/image_317_jpg.rf.0c86cfe8caf1ed1cd1ff70487987f9cf.txt  \n",
            " extracting: train/labels/image_318_jpg.rf.4f897d17bec7ddf0f84e34591863edf1.txt  \n",
            " extracting: train/labels/image_319_jpg.rf.d2ab993908e75df229c9fcf2446d1e19.txt  \n",
            " extracting: train/labels/image_31_jpg.rf.295526ae2617243c9a1103999b997ca9.txt  \n",
            " extracting: train/labels/image_322_jpg.rf.5c709cf541a60344715e7b2b2f8ec6b2.txt  \n",
            " extracting: train/labels/image_324_jpg.rf.15002929409dcd1a0bf9789a368129bd.txt  \n",
            " extracting: train/labels/image_325_jpg.rf.46daf90db197296202545045794e2bd4.txt  \n",
            " extracting: train/labels/image_326_jpg.rf.b424fc7807ddd06e0f4593d7b4612d47.txt  \n",
            " extracting: train/labels/image_327_jpg.rf.15ecbc0ec33526001efaef9e337e9640.txt  \n",
            " extracting: train/labels/image_328_jpg.rf.f79009bbca49d089e9ac6c46785725bc.txt  \n",
            " extracting: train/labels/image_32_jpg.rf.f0359a4a4ab37ebabb84c4db544cac6d.txt  \n",
            " extracting: train/labels/image_332_jpg.rf.9a55dfc80cb4dca9ae9b6f0522f36b97.txt  \n",
            " extracting: train/labels/image_333_jpg.rf.a6a5888a9c2e87acadc7bb60df5d7eb5.txt  \n",
            " extracting: train/labels/image_334_jpg.rf.d3afe6ac7575b6bcf5be4d73c94bb7c8.txt  \n",
            " extracting: train/labels/image_337_jpg.rf.0753e52b40891f23d4c7e9872aa9c116.txt  \n",
            " extracting: train/labels/image_339_jpg.rf.d0c7b888701372f4b2d2f5b49e547ce7.txt  \n",
            " extracting: train/labels/image_344_jpg.rf.d0321c618ef431ba0cdc4e435c58d3a4.txt  \n",
            " extracting: train/labels/image_345_jpg.rf.348b767dbe241fbfce847be7b49da417.txt  \n",
            " extracting: train/labels/image_348_jpg.rf.d8b0eab397bf2540c0c50eb44b10f393.txt  \n",
            " extracting: train/labels/image_34_jpg.rf.d3cae00a6aeb797ef23eb9e5253f89ab.txt  \n",
            " extracting: train/labels/image_350_jpg.rf.d0cf3cf1643cae08829b0e038559cb71.txt  \n",
            " extracting: train/labels/image_351_jpg.rf.61da77381f3c7bd7d75d433a03bcd476.txt  \n",
            " extracting: train/labels/image_352_jpg.rf.a1ebf5c8e65acda4f529f4a53a9b3966.txt  \n",
            " extracting: train/labels/image_353_jpg.rf.fdf7cfeefe194fc06e0098b15a760b27.txt  \n",
            " extracting: train/labels/image_356_jpg.rf.68e5b3f775d3e253ed935fcda7867a63.txt  \n",
            " extracting: train/labels/image_358_jpg.rf.a60a9f84d9f6136e5b78fd2aff4225bd.txt  \n",
            " extracting: train/labels/image_359_jpg.rf.d93ffaa3d09ea6b9f6356246d5b0b7f9.txt  \n",
            " extracting: train/labels/image_360_jpg.rf.223d983eb2ccc2f9620835a5a6455ddd.txt  \n",
            " extracting: train/labels/image_362_jpg.rf.b40d2b538100d5cdd7796158fb619719.txt  \n",
            " extracting: train/labels/image_363_jpg.rf.02206fa677f6fa8fab2de17fb7d5d3ff.txt  \n",
            " extracting: train/labels/image_368_jpg.rf.207c7bf26de2e1bfdb1de461a19500cf.txt  \n",
            " extracting: train/labels/image_370_jpg.rf.b43ca9eb3c93f66eecd75c011e524285.txt  \n",
            " extracting: train/labels/image_371_jpg.rf.764a641ac84d8187a96ef32c84e841f1.txt  \n",
            " extracting: train/labels/image_372_jpg.rf.aefde902af796c012bc193a968050ee2.txt  \n",
            " extracting: train/labels/image_375_jpg.rf.f3a59e0dc89e4d044b4ee322012142ce.txt  \n",
            " extracting: train/labels/image_376_jpg.rf.4f966f44a015272bf555c50956e99986.txt  \n",
            " extracting: train/labels/image_379_jpg.rf.fc6c8ff680b7ac725757f91c67f6e716.txt  \n",
            " extracting: train/labels/image_384_jpg.rf.f83805d476c652add6cdca65b21f4b67.txt  \n",
            " extracting: train/labels/image_387_jpg.rf.05c4905a38f92833be288f03de0f8d41.txt  \n",
            " extracting: train/labels/image_388_jpg.rf.e53ff9e7ea7e8b6bdf039db28c5b0076.txt  \n",
            " extracting: train/labels/image_389_jpg.rf.612aa6e777c193aa13a19d9950863dd1.txt  \n",
            " extracting: train/labels/image_38_jpg.rf.e36bbb9af6eccffd1de2bf84de6886c2.txt  \n",
            " extracting: train/labels/image_390_jpg.rf.6f6897d64501953882f540cf445431f1.txt  \n",
            " extracting: train/labels/image_391_jpg.rf.ac43e6981ad58b99d4fa64d2e353eafc.txt  \n",
            " extracting: train/labels/image_394_jpg.rf.c8a4d576d58e8f84519da8cc373eaae4.txt  \n",
            " extracting: train/labels/image_395_jpg.rf.9435d41f7eeea3990c4ae59b19dd4bda.txt  \n",
            " extracting: train/labels/image_396_jpg.rf.aa9140a3be4041c6ef4a220a599354b4.txt  \n",
            " extracting: train/labels/image_397_jpg.rf.fa9e872c857420a55623ab7049bd027b.txt  \n",
            " extracting: train/labels/image_398_jpg.rf.f3bd3be58d6e1836ae84e1e159bf8d47.txt  \n",
            " extracting: train/labels/image_399_jpg.rf.a2779dab9652daa3df010ec0e761f0a7.txt  \n",
            " extracting: train/labels/image_39_jpg.rf.ed9d9ef09c9811d45d6613dad87ebf2d.txt  \n",
            " extracting: train/labels/image_3_jpg.rf.2e09713e052fd31b7efd67a9cf6ce097.txt  \n",
            " extracting: train/labels/image_400_jpg.rf.8984e30f59386b1f59a2c178180df47e.txt  \n",
            " extracting: train/labels/image_401_jpg.rf.c436297b11af958de67d21c3fdaa54be.txt  \n",
            " extracting: train/labels/image_404_jpg.rf.1d9019f436d38e5f79560f2405769a71.txt  \n",
            " extracting: train/labels/image_405_jpg.rf.db20a475776397798ab45a882ff97957.txt  \n",
            " extracting: train/labels/image_406_jpg.rf.c0d1af53304c0f3ed5a3433800ae79e5.txt  \n",
            " extracting: train/labels/image_407_jpg.rf.44d3a57634ec7c7f8f6dad1f7b22d623.txt  \n",
            " extracting: train/labels/image_408_jpg.rf.b2681b05b2a2242acb53cad863d10795.txt  \n",
            " extracting: train/labels/image_409_jpg.rf.07af6914b65450ff0b27aadb503f5282.txt  \n",
            " extracting: train/labels/image_411_jpg.rf.94e01ba841fb703801186273647e1ffc.txt  \n",
            " extracting: train/labels/image_412_jpg.rf.350709fe98bfc3ad3a3bb5dc6a30d6eb.txt  \n",
            " extracting: train/labels/image_413_jpg.rf.a4840c25b94a97067acbe1b41ce8f09c.txt  \n",
            " extracting: train/labels/image_414_jpg.rf.da9c7884b6ab1eabcad33bbbe4a57731.txt  \n",
            " extracting: train/labels/image_417_jpg.rf.174fa7792f07b6eb6cf8ed79583d1099.txt  \n",
            " extracting: train/labels/image_418_jpg.rf.3000fe14f8624314c417d57ea62cf582.txt  \n",
            " extracting: train/labels/image_419_jpg.rf.1cc0f19036fe4a1969cefb7f56189bcd.txt  \n",
            " extracting: train/labels/image_41_jpg.rf.988449d160c5e954f18a7598cf575cf0.txt  \n",
            " extracting: train/labels/image_420_jpg.rf.616d79157ad07bebc406afa0e61ac9f0.txt  \n",
            " extracting: train/labels/image_421_jpg.rf.983dae6b4b9d4ed58bae3410f1e2dddc.txt  \n",
            " extracting: train/labels/image_422_jpg.rf.ca900cee6701369a840958c7232a4969.txt  \n",
            " extracting: train/labels/image_423_jpg.rf.e205667d589bcdd8b7d9145abe9854cb.txt  \n",
            " extracting: train/labels/image_425_jpg.rf.3cfb436a4b0b6fe99995ab072fa84384.txt  \n",
            " extracting: train/labels/image_430_jpg.rf.574c94266fdd472046e488e44ed46b0a.txt  \n",
            " extracting: train/labels/image_431_jpg.rf.e0f3487e9b6c11e7662d6679b1d83935.txt  \n",
            " extracting: train/labels/image_432_jpg.rf.160c8ae5970983c5e5f96a9450460594.txt  \n",
            " extracting: train/labels/image_433_jpg.rf.680d0be9ea139526a74e4bed0411b254.txt  \n",
            " extracting: train/labels/image_435_jpg.rf.4e3d94712aa3fd4d1c2a26edc484e553.txt  \n",
            " extracting: train/labels/image_437_jpg.rf.32da304b5290fa9073f4b55955c82a5c.txt  \n",
            " extracting: train/labels/image_438_jpg.rf.70779331525b4eb70b04a913600fc1d0.txt  \n",
            " extracting: train/labels/image_441_jpg.rf.3604ce57f7159abde817ac9856b775ec.txt  \n",
            " extracting: train/labels/image_443_jpg.rf.e94f923d04e27d7d223b5d27d82982fc.txt  \n",
            " extracting: train/labels/image_444_jpg.rf.c171cf88aecec2aeeb9916f43547d94c.txt  \n",
            " extracting: train/labels/image_445_jpg.rf.f33a3b849dcdab3dd356215f367fc414.txt  \n",
            " extracting: train/labels/image_446_jpg.rf.313ac05b9df02ae5cd62dda5662ec5bd.txt  \n",
            " extracting: train/labels/image_449_jpg.rf.33ae583b1a231d58520f304feb96593b.txt  \n",
            " extracting: train/labels/image_44_jpg.rf.4646c7b5ea918d357f7b997f5f077992.txt  \n",
            " extracting: train/labels/image_450_jpg.rf.3fe03acfce0803ee1ae2444dad2c52a1.txt  \n",
            " extracting: train/labels/image_451_jpg.rf.5c4f7507475078fdfd9a6c9fba5a9e02.txt  \n",
            " extracting: train/labels/image_452_jpg.rf.92b201dc548b2bb3a2b1c1ca1bdd1ab2.txt  \n",
            " extracting: train/labels/image_453_jpg.rf.02dd4989709ba4b8ddd4abbf215bdf5c.txt  \n",
            " extracting: train/labels/image_454_jpg.rf.dd97c0aa47184ee3a2e7827638558ea7.txt  \n",
            " extracting: train/labels/image_455_jpg.rf.41092522de61b325ad397a6180c1da7e.txt  \n",
            " extracting: train/labels/image_456_jpg.rf.84f9a8f2c6abfeb3fe4ff373209336b7.txt  \n",
            " extracting: train/labels/image_457_jpg.rf.1cbd3e6e8775f4f054f53f05e074ca50.txt  \n",
            " extracting: train/labels/image_458_jpg.rf.78f778d399e7a7bfd6f458a439b0b395.txt  \n",
            " extracting: train/labels/image_459_jpg.rf.2b327bc09e142cf88d304a29334fef26.txt  \n",
            " extracting: train/labels/image_45_jpg.rf.180a5b63b560550f9d0a5553cfa81f0c.txt  \n",
            " extracting: train/labels/image_460_jpg.rf.e781eea3c0da0045a695c733e754c1cc.txt  \n",
            " extracting: train/labels/image_463_jpg.rf.9b464995f3535377cb8b2a9a0f78aac4.txt  \n",
            " extracting: train/labels/image_464_jpg.rf.f3d245e634237914a70487e927e1a5c9.txt  \n",
            " extracting: train/labels/image_466_jpg.rf.1e8dde2ea2798af30d664f0cada13a30.txt  \n",
            " extracting: train/labels/image_467_jpg.rf.ee6a3b59c4f752ef90f523292d0dc0fc.txt  \n",
            " extracting: train/labels/image_468_jpg.rf.9badf34a43e745c6f0972263a7c18562.txt  \n",
            " extracting: train/labels/image_46_jpg.rf.499a758cda9964c101f6def018e596ea.txt  \n",
            " extracting: train/labels/image_470_jpg.rf.535c0919dbc55b3e48d0b5ac70769ca3.txt  \n",
            " extracting: train/labels/image_471_jpg.rf.94177ce134a1992c9bf12ab1c282cf8c.txt  \n",
            " extracting: train/labels/image_473_jpg.rf.677e95c48879d1eb39fe9f5d85796398.txt  \n",
            " extracting: train/labels/image_474_jpg.rf.bc7993454855633422032caaf39fc400.txt  \n",
            " extracting: train/labels/image_475_jpg.rf.6e2e5014388c01d7e34e590f4903d2b2.txt  \n",
            " extracting: train/labels/image_476_jpg.rf.cefc1615cb6d7f74d83ac434c9144eed.txt  \n",
            " extracting: train/labels/image_480_jpg.rf.00d258278b2a37ab95de0570415f95a8.txt  \n",
            " extracting: train/labels/image_481_jpg.rf.9ed1533c5af94b70e6da6d979af7697e.txt  \n",
            " extracting: train/labels/image_485_jpg.rf.be826d8d5ab4eba53319bed1bfc0fbdf.txt  \n",
            " extracting: train/labels/image_486_jpg.rf.bf5f9fc578def031d67fa9335423dd34.txt  \n",
            " extracting: train/labels/image_487_jpg.rf.86b86697ab81e9481687b359b1b4add0.txt  \n",
            " extracting: train/labels/image_489_jpg.rf.f766142c2109bf5415eb1e78fbe12dc5.txt  \n",
            " extracting: train/labels/image_48_jpg.rf.002cca1bd84cdf2005e0853a1929dc30.txt  \n",
            " extracting: train/labels/image_490_jpg.rf.b7043ace8679d8b918635e61b1d1c10c.txt  \n",
            " extracting: train/labels/image_491_jpg.rf.7ac7560443896d91dc4467c21e8b72f3.txt  \n",
            " extracting: train/labels/image_492_jpg.rf.10c3c4f05c3b9a1c6e56ff2e87432326.txt  \n",
            " extracting: train/labels/image_493_jpg.rf.53d8514f5e27895a98e03dd87261753c.txt  \n",
            " extracting: train/labels/image_494_jpg.rf.b2a240a749c3fc71f50abd9cdc4c0382.txt  \n",
            " extracting: train/labels/image_495_jpg.rf.c4f373925c538ecbf353b979fa348fb7.txt  \n",
            " extracting: train/labels/image_497_jpg.rf.b9665e11790e25f1611c723ece6cea46.txt  \n",
            " extracting: train/labels/image_499_jpg.rf.fad93b9797d4cce6257b4d413c7b5ac1.txt  \n",
            " extracting: train/labels/image_500_jpg.rf.023412960628bd5cc81fa73c56b50537.txt  \n",
            " extracting: train/labels/image_501_jpg.rf.deb16e957d4202e6dbb596b4ad9d7976.txt  \n",
            " extracting: train/labels/image_502_jpg.rf.52904422a97c194d1fe048c2d2fdb755.txt  \n",
            " extracting: train/labels/image_504_jpg.rf.0f8fe2dffb3950d6130d5fab400d3f21.txt  \n",
            " extracting: train/labels/image_505_jpg.rf.d24041e61cd65d9bd198791f95025a1b.txt  \n",
            " extracting: train/labels/image_506_jpg.rf.41f1590a155680829ee2b4db62d65e87.txt  \n",
            " extracting: train/labels/image_507_jpg.rf.9945c6902d7d4c9e60b3d39e5c91c02d.txt  \n",
            " extracting: train/labels/image_509_jpg.rf.ac1a64b6cd6373cd7c75f2d3fb1cc542.txt  \n",
            " extracting: train/labels/image_50_jpg.rf.d7a408c3922a7493fb5ca62eb5b3e6d3.txt  \n",
            " extracting: train/labels/image_510_jpg.rf.559383f725a1026e758a7c1a5ef5249d.txt  \n",
            " extracting: train/labels/image_512_jpg.rf.f50471270950bcb0d0708ae1fb600f8b.txt  \n",
            " extracting: train/labels/image_513_jpg.rf.ea069b87c86467bc81b81bd2a8349a68.txt  \n",
            " extracting: train/labels/image_514_jpg.rf.c0734e23f83dacd92f73c769152f4c61.txt  \n",
            " extracting: train/labels/image_515_jpg.rf.a6f170817a7274e9cc76dd81a01f11f3.txt  \n",
            " extracting: train/labels/image_516_jpg.rf.cd65aee13d08b03af0e3719f6942f976.txt  \n",
            " extracting: train/labels/image_517_jpg.rf.3bdbd0a1a49a1fed43aab65bc6d6e60a.txt  \n",
            " extracting: train/labels/image_519_jpg.rf.76a610b3fb696c071a4672268b3da386.txt  \n",
            " extracting: train/labels/image_51_jpg.rf.e55582076d19c5247d248f1b7703afe0.txt  \n",
            " extracting: train/labels/image_521_jpg.rf.b2aa95c8971adf418f09f546a08849ac.txt  \n",
            " extracting: train/labels/image_523_jpg.rf.dffff393426b3806892eb75c9919593b.txt  \n",
            " extracting: train/labels/image_524_jpg.rf.1d09d36f629e602ad64eb3e5bf1b22d5.txt  \n",
            " extracting: train/labels/image_525_jpg.rf.e753abea382b157cf7bb537e253951d3.txt  \n",
            " extracting: train/labels/image_526_jpg.rf.cbe1136d6cf1d7a3c8f96f10e8be38e1.txt  \n",
            " extracting: train/labels/image_527_jpg.rf.93fa8ebcbab43bd888d1b374499b1543.txt  \n",
            " extracting: train/labels/image_529_jpg.rf.de19b245b2d187ed823e4d6c56d86dea.txt  \n",
            " extracting: train/labels/image_52_jpg.rf.95f55a6df06310b2a72a8544007818a3.txt  \n",
            " extracting: train/labels/image_530_jpg.rf.0cf8087677a3ed1f195a5cfb627dd22d.txt  \n",
            " extracting: train/labels/image_531_jpg.rf.67c2dc5a6acae4c63212b393699e93ff.txt  \n",
            " extracting: train/labels/image_534_jpg.rf.956f4744a4ea591f22c9f83ae5ed216f.txt  \n",
            " extracting: train/labels/image_535_jpg.rf.f6890abfbd65196662e268d8b09b5e31.txt  \n",
            " extracting: train/labels/image_536_jpg.rf.1f254bcce2e22d76123a861cd7881d6a.txt  \n",
            " extracting: train/labels/image_537_jpg.rf.db2eea6eb5fa0dd92ee929f004b16546.txt  \n",
            " extracting: train/labels/image_538_jpg.rf.c04cb72221c1d93e9a5c1f5392f07b46.txt  \n",
            " extracting: train/labels/image_539_jpg.rf.ccdcc4cba80c494f4424cd59b07640e3.txt  \n",
            " extracting: train/labels/image_540_jpg.rf.f7719111e7d75da471de87e4456af83e.txt  \n",
            " extracting: train/labels/image_541_jpg.rf.7311cc0049930a6725dc086cd13a0cea.txt  \n",
            " extracting: train/labels/image_542_jpg.rf.ac61aec6011a4027d25b9a4c004efedd.txt  \n",
            " extracting: train/labels/image_543_jpg.rf.0e1a058c315dff3e0fed3967516afc05.txt  \n",
            " extracting: train/labels/image_545_jpg.rf.e9e45a9e11062fe2760fcc2fd36486d9.txt  \n",
            " extracting: train/labels/image_548_jpg.rf.1312e6867eadc426444f0265511889a8.txt  \n",
            " extracting: train/labels/image_549_jpg.rf.8eaa87bb54e9f90840f3f8611d1f291d.txt  \n",
            " extracting: train/labels/image_550_jpg.rf.df8f94b463d4b645f0631c6d317da4d4.txt  \n",
            " extracting: train/labels/image_552_jpg.rf.a5aa0048b62b6118d26ba40c794d722d.txt  \n",
            " extracting: train/labels/image_554_jpg.rf.7e87110daa64eef7641d8d32fd370f46.txt  \n",
            " extracting: train/labels/image_555_jpg.rf.3e74820987e6b17b7c9e25e89d97e047.txt  \n",
            " extracting: train/labels/image_556_jpg.rf.771727c583303d3a958e63d98e82277b.txt  \n",
            " extracting: train/labels/image_557_jpg.rf.c4adc9e1b03cbc7f433056f2f17ca2d6.txt  \n",
            " extracting: train/labels/image_55_jpg.rf.634c49971c6184c7a80a57d425e708d5.txt  \n",
            " extracting: train/labels/image_560_jpg.rf.805a06ca7cc5bbe9494d074bed9bf98f.txt  \n",
            " extracting: train/labels/image_562_jpg.rf.57473fadeb79d969e8038323685d058b.txt  \n",
            " extracting: train/labels/image_563_jpg.rf.f752496968ed9b70157bd6ed8d28b340.txt  \n",
            " extracting: train/labels/image_564_jpg.rf.19c774ca330d3dc5e675cff301e4aae9.txt  \n",
            " extracting: train/labels/image_565_jpg.rf.d22ac17e88a30d5d3a6c1308dfa564d4.txt  \n",
            " extracting: train/labels/image_567_jpg.rf.1d55f7e86c1ddeca66aeb163f1ba1aab.txt  \n",
            " extracting: train/labels/image_568_jpg.rf.cfb881e80b9fe52db42690568dffa4d0.txt  \n",
            " extracting: train/labels/image_569_jpg.rf.cd1c823bd23fba8c6bcad0bbf69ede21.txt  \n",
            " extracting: train/labels/image_570_jpg.rf.b5ed46573fccb174922dfaf78c6b5255.txt  \n",
            " extracting: train/labels/image_571_jpg.rf.cd32c362800ab0e8dce0ec50480d362c.txt  \n",
            " extracting: train/labels/image_573_jpg.rf.0b648529a3fb7d0159ea45b61dd9d1c2.txt  \n",
            " extracting: train/labels/image_576_jpg.rf.b19b5d0b5ee0abd25801692b65b64992.txt  \n",
            " extracting: train/labels/image_577_jpg.rf.fb66d0b05c2ea42f8dc54eca8f0c93f4.txt  \n",
            " extracting: train/labels/image_579_jpg.rf.183c02b732abf9c29643b2f391f713e2.txt  \n",
            " extracting: train/labels/image_57_jpg.rf.809860506485fa65d752925c10a39875.txt  \n",
            " extracting: train/labels/image_580_jpg.rf.2770a22573e9b5ec055dc4e2d9ff89b9.txt  \n",
            " extracting: train/labels/image_583_jpg.rf.5e10204f99ffd4a10ba8eb1a3b73fca8.txt  \n",
            " extracting: train/labels/image_584_jpg.rf.92a535578862b03c4ea76897a201ce36.txt  \n",
            " extracting: train/labels/image_585_jpg.rf.70030c86323343ed7a10cb9a913a0342.txt  \n",
            " extracting: train/labels/image_588_jpg.rf.6e913ab9f671e00d38d1f680da57d838.txt  \n",
            " extracting: train/labels/image_589_jpg.rf.d74193212f5a7ed2c2ee404092d519d5.txt  \n",
            " extracting: train/labels/image_58_jpg.rf.03b717798c6f4398464f42e49ff689d1.txt  \n",
            " extracting: train/labels/image_592_jpg.rf.e938ea9bc2ea065b43ea3d94bfbaa17d.txt  \n",
            " extracting: train/labels/image_595_jpg.rf.47c32ba6522aaeae5990d70e6e051b1b.txt  \n",
            " extracting: train/labels/image_597_jpg.rf.74406fb3b23a0e781fd939de93953ba6.txt  \n",
            " extracting: train/labels/image_598_jpg.rf.bbcd175079dc181389dfdeb54f15a743.txt  \n",
            " extracting: train/labels/image_599_jpg.rf.581af3868604cc334e0333fd2cf2c872.txt  \n",
            " extracting: train/labels/image_59_jpg.rf.fd9efe6d5c6dda571021bcd761e0385b.txt  \n",
            " extracting: train/labels/image_5_jpg.rf.d9b15d561c6f24cfd4a91e84c7dd039b.txt  \n",
            " extracting: train/labels/image_602_jpg.rf.2599959077d4bc1ea99212f9a778dffd.txt  \n",
            " extracting: train/labels/image_604_jpg.rf.c5c378e6a867633648f480c476a352aa.txt  \n",
            " extracting: train/labels/image_605_jpg.rf.bb3111ca97b0858b2e95b35ffa101a70.txt  \n",
            " extracting: train/labels/image_607_jpg.rf.f9de55337eebe4e65cdcde2363c0bb00.txt  \n",
            " extracting: train/labels/image_608_jpg.rf.d19ab42695550df56c6538ee2c29ec53.txt  \n",
            " extracting: train/labels/image_609_jpg.rf.57439f9e8367812c4161b2c596a07641.txt  \n",
            " extracting: train/labels/image_60_jpg.rf.91fa54a8e4056524044fff58285cea24.txt  \n",
            " extracting: train/labels/image_610_jpg.rf.3a1623ac4129a842b7c1a48b1922c21e.txt  \n",
            " extracting: train/labels/image_611_jpg.rf.e22cfdb7e1569531c14d0e03fa7de271.txt  \n",
            " extracting: train/labels/image_612_jpg.rf.0e18051a56c815ae56ac2efdca569a93.txt  \n",
            " extracting: train/labels/image_614_jpg.rf.8911e8d700f66a8482a28b2989f2a541.txt  \n",
            " extracting: train/labels/image_615_jpg.rf.c72a80c0812258a122884927989f3264.txt  \n",
            " extracting: train/labels/image_617_jpg.rf.219f5e690d1bffb46329b130939ed68e.txt  \n",
            " extracting: train/labels/image_61_jpg.rf.13fc33b313736ec75292fc0490014ed0.txt  \n",
            " extracting: train/labels/image_620_jpg.rf.f2ff519bea981f97686e2326cde70a41.txt  \n",
            " extracting: train/labels/image_621_jpg.rf.6293b33ec4894191f7dd99a3af2c7e34.txt  \n",
            " extracting: train/labels/image_622_jpg.rf.7dd75555af6c786be41fd3de814b0ddb.txt  \n",
            " extracting: train/labels/image_623_jpg.rf.af7a1db97141c258ca3deacd042dc224.txt  \n",
            " extracting: train/labels/image_624_jpg.rf.d4c519af119683281bd1f8b2d3d1a8db.txt  \n",
            " extracting: train/labels/image_627_jpg.rf.077638960f86f8763aaa59b6ab7547c0.txt  \n",
            " extracting: train/labels/image_628_jpg.rf.1574dd1111c1ea17e86920cfdd668c28.txt  \n",
            " extracting: train/labels/image_629_jpg.rf.c51e4655a608fafe58e7b95ee8c49c2b.txt  \n",
            " extracting: train/labels/image_630_jpg.rf.7f6c218d9d92f84b20ebe2ba980e7dee.txt  \n",
            " extracting: train/labels/image_631_jpg.rf.9f62d965918fb33b1c742c727ea8dd28.txt  \n",
            " extracting: train/labels/image_632_jpg.rf.07f3c01a87d193631190bbe43d1a0065.txt  \n",
            " extracting: train/labels/image_635_jpg.rf.9fe2e03c5c64415c872cb239668e9392.txt  \n",
            " extracting: train/labels/image_636_jpg.rf.3eb3d23cff51c3459e8462fdd4a59339.txt  \n",
            " extracting: train/labels/image_637_jpg.rf.75b25edb1869e4314bc242a424395bdc.txt  \n",
            " extracting: train/labels/image_638_jpg.rf.c8f4a483e9df4054a71cff66455474b0.txt  \n",
            " extracting: train/labels/image_639_jpg.rf.4de16ebc64a7cb96a29e98df5b4e8907.txt  \n",
            " extracting: train/labels/image_63_jpg.rf.13c6b82e74c12dce4fa939813d6cfafa.txt  \n",
            " extracting: train/labels/image_640_jpg.rf.f522cd6e44e6a41816fed381d0e0c1b8.txt  \n",
            " extracting: train/labels/image_642_jpg.rf.5cb817a210158428c9e6c4a44d6070a4.txt  \n",
            " extracting: train/labels/image_643_jpg.rf.3e32768585f7e28d84965f2b615fa28b.txt  \n",
            " extracting: train/labels/image_644_jpg.rf.a4ff825e67f81488cf7deb02164aaa3c.txt  \n",
            " extracting: train/labels/image_645_jpg.rf.589ae7d4e6f121c2245d8c484e7cd3e2.txt  \n",
            " extracting: train/labels/image_646_jpg.rf.324547afd6031d8f997c06fe3c6c7139.txt  \n",
            " extracting: train/labels/image_647_jpg.rf.f774091ba98466d7d0b7510df812ef48.txt  \n",
            " extracting: train/labels/image_648_jpg.rf.71ba390823035214ef3eafbe0602245d.txt  \n",
            " extracting: train/labels/image_64_jpg.rf.75897a2629e8deb6e98e996e56f28ada.txt  \n",
            " extracting: train/labels/image_650_jpg.rf.06101a0e0cb4547934d2ab1a2c258189.txt  \n",
            " extracting: train/labels/image_652_jpg.rf.cb463d7be67136160146dea8931ea9d1.txt  \n",
            " extracting: train/labels/image_653_jpg.rf.190adaf5eef0536a82c29ea87786bf46.txt  \n",
            " extracting: train/labels/image_658_jpg.rf.e551ce1c7f7cf3153c1efb5a0307ec45.txt  \n",
            " extracting: train/labels/image_659_jpg.rf.0eea0e8f521045176bd6cd372bfab16e.txt  \n",
            " extracting: train/labels/image_65_jpg.rf.5e3a92b201408c848aa64f6ade53f275.txt  \n",
            " extracting: train/labels/image_660_jpg.rf.f5d5c143fed387ef48d9b76ae04387f2.txt  \n",
            " extracting: train/labels/image_661_jpg.rf.886e5576368c5e25b0635263e50c9fe2.txt  \n",
            " extracting: train/labels/image_664_jpg.rf.3f9a1b8105ce3eae30730d66bf002880.txt  \n",
            " extracting: train/labels/image_666_jpg.rf.15114fc576b473556172e8aa6d2a94b6.txt  \n",
            " extracting: train/labels/image_667_jpg.rf.afa3a4f480779b3167eb2a97e47bebb0.txt  \n",
            " extracting: train/labels/image_668_jpg.rf.81243ebfdc38f53e2c64622a5ae9eba7.txt  \n",
            " extracting: train/labels/image_669_jpg.rf.4cadcaacfc9597e51b93cd5637237b72.txt  \n",
            " extracting: train/labels/image_670_jpg.rf.5df0d56f4cbc36c7df4b620a2e741357.txt  \n",
            " extracting: train/labels/image_671_jpg.rf.08aecbe798ae532aab69c8e16b4f5e16.txt  \n",
            " extracting: train/labels/image_672_jpg.rf.0412a1cefb735505bbeb6b3f9a991502.txt  \n",
            " extracting: train/labels/image_673_jpg.rf.e0e04009aca52ca6b77b8c94c51124ff.txt  \n",
            " extracting: train/labels/image_674_jpg.rf.366bbfbda96e155c442aaba9496dfa1e.txt  \n",
            " extracting: train/labels/image_675_jpg.rf.b68a474dcdcefe950f56c74c957eff17.txt  \n",
            " extracting: train/labels/image_676_jpg.rf.f632b4971ae9ed6aafa26a12d4b16674.txt  \n",
            " extracting: train/labels/image_677_jpg.rf.47b5b61f3b6e01b5703600d28b805e3d.txt  \n",
            " extracting: train/labels/image_678_jpg.rf.26bc30869a87bc947d8ba299e83f5222.txt  \n",
            " extracting: train/labels/image_679_jpg.rf.4093b13d3ba9c9712ac4f75a8574c87c.txt  \n",
            " extracting: train/labels/image_67_jpg.rf.22ba561f5dae952668536727ee88ab05.txt  \n",
            " extracting: train/labels/image_680_jpg.rf.5c445316626c3dadee6572670b9dc221.txt  \n",
            " extracting: train/labels/image_681_jpg.rf.52f1bf6143a65c2b79b96d76e6b49fbb.txt  \n",
            " extracting: train/labels/image_683_jpg.rf.c0ca772d7d97cc844a16dc1280766119.txt  \n",
            " extracting: train/labels/image_685_jpg.rf.86a7d35697ea0769d8a0447fd96b37bc.txt  \n",
            " extracting: train/labels/image_686_jpg.rf.becee3193886b4d1c07058b40aabbc6d.txt  \n",
            " extracting: train/labels/image_687_jpg.rf.e3ad805fc88afda305b88d90eb636136.txt  \n",
            " extracting: train/labels/image_688_jpg.rf.cd2105ed97f3e5d994088c207501b4f5.txt  \n",
            " extracting: train/labels/image_689_jpg.rf.3af8a26d834ea80f90006316199c3409.txt  \n",
            " extracting: train/labels/image_690_jpg.rf.1dc520bc3488fa50ebc79f643775abf2.txt  \n",
            " extracting: train/labels/image_691_jpg.rf.c8d45bf97fa67dcdd488bc2d31828e96.txt  \n",
            " extracting: train/labels/image_692_jpg.rf.8c7cf371924802115c7ef08e26a0ac65.txt  \n",
            " extracting: train/labels/image_693_jpg.rf.c8c053a65eea39a9b1441a63764e6d5e.txt  \n",
            " extracting: train/labels/image_694_jpg.rf.c75322f0d5d4c7672ad98a759bdff7dd.txt  \n",
            " extracting: train/labels/image_696_jpg.rf.3a1c64a9eaa1fdf65f1bc0b81b3d43d6.txt  \n",
            " extracting: train/labels/image_697_jpg.rf.429c2eeccecf59b2dd461ad334d73bdc.txt  \n",
            " extracting: train/labels/image_698_jpg.rf.be9ea3e4d4c918a6d90f44c72695e91a.txt  \n",
            " extracting: train/labels/image_699_jpg.rf.adc75be89b247fe426211d9e277393a2.txt  \n",
            " extracting: train/labels/image_69_jpg.rf.7600b280c6c2f34ad6bd9a000927f2ef.txt  \n",
            " extracting: train/labels/image_701_jpg.rf.5545a1a2cd1115ec848c479dae81c508.txt  \n",
            " extracting: train/labels/image_702_jpg.rf.b77e2c7c57c15f9ccb400f823aeda79b.txt  \n",
            " extracting: train/labels/image_704_jpg.rf.3afeaf4d5a6865accf42f44aefae68d4.txt  \n",
            " extracting: train/labels/image_706_jpg.rf.dd2d4f3ff2e581436acbb7e5a1f50a7b.txt  \n",
            " extracting: train/labels/image_708_jpg.rf.43abaf910f400d7f94754601fb40fb01.txt  \n",
            " extracting: train/labels/image_712_jpg.rf.74955959a2e3051e76956fd0f7c43170.txt  \n",
            " extracting: train/labels/image_713_jpg.rf.ee6e54a77a49f631fff01315b1de755f.txt  \n",
            " extracting: train/labels/image_714_jpg.rf.bbae1f938710680f3a9caade1d558cfb.txt  \n",
            " extracting: train/labels/image_715_jpg.rf.d0fa92371d9921e78e73b8cb96e944a3.txt  \n",
            " extracting: train/labels/image_716_jpg.rf.7855ea6be54f756ab87e76bb07d7a89e.txt  \n",
            " extracting: train/labels/image_717_jpg.rf.d154a97955a141e710ecae9725f85b81.txt  \n",
            " extracting: train/labels/image_718_jpg.rf.c5f301e6475f966c0fbbdf2216d9421e.txt  \n",
            " extracting: train/labels/image_71_jpg.rf.e9a145a72cf65372fc317d6815dd0f40.txt  \n",
            " extracting: train/labels/image_721_jpg.rf.769a49ff5e37950765eb4e902b0ea965.txt  \n",
            " extracting: train/labels/image_723_jpg.rf.f49d80d453e97e8fe896701004cbfd3a.txt  \n",
            " extracting: train/labels/image_725_jpg.rf.ded43df94bf8478cdaf24cce6cf72db8.txt  \n",
            " extracting: train/labels/image_726_jpg.rf.589b5873e13be997cc173fa72e348217.txt  \n",
            " extracting: train/labels/image_727_jpg.rf.d79130fc1b30323f57b9e939ee04659b.txt  \n",
            " extracting: train/labels/image_728_jpg.rf.b6a3ce2613587dc0a835846b77de3e35.txt  \n",
            " extracting: train/labels/image_72_jpg.rf.e348b31a41cfe28eb96530328f927045.txt  \n",
            " extracting: train/labels/image_731_jpg.rf.810a96995d9745e0c6f7a522914095d0.txt  \n",
            " extracting: train/labels/image_734_jpg.rf.4a8e1e87ddc35b3a99428f0204b45b6c.txt  \n",
            " extracting: train/labels/image_737_jpg.rf.a2c7b136ddf10fcab4263d07a63f4f84.txt  \n",
            " extracting: train/labels/image_738_jpg.rf.d062c9eccc8d58a726e88f28061d36ed.txt  \n",
            " extracting: train/labels/image_739_jpg.rf.8018986213baa1e655ee71063a7044ce.txt  \n",
            " extracting: train/labels/image_73_jpg.rf.a5114e003ce72f3f55931f6bd23d9a3b.txt  \n",
            " extracting: train/labels/image_740_jpg.rf.e715fb15499e16ea671975f42cc93450.txt  \n",
            " extracting: train/labels/image_741_jpg.rf.8ab936621ea902bc4fc853d305e9da91.txt  \n",
            " extracting: train/labels/image_743_jpg.rf.f94fd83d09426026f79cef7f53eb5e71.txt  \n",
            " extracting: train/labels/image_744_jpg.rf.71d8f2f1a835cb1139588f1faac2090e.txt  \n",
            " extracting: train/labels/image_745_jpg.rf.91c5165335f72ec73bf51e538a355cea.txt  \n",
            " extracting: train/labels/image_746_jpg.rf.ff002d3778937124a59a99fb5ace6fe0.txt  \n",
            " extracting: train/labels/image_747_jpg.rf.49e6eaf7d21c2bcb567de8d3f524bdc2.txt  \n",
            " extracting: train/labels/image_749_jpg.rf.5d538f91da8c8811fa6e394c516c6f44.txt  \n",
            " extracting: train/labels/image_74_jpg.rf.8d36164bf3d3808892d08b3854034e5a.txt  \n",
            " extracting: train/labels/image_751_jpg.rf.7c04c2029611ddb1fea743dae4f4efeb.txt  \n",
            " extracting: train/labels/image_752_jpg.rf.c6b74cf3721752e3ffe7a25efe6aea10.txt  \n",
            " extracting: train/labels/image_753_jpg.rf.323c6fc952e9b03f7071eeceec457249.txt  \n",
            " extracting: train/labels/image_756_jpg.rf.9bf7dde84d025df2b2e9c6a3ecb42290.txt  \n",
            " extracting: train/labels/image_757_jpg.rf.51fb63283e70df5a25b20953f6485a5a.txt  \n",
            " extracting: train/labels/image_758_jpg.rf.025d5e335f516914e250237540392b1a.txt  \n",
            " extracting: train/labels/image_759_jpg.rf.0e645fc757a992d0a524f885beef1fe6.txt  \n",
            " extracting: train/labels/image_75_jpg.rf.0a443fe1581f1f6a6d50054da9cf3386.txt  \n",
            " extracting: train/labels/image_760_jpg.rf.0531dbcacc3a903f42e3190b61de8764.txt  \n",
            " extracting: train/labels/image_761_jpg.rf.9758748fd81b3e633ff4c46414f1582b.txt  \n",
            " extracting: train/labels/image_762_jpg.rf.36a6b973e4fb891f312f4f6158db705e.txt  \n",
            " extracting: train/labels/image_764_jpg.rf.3df7300db385069f4b72296a8b519765.txt  \n",
            " extracting: train/labels/image_765_jpg.rf.0b81c5eeef9e453d70b6060108e0e9a8.txt  \n",
            " extracting: train/labels/image_767_jpg.rf.93442ef757f4d81c60b0fd8e978ce6d1.txt  \n",
            " extracting: train/labels/image_768_jpg.rf.43b2dba5169244e0c12f233cb34ab5d7.txt  \n",
            " extracting: train/labels/image_769_jpg.rf.dcd58508230607e217ab36df69744dda.txt  \n",
            " extracting: train/labels/image_76_jpg.rf.6b4156c5a32b1a8afe4dde4aadbe2bc2.txt  \n",
            " extracting: train/labels/image_770_jpg.rf.e4a78c1d12321c0cabaa96ebe504b2fb.txt  \n",
            " extracting: train/labels/image_771_jpg.rf.3690a3be8179a58e31f362678945e0fa.txt  \n",
            " extracting: train/labels/image_774_jpg.rf.490d9a4579d7c58e1e5ed27e0038f817.txt  \n",
            " extracting: train/labels/image_777_jpg.rf.aab5ec7689a97843db3d964bf80c23da.txt  \n",
            " extracting: train/labels/image_778_jpg.rf.be77603e3e01feb9d166872f103c3597.txt  \n",
            " extracting: train/labels/image_779_jpg.rf.29fb41cfc272d458a2a204a558bb1862.txt  \n",
            " extracting: train/labels/image_77_jpg.rf.66f96caf071ae62c26310e1ad2d54107.txt  \n",
            " extracting: train/labels/image_780_jpg.rf.d278e738feb7129b78b14e876931e084.txt  \n",
            " extracting: train/labels/image_781_jpg.rf.da61d80b25636fcb4a683395291f61e4.txt  \n",
            " extracting: train/labels/image_783_jpg.rf.03e57e8976a398882c6a6f0f959a9880.txt  \n",
            " extracting: train/labels/image_784_jpg.rf.4ce79811f0eb4451781ad1db769f1afb.txt  \n",
            " extracting: train/labels/image_786_jpg.rf.4cae62e84824f58ed64964a0213daf53.txt  \n",
            " extracting: train/labels/image_787_jpg.rf.5a06121eb2e1133529141b5e4347dfb0.txt  \n",
            " extracting: train/labels/image_788_jpg.rf.d80619ec31c2497c70be6e6c7b52c771.txt  \n",
            " extracting: train/labels/image_789_jpg.rf.7472efce5ee966f3ed90ad418f12d1f9.txt  \n",
            " extracting: train/labels/image_78_jpg.rf.9f012bd557513e1b418e6ad3d43c7322.txt  \n",
            " extracting: train/labels/image_790_jpg.rf.2e876fdf1b1f36fde974221eaf7d6184.txt  \n",
            " extracting: train/labels/image_793_jpg.rf.1069ce4872e8543627e4e0429f812397.txt  \n",
            " extracting: train/labels/image_794_jpg.rf.2e21f119f4fcf8b8a74ac06436436854.txt  \n",
            " extracting: train/labels/image_795_jpg.rf.59467cf92379912a95d02650fc8df9b4.txt  \n",
            " extracting: train/labels/image_796_jpg.rf.26893a216d4c9ed7c11acf037698abac.txt  \n",
            " extracting: train/labels/image_797_jpg.rf.65ef2d4d9adc627d337156e421885486.txt  \n",
            " extracting: train/labels/image_798_jpg.rf.7c344b1b6426147b7b270295568badc8.txt  \n",
            " extracting: train/labels/image_799_jpg.rf.8d98b1478ad9eea00c1a2c1a616586f6.txt  \n",
            " extracting: train/labels/image_79_jpg.rf.0ed7c83e0b74f878b2fa2c3adbb5211c.txt  \n",
            " extracting: train/labels/image_801_jpg.rf.90e475bd0195f4dc2db257c43ae8aba6.txt  \n",
            " extracting: train/labels/image_803_jpg.rf.504c7f4dcb796bce6823864dca324b36.txt  \n",
            " extracting: train/labels/image_804_jpg.rf.9dfa79b604ccec208724b42cbc238063.txt  \n",
            " extracting: train/labels/image_805_jpg.rf.3ffed45ea779d98aea75b2a5f6396bc5.txt  \n",
            " extracting: train/labels/image_807_jpg.rf.2e1116d77de88112f9616ed3587696de.txt  \n",
            " extracting: train/labels/image_809_jpg.rf.2baf6b8c7be9bbdeba3fd38b508ca698.txt  \n",
            " extracting: train/labels/image_810_jpg.rf.b2f822bb22b920142bcaefb974412b8c.txt  \n",
            " extracting: train/labels/image_811_jpg.rf.eb560f5e9468b43c94bddf7597912bd6.txt  \n",
            " extracting: train/labels/image_814_jpg.rf.bb86c0c565b847c45a2e900bc400093e.txt  \n",
            " extracting: train/labels/image_815_jpg.rf.a6127520e518d0b16e795285026cab20.txt  \n",
            " extracting: train/labels/image_818_jpg.rf.61af7d39ede79bbc54dd29529582cf16.txt  \n",
            " extracting: train/labels/image_819_jpg.rf.dd71d8cd891902fbec1c2c0015b6adf5.txt  \n",
            " extracting: train/labels/image_81_jpg.rf.82dddec0cdeb0dcc019011be9af84418.txt  \n",
            " extracting: train/labels/image_820_jpg.rf.396425668899afda9b9a9fddb659da75.txt  \n",
            " extracting: train/labels/image_822_jpg.rf.8bd2bb3ab4edfe43d159979511688b8b.txt  \n",
            " extracting: train/labels/image_825_jpg.rf.b1c1d9ec1794f39a965937477d69097d.txt  \n",
            " extracting: train/labels/image_827_jpg.rf.d3218010d697bedeaca1adafd9ffe1c6.txt  \n",
            " extracting: train/labels/image_828_jpg.rf.afabe3f48a96c2e5a6a588da732e9096.txt  \n",
            " extracting: train/labels/image_829_jpg.rf.dfa9da3b34e424f937c2cf6348172e47.txt  \n",
            " extracting: train/labels/image_82_jpg.rf.833e5fe3282e0136444778223ef4ba48.txt  \n",
            " extracting: train/labels/image_830_jpg.rf.368b25f1058c8114682bef1912439fd4.txt  \n",
            " extracting: train/labels/image_831_jpg.rf.d48521291d4e42407f34148b46ac4a0a.txt  \n",
            " extracting: train/labels/image_833_jpg.rf.c9726e0e97158791ae94c46684fb5c7c.txt  \n",
            " extracting: train/labels/image_835_jpg.rf.e8483d1330c2f0f82404a3a176c2d1dd.txt  \n",
            " extracting: train/labels/image_836_jpg.rf.8d6b16b344fba5a13bcd291c8e4b59e4.txt  \n",
            " extracting: train/labels/image_837_jpg.rf.506fc5c16aa575664628d27b7f88bf4e.txt  \n",
            " extracting: train/labels/image_840_jpg.rf.86881282c19c812410bb2b7f04728292.txt  \n",
            " extracting: train/labels/image_844_jpg.rf.785e5eaa44efecc93b9a365f2a1ddc61.txt  \n",
            " extracting: train/labels/image_845_jpg.rf.7da72baffe1a5751fa591a7a484b12b7.txt  \n",
            " extracting: train/labels/image_846_jpg.rf.8514a39c3b4c47b5599420165cfca306.txt  \n",
            " extracting: train/labels/image_847_jpg.rf.b8bb7154e64acc62871d50afcc5a9528.txt  \n",
            " extracting: train/labels/image_848_jpg.rf.09983cc978b01be2fa948e1a154f98d0.txt  \n",
            " extracting: train/labels/image_849_jpg.rf.e759fedff596f012d7a78bc2ae33394f.txt  \n",
            " extracting: train/labels/image_84_jpg.rf.e65a107920913df743585c528ca193e9.txt  \n",
            " extracting: train/labels/image_851_jpg.rf.faf5213bb0529230ee90d56c43f33785.txt  \n",
            " extracting: train/labels/image_852_jpg.rf.fe7b1ed3d61a41072035116d7a3534b1.txt  \n",
            " extracting: train/labels/image_853_jpg.rf.9eaa22085258cddceed295a732e360d1.txt  \n",
            " extracting: train/labels/image_854_jpg.rf.a540eb25f7c1852a25638df273e79772.txt  \n",
            " extracting: train/labels/image_856_jpg.rf.c544e4b9e1bde042c48fce5251fb1904.txt  \n",
            " extracting: train/labels/image_857_jpg.rf.5391d832518e25a4bf4822c9c8ab7e88.txt  \n",
            " extracting: train/labels/image_858_jpg.rf.5048e061c19cc4d68d440f27e0f771de.txt  \n",
            " extracting: train/labels/image_859_jpg.rf.e5e091ad3fdb8e471e4138f2d63a5474.txt  \n",
            " extracting: train/labels/image_85_jpg.rf.a2b27932f4c2b6398f20bed8cad8f06e.txt  \n",
            " extracting: train/labels/image_861_jpg.rf.3cfceeae974f67634201834b3280b18c.txt  \n",
            " extracting: train/labels/image_862_jpg.rf.a4db233555e7d91e659d61c605d539c3.txt  \n",
            " extracting: train/labels/image_864_jpg.rf.7e76b0895577afa7476eb3242a4a9844.txt  \n",
            " extracting: train/labels/image_867_jpg.rf.0ceb62417cbc7e38b76b01e3b002ae1d.txt  \n",
            " extracting: train/labels/image_868_jpg.rf.cd9333d0aa6d122073511ba7d72f1764.txt  \n",
            " extracting: train/labels/image_869_jpg.rf.9e24c395be5b4bdcd577db3989f9613f.txt  \n",
            " extracting: train/labels/image_86_jpg.rf.43a88008519c8c6a60505516a0f34721.txt  \n",
            " extracting: train/labels/image_870_jpg.rf.041361204d2170c4621c2b64873027ba.txt  \n",
            " extracting: train/labels/image_871_jpg.rf.68ac8de640d3fc5ed85a13d8ec8ab63d.txt  \n",
            " extracting: train/labels/image_872_jpg.rf.a0a37420dde890bd87c58f2be92c21ad.txt  \n",
            " extracting: train/labels/image_873_jpg.rf.bc910c748893de8a98a41104c61de05c.txt  \n",
            " extracting: train/labels/image_875_jpg.rf.4689b264afa0f62e51111f9bb33c5764.txt  \n",
            " extracting: train/labels/image_877_jpg.rf.f1fbe22a0fb6ac69a2a3871edc439eda.txt  \n",
            " extracting: train/labels/image_878_jpg.rf.9a1ad634c76306967844f0b5e5d13e9e.txt  \n",
            " extracting: train/labels/image_87_jpg.rf.281cf0a08924cadcf4eddeb599f5f3ca.txt  \n",
            " extracting: train/labels/image_881_jpg.rf.1b81d8810d3e7565413746d1eb7ceb16.txt  \n",
            " extracting: train/labels/image_882_jpg.rf.983da1450ce31ce26d8c325b8d81184b.txt  \n",
            " extracting: train/labels/image_883_jpg.rf.a6ab3ce7c5647c08b71469ccb0cd7e78.txt  \n",
            " extracting: train/labels/image_884_jpg.rf.0feef2a909b52c15b6997f8430f31102.txt  \n",
            " extracting: train/labels/image_886_jpg.rf.4f9c1ca7f9de1b5cc96badf077de6c4a.txt  \n",
            " extracting: train/labels/image_887_jpg.rf.9420c30ecc61be357572e07315472508.txt  \n",
            " extracting: train/labels/image_889_jpg.rf.7e392ccc1b7fd2ed2521f111a5993cc5.txt  \n",
            " extracting: train/labels/image_88_jpg.rf.fc634e1806c22f2714d0840558d734b1.txt  \n",
            " extracting: train/labels/image_890_jpg.rf.49d40d221103b01e3c779879b01594f7.txt  \n",
            " extracting: train/labels/image_891_jpg.rf.0b07b7bc6c2289a667e4c77a2e398532.txt  \n",
            " extracting: train/labels/image_892_jpg.rf.b380938bfaf8d330081eea0bca7cecb1.txt  \n",
            " extracting: train/labels/image_893_jpg.rf.11b6ef80a9928f28503511ed060da71a.txt  \n",
            " extracting: train/labels/image_896_jpg.rf.48de6e4840b8f724eb7a6ed4faea95c0.txt  \n",
            " extracting: train/labels/image_897_jpg.rf.eb4f964e64c22921cabfdeb64621b419.txt  \n",
            " extracting: train/labels/image_898_jpg.rf.e0d4f12780ec8307d98c78360536244d.txt  \n",
            " extracting: train/labels/image_899_jpg.rf.492d3eb09aae156e94e2303aebee1673.txt  \n",
            " extracting: train/labels/image_89_jpg.rf.7b6d54c0215844f3966146bb18cd9a24.txt  \n",
            " extracting: train/labels/image_90_jpg.rf.3b7c4f37f6422e7bdd73effb189d244f.txt  \n",
            " extracting: train/labels/image_91_jpg.rf.f2262066e43bcbb41c97afdf3b57d4d2.txt  \n",
            " extracting: train/labels/image_93_jpg.rf.2f98ee1003f4796589ca79f0a751ea37.txt  \n",
            " extracting: train/labels/image_94_jpg.rf.556e865bc7f4e2508806b1cb456fdc79.txt  \n",
            " extracting: train/labels/image_97_jpg.rf.f3b9bb7314460bf31b1e9964597b85c9.txt  \n",
            " extracting: train/labels/image_98_jpg.rf.60e75c4808ae17f6482632d5453aada1.txt  \n",
            " extracting: train/labels/image_9_jpg.rf.da930721e65550ed0dc07a32537177a2.txt  \n",
            "   creating: valid/\n",
            "   creating: valid/images/\n",
            " extracting: valid/images/image_103_jpg.rf.444d2f4b39ed72261194a10d14563b61.jpg  \n",
            " extracting: valid/images/image_105_jpg.rf.554aa9cb09a06fd9c72b450e30868cb7.jpg  \n",
            " extracting: valid/images/image_115_jpg.rf.339b0841447faa04afd2cae0f12eaa0e.jpg  \n",
            " extracting: valid/images/image_127_jpg.rf.b2b69913bb4268ce285e54585f0a6858.jpg  \n",
            " extracting: valid/images/image_12_jpg.rf.36c0b4d6f1ff064c9c3263c3647f540c.jpg  \n",
            " extracting: valid/images/image_135_jpg.rf.a79e13c5ea453299336046c4db4819f1.jpg  \n",
            " extracting: valid/images/image_136_jpg.rf.67c1d0112d56d09659191f4c413119d8.jpg  \n",
            " extracting: valid/images/image_138_jpg.rf.348d40e86928a35d6d1c5411296b2e99.jpg  \n",
            " extracting: valid/images/image_140_jpg.rf.9a6acae692bdacc8de4df1f82d9329ce.jpg  \n",
            " extracting: valid/images/image_144_jpg.rf.db755d16e881f3455dd7628c2452b7f7.jpg  \n",
            " extracting: valid/images/image_145_jpg.rf.e5d851dc07c28b98004d2ebd2f3b2ed3.jpg  \n",
            " extracting: valid/images/image_150_jpg.rf.8e3c14b537ef0edd4c59b14748bad3fb.jpg  \n",
            " extracting: valid/images/image_154_jpg.rf.c94b1c5189aa793bc502edaac1ae4a57.jpg  \n",
            " extracting: valid/images/image_158_jpg.rf.89afae6e22e75df3ecb2c324d2df28d7.jpg  \n",
            " extracting: valid/images/image_168_jpg.rf.69bc74b447c20281b00e45eae55e5f65.jpg  \n",
            " extracting: valid/images/image_172_jpg.rf.0cb7de74db9f7b4e5648732b9d578db0.jpg  \n",
            " extracting: valid/images/image_17_jpg.rf.2c7473aef57eb4ee47b7c6402dd4306e.jpg  \n",
            " extracting: valid/images/image_180_jpg.rf.2e12ea3f1a222f8b2eaf8e3b7cc43d32.jpg  \n",
            " extracting: valid/images/image_182_jpg.rf.a6d951b096ae4920ec486ae66fe3046b.jpg  \n",
            " extracting: valid/images/image_191_jpg.rf.3e6c9f3dc56c5527778862c21dc7bb27.jpg  \n",
            " extracting: valid/images/image_192_jpg.rf.ef73776aae44fad9db0eaca52b6b84ab.jpg  \n",
            " extracting: valid/images/image_197_jpg.rf.9b041cfc3ed8bc7bdc5ec333fb8634fe.jpg  \n",
            " extracting: valid/images/image_199_jpg.rf.478a1e4178702b52653a1b302f92513a.jpg  \n",
            " extracting: valid/images/image_207_jpg.rf.1fe5e101c824b04811514578a46c5719.jpg  \n",
            " extracting: valid/images/image_209_jpg.rf.bf355e0b6646b2b24e64e1496b3c9fe0.jpg  \n",
            " extracting: valid/images/image_217_jpg.rf.185424c8dbae3aefe9f94ecd7211d193.jpg  \n",
            " extracting: valid/images/image_22_jpg.rf.d852fd4a0895c6b12ac3e3a0ed2f3893.jpg  \n",
            " extracting: valid/images/image_233_jpg.rf.0f5b9795403c60927d6ba6862d8ca4ca.jpg  \n",
            " extracting: valid/images/image_237_jpg.rf.109a746d04ac2d456a5633608d985a24.jpg  \n",
            " extracting: valid/images/image_239_jpg.rf.365b285a0ff0df3abf311d7391451b2f.jpg  \n",
            " extracting: valid/images/image_240_jpg.rf.49c05188e3d6e746d310c6a36071bb8e.jpg  \n",
            " extracting: valid/images/image_250_jpg.rf.5d0ab522b580bda5276a3b55d1d3cedb.jpg  \n",
            " extracting: valid/images/image_25_jpg.rf.f12495a57c9563489fc987a8a6e37661.jpg  \n",
            " extracting: valid/images/image_265_jpg.rf.1b3003498677a96cad334407fa8d70a7.jpg  \n",
            " extracting: valid/images/image_26_jpg.rf.2aacb86acf321380066cc3e5ae4a34c3.jpg  \n",
            " extracting: valid/images/image_271_jpg.rf.d8eaeb6f6d1a0cf3b00ef45897e2a074.jpg  \n",
            " extracting: valid/images/image_272_jpg.rf.3cd5811534863ca86fa3c5cdf46797d9.jpg  \n",
            " extracting: valid/images/image_285_jpg.rf.560bd40defa866b6c4ba526a6aebc1f2.jpg  \n",
            " extracting: valid/images/image_288_jpg.rf.bbf70c5b9a80488e5685dff0ee2914bc.jpg  \n",
            " extracting: valid/images/image_28_jpg.rf.fe4e3f81171713d9f08fa23fb9325c27.jpg  \n",
            " extracting: valid/images/image_291_jpg.rf.9427ae6739a4475c18669a2f2699e1d3.jpg  \n",
            " extracting: valid/images/image_29_jpg.rf.45eeee1db4c1ea38db1c4b5b3c371e80.jpg  \n",
            " extracting: valid/images/image_308_jpg.rf.306fd6fa57144bdc6d2eab68a95ff4b1.jpg  \n",
            " extracting: valid/images/image_311_jpg.rf.ed7a0c89592dba0ddedb889558608273.jpg  \n",
            " extracting: valid/images/image_315_jpg.rf.541fbe77e1d56578d287a693dc17a491.jpg  \n",
            " extracting: valid/images/image_321_jpg.rf.941150955fc2f65586bb98178c42b1ab.jpg  \n",
            " extracting: valid/images/image_323_jpg.rf.1b37e45829df3490b8a1cc13e0e69755.jpg  \n",
            " extracting: valid/images/image_330_jpg.rf.af2fd82e0f45957b8fb5c0614cf91df2.jpg  \n",
            " extracting: valid/images/image_331_jpg.rf.953991d988b4ac5b882dce0216b49a40.jpg  \n",
            " extracting: valid/images/image_336_jpg.rf.049fb27bdc88180363cccc4e1431f933.jpg  \n",
            " extracting: valid/images/image_341_jpg.rf.b21c413adaf08706717ab48f0c189ee4.jpg  \n",
            " extracting: valid/images/image_342_jpg.rf.77035a01e99770b4f9f0a292ab4af33f.jpg  \n",
            " extracting: valid/images/image_343_jpg.rf.cd58626ffe2b93eb0da0f1032e1ea77e.jpg  \n",
            " extracting: valid/images/image_346_jpg.rf.f5eef228f287677fd55cead493afe931.jpg  \n",
            " extracting: valid/images/image_347_jpg.rf.5a045439214db142756b66f88ff1998b.jpg  \n",
            " extracting: valid/images/image_357_jpg.rf.09321a4974fa6fc5132c16e72d796987.jpg  \n",
            " extracting: valid/images/image_361_jpg.rf.ddaf1597156396c24f19c7dd609bf5e2.jpg  \n",
            " extracting: valid/images/image_365_jpg.rf.84d4c3d2e289b1ae9fab88c546be2987.jpg  \n",
            " extracting: valid/images/image_367_jpg.rf.5377b9716858e0e2669ee03724d3b8f2.jpg  \n",
            " extracting: valid/images/image_369_jpg.rf.d0ac0adbd6b054763cd98c1e005bd08a.jpg  \n",
            " extracting: valid/images/image_36_jpg.rf.019fc2cbe79ca7fce689b8c3c2ffeace.jpg  \n",
            " extracting: valid/images/image_374_jpg.rf.8c0b5202d0b383f88d585dc016f264cf.jpg  \n",
            " extracting: valid/images/image_377_jpg.rf.e5412f4709053ae746680a8bc273b8d8.jpg  \n",
            " extracting: valid/images/image_37_jpg.rf.15da38c810041d849544b6b2a884008a.jpg  \n",
            " extracting: valid/images/image_380_jpg.rf.da260bac66f161e89eb0401f84e89b77.jpg  \n",
            " extracting: valid/images/image_382_jpg.rf.e959a38d4ec5c1901632cdf95d0948ff.jpg  \n",
            " extracting: valid/images/image_383_jpg.rf.f89d8fd0edea4224fdcd2b9c0f78bc05.jpg  \n",
            " extracting: valid/images/image_392_jpg.rf.22a7c01a26a48e990f984b7cc9de793e.jpg  \n",
            " extracting: valid/images/image_402_jpg.rf.cd3be9fdc34633e4232b3e16fb069bfb.jpg  \n",
            " extracting: valid/images/image_403_jpg.rf.2eb12e02c1593c47f338758500a7cefa.jpg  \n",
            " extracting: valid/images/image_410_jpg.rf.bb9abdb6ec8c5edd11bb93f1adfacee0.jpg  \n",
            " extracting: valid/images/image_424_jpg.rf.5cf7003fb949000783d6906a27b9dcce.jpg  \n",
            " extracting: valid/images/image_426_jpg.rf.89939eb05c4f1e1b8d74e9594dbe08b5.jpg  \n",
            " extracting: valid/images/image_427_jpg.rf.8a82864b6ef10a79e38a865ff9ee8929.jpg  \n",
            " extracting: valid/images/image_429_jpg.rf.36e0a742deeab7b19767e459c486f8be.jpg  \n",
            " extracting: valid/images/image_434_jpg.rf.9c3339afeef65855a3fbad86bad74a73.jpg  \n",
            " extracting: valid/images/image_439_jpg.rf.0ff336b82e0d93c7accab19bc1c72677.jpg  \n",
            " extracting: valid/images/image_43_jpg.rf.9fedf8fd1d939363f4f4a9da577158ea.jpg  \n",
            " extracting: valid/images/image_440_jpg.rf.54300a9435dcfb701c54209dbe2f6fbc.jpg  \n",
            " extracting: valid/images/image_447_jpg.rf.ab04aad76d816fc209c7d3d460471102.jpg  \n",
            " extracting: valid/images/image_448_jpg.rf.460d5998bf1505bad5a07c772e57ede2.jpg  \n",
            " extracting: valid/images/image_462_jpg.rf.f6cfb7e0b9cd64a185183dfdce41ea91.jpg  \n",
            " extracting: valid/images/image_477_jpg.rf.a6de0618131dadfbcf65e7783017514e.jpg  \n",
            " extracting: valid/images/image_478_jpg.rf.bca90f78cd57151759d7e29cd86af619.jpg  \n",
            " extracting: valid/images/image_479_jpg.rf.9a0795a7f56d27f7974d2cb220fe3a73.jpg  \n",
            " extracting: valid/images/image_488_jpg.rf.5919c112e98de4d6a7aa501e1f69c1fd.jpg  \n",
            " extracting: valid/images/image_496_jpg.rf.224ad93eb3275907ffa36756ba433456.jpg  \n",
            " extracting: valid/images/image_503_jpg.rf.16e740102bfec79b9fcd1ca8052bc865.jpg  \n",
            " extracting: valid/images/image_508_jpg.rf.08f4e53eb43d03baf23709fa62aebd26.jpg  \n",
            " extracting: valid/images/image_511_jpg.rf.45a5f54ca62909be92649cfc74411ff6.jpg  \n",
            " extracting: valid/images/image_518_jpg.rf.4e059ac399c28a981e1821b3f5fb5578.jpg  \n",
            " extracting: valid/images/image_528_jpg.rf.33ba40f3c5026b159a5b127d56b17247.jpg  \n",
            " extracting: valid/images/image_533_jpg.rf.3cb330ac91037b2876517d2ba5b21683.jpg  \n",
            " extracting: valid/images/image_544_jpg.rf.eb33b761b947c6133c55d2bc3952bac7.jpg  \n",
            " extracting: valid/images/image_546_jpg.rf.fbd219e240317f6a0264b8971272b701.jpg  \n",
            " extracting: valid/images/image_547_jpg.rf.16f339131909c2aadfb251daf681337a.jpg  \n",
            " extracting: valid/images/image_558_jpg.rf.1a94a43f601a291e6cd1356c25dcf185.jpg  \n",
            " extracting: valid/images/image_559_jpg.rf.536d64433260f50d5e1e2acb45a11f03.jpg  \n",
            " extracting: valid/images/image_561_jpg.rf.648ac1c1eeef6a436c058d889efc9900.jpg  \n",
            " extracting: valid/images/image_566_jpg.rf.8a92274e7361833edab0be412fe3c5af.jpg  \n",
            " extracting: valid/images/image_572_jpg.rf.dd8ee811e4149b7fec4562b14a1ff4d3.jpg  \n",
            " extracting: valid/images/image_578_jpg.rf.d31c50db8dbf1566e75c2339a077079e.jpg  \n",
            " extracting: valid/images/image_582_jpg.rf.5cb0fd9a535c2e72595cd655dc28b57c.jpg  \n",
            " extracting: valid/images/image_590_jpg.rf.dabd305ae9f80c2ec98815c05cba4102.jpg  \n",
            " extracting: valid/images/image_591_jpg.rf.8b739e34e929035a0e63586868f68b60.jpg  \n",
            " extracting: valid/images/image_593_jpg.rf.c915199bc6d649e58b483c2a6f2611fb.jpg  \n",
            " extracting: valid/images/image_596_jpg.rf.6ffdcc425b5624e0948072f17d56f479.jpg  \n",
            " extracting: valid/images/image_600_jpg.rf.d64fbcc32abbdf638f57994a3db3c6af.jpg  \n",
            " extracting: valid/images/image_601_jpg.rf.e3ccd7eff9422067f2d262101b282d56.jpg  \n",
            " extracting: valid/images/image_603_jpg.rf.9300fe7184948aff6aa411390d68fbba.jpg  \n",
            " extracting: valid/images/image_616_jpg.rf.1e126e3c7f3590336b0169034a47c065.jpg  \n",
            " extracting: valid/images/image_618_jpg.rf.190b37b333de8f774fba7b7ac827641a.jpg  \n",
            " extracting: valid/images/image_625_jpg.rf.1c32b71e92b93e8c97f31589c740054d.jpg  \n",
            " extracting: valid/images/image_626_jpg.rf.5b4c8ad3c892cd67c93f36bdcc763d27.jpg  \n",
            " extracting: valid/images/image_634_jpg.rf.e3a63667b02dc2c3fa3401898845db7d.jpg  \n",
            " extracting: valid/images/image_641_jpg.rf.e6e9d4d245a275703e5f63ce78bf461b.jpg  \n",
            " extracting: valid/images/image_651_jpg.rf.65885ec484d2b42cdb3243ba1bcd300c.jpg  \n",
            " extracting: valid/images/image_654_jpg.rf.ded3be9efa6128467f283f929b5a3e82.jpg  \n",
            " extracting: valid/images/image_655_jpg.rf.fccadc622e981403e18986cf0f86f2ff.jpg  \n",
            " extracting: valid/images/image_656_jpg.rf.33b4b1c603715c3d9970eb1ee539bd0f.jpg  \n",
            " extracting: valid/images/image_662_jpg.rf.8bd529fd768b1b919d79eb8712dfd311.jpg  \n",
            " extracting: valid/images/image_663_jpg.rf.3b77052d9eca6d8b582e512c1f5bff85.jpg  \n",
            " extracting: valid/images/image_665_jpg.rf.1b281d1cfdaaabb0ae850d2533e2136a.jpg  \n",
            " extracting: valid/images/image_66_jpg.rf.e11bebc04bcd837617aa8583dc49b7eb.jpg  \n",
            " extracting: valid/images/image_695_jpg.rf.4167ceec13d16aa2af656cb877cc0a2b.jpg  \n",
            " extracting: valid/images/image_700_jpg.rf.ee3f9da892b050722df115c4d296d802.jpg  \n",
            " extracting: valid/images/image_703_jpg.rf.962b3877310e15f769faff6fba911d1e.jpg  \n",
            " extracting: valid/images/image_707_jpg.rf.86df1a591f99c3a6792bf01b13e6c946.jpg  \n",
            " extracting: valid/images/image_70_jpg.rf.c404123bc4c14df5920eba03da83c66b.jpg  \n",
            " extracting: valid/images/image_720_jpg.rf.a95c28f8c0f61d91590bf5019a0f8fff.jpg  \n",
            " extracting: valid/images/image_729_jpg.rf.f32d9b75291998386a359a5337393707.jpg  \n",
            " extracting: valid/images/image_730_jpg.rf.cbea3437b6a8b08dfde860d726df7334.jpg  \n",
            " extracting: valid/images/image_735_jpg.rf.bc0b3a61d3fc6f51005d731e5421c298.jpg  \n",
            " extracting: valid/images/image_736_jpg.rf.585ee99bba6ec4b1f4f5967334cbdcc4.jpg  \n",
            " extracting: valid/images/image_742_jpg.rf.b79a5ffd483dd7863a37527b27aa7f13.jpg  \n",
            " extracting: valid/images/image_754_jpg.rf.55b474a4b1c0db86eed95bdda12f2b0c.jpg  \n",
            " extracting: valid/images/image_755_jpg.rf.a7787c721a1642062bbf39bb4fa88045.jpg  \n",
            " extracting: valid/images/image_763_jpg.rf.03595371b4c7b52168dfe2cb902b4920.jpg  \n",
            " extracting: valid/images/image_766_jpg.rf.9c8fe0b97fa574ed9887649d53b38f67.jpg  \n",
            " extracting: valid/images/image_772_jpg.rf.3f43f0b327da41b74d405645169ed49a.jpg  \n",
            " extracting: valid/images/image_773_jpg.rf.f29e34d4dd9a50b4dc4260e6cf8227af.jpg  \n",
            " extracting: valid/images/image_775_jpg.rf.d0cdaaeb0a1b65284cf355867223cf6a.jpg  \n",
            " extracting: valid/images/image_776_jpg.rf.e763d56bf8adedc8bf6efac8711798ea.jpg  \n",
            " extracting: valid/images/image_785_jpg.rf.889d7500ee8784edcd83c57d7083a3ab.jpg  \n",
            " extracting: valid/images/image_792_jpg.rf.ac0c4ac0fe16d53a9a0931c6a3134f81.jpg  \n",
            " extracting: valid/images/image_7_jpg.rf.b97fe0bb97840f2b5993c897203d11ab.jpg  \n",
            " extracting: valid/images/image_800_jpg.rf.f0575573181031aa2172a95750cded30.jpg  \n",
            " extracting: valid/images/image_802_jpg.rf.8ee10c1307aca245657bbd71845c0b82.jpg  \n",
            " extracting: valid/images/image_806_jpg.rf.e39d44d260cf17278c08026c0df53c80.jpg  \n",
            " extracting: valid/images/image_812_jpg.rf.20da7b689643c993b673f84f8a66722b.jpg  \n",
            " extracting: valid/images/image_813_jpg.rf.9384f710280f2a6f22c253a6a6536397.jpg  \n",
            " extracting: valid/images/image_821_jpg.rf.04e98df74a77082399ee1e14c7ed65fe.jpg  \n",
            " extracting: valid/images/image_823_jpg.rf.aa3b73b4a8a36cffb703f299aa3d4937.jpg  \n",
            " extracting: valid/images/image_824_jpg.rf.6eea87e39cc466841b0b9c7f24044240.jpg  \n",
            " extracting: valid/images/image_832_jpg.rf.a9ea2847128bee30a79816d0549518a1.jpg  \n",
            " extracting: valid/images/image_834_jpg.rf.a6f87832acfdc8e9716b5d70e992bfd1.jpg  \n",
            " extracting: valid/images/image_838_jpg.rf.42118c013636a4edad0ce6aa98d959c5.jpg  \n",
            " extracting: valid/images/image_83_jpg.rf.22e7102075cba827320f38e56b7b6953.jpg  \n",
            " extracting: valid/images/image_841_jpg.rf.edab5a2dfa74ddda81d52dfa227ebb4d.jpg  \n",
            " extracting: valid/images/image_842_jpg.rf.aa73747c2ddc01059c55e709543700a3.jpg  \n",
            " extracting: valid/images/image_843_jpg.rf.706bea8c46b2833c049b056aedb1ceda.jpg  \n",
            " extracting: valid/images/image_850_jpg.rf.30bc345fb065f341d7fe282e6aa0946f.jpg  \n",
            " extracting: valid/images/image_860_jpg.rf.8b4c286281ca2fef8f127b21fad7fb89.jpg  \n",
            " extracting: valid/images/image_863_jpg.rf.abe79fdba06a4a58ab4534e03c2ffd3b.jpg  \n",
            " extracting: valid/images/image_866_jpg.rf.d966d225c989e97822f8ac3f4d2508b7.jpg  \n",
            " extracting: valid/images/image_874_jpg.rf.ff8fe50d37adcee55dec1a6297c8f8f5.jpg  \n",
            " extracting: valid/images/image_876_jpg.rf.4fe416047ce9464228edf5e32766325a.jpg  \n",
            " extracting: valid/images/image_879_jpg.rf.f18ef7edf4bb169f364f902b4dc4723d.jpg  \n",
            " extracting: valid/images/image_880_jpg.rf.52492443c45e22d3f0754ff88bfee1c2.jpg  \n",
            " extracting: valid/images/image_895_jpg.rf.b87b9e096d4419f5c3177ef8b971a817.jpg  \n",
            " extracting: valid/images/image_8_jpg.rf.d0a762cf8a251ebcadd6e2e4641210d3.jpg  \n",
            " extracting: valid/images/image_95_jpg.rf.f070c8cd6cb8414cbb146280d28de95f.jpg  \n",
            " extracting: valid/images/image_96_jpg.rf.7d6518a0ff8b2bcb6e9ea61b01c828cd.jpg  \n",
            "   creating: valid/labels/\n",
            " extracting: valid/labels/image_103_jpg.rf.444d2f4b39ed72261194a10d14563b61.txt  \n",
            " extracting: valid/labels/image_105_jpg.rf.554aa9cb09a06fd9c72b450e30868cb7.txt  \n",
            " extracting: valid/labels/image_115_jpg.rf.339b0841447faa04afd2cae0f12eaa0e.txt  \n",
            " extracting: valid/labels/image_127_jpg.rf.b2b69913bb4268ce285e54585f0a6858.txt  \n",
            " extracting: valid/labels/image_12_jpg.rf.36c0b4d6f1ff064c9c3263c3647f540c.txt  \n",
            " extracting: valid/labels/image_135_jpg.rf.a79e13c5ea453299336046c4db4819f1.txt  \n",
            " extracting: valid/labels/image_136_jpg.rf.67c1d0112d56d09659191f4c413119d8.txt  \n",
            " extracting: valid/labels/image_138_jpg.rf.348d40e86928a35d6d1c5411296b2e99.txt  \n",
            " extracting: valid/labels/image_140_jpg.rf.9a6acae692bdacc8de4df1f82d9329ce.txt  \n",
            " extracting: valid/labels/image_144_jpg.rf.db755d16e881f3455dd7628c2452b7f7.txt  \n",
            " extracting: valid/labels/image_145_jpg.rf.e5d851dc07c28b98004d2ebd2f3b2ed3.txt  \n",
            " extracting: valid/labels/image_150_jpg.rf.8e3c14b537ef0edd4c59b14748bad3fb.txt  \n",
            " extracting: valid/labels/image_154_jpg.rf.c94b1c5189aa793bc502edaac1ae4a57.txt  \n",
            " extracting: valid/labels/image_158_jpg.rf.89afae6e22e75df3ecb2c324d2df28d7.txt  \n",
            " extracting: valid/labels/image_168_jpg.rf.69bc74b447c20281b00e45eae55e5f65.txt  \n",
            " extracting: valid/labels/image_172_jpg.rf.0cb7de74db9f7b4e5648732b9d578db0.txt  \n",
            " extracting: valid/labels/image_17_jpg.rf.2c7473aef57eb4ee47b7c6402dd4306e.txt  \n",
            " extracting: valid/labels/image_180_jpg.rf.2e12ea3f1a222f8b2eaf8e3b7cc43d32.txt  \n",
            " extracting: valid/labels/image_182_jpg.rf.a6d951b096ae4920ec486ae66fe3046b.txt  \n",
            " extracting: valid/labels/image_191_jpg.rf.3e6c9f3dc56c5527778862c21dc7bb27.txt  \n",
            " extracting: valid/labels/image_192_jpg.rf.ef73776aae44fad9db0eaca52b6b84ab.txt  \n",
            " extracting: valid/labels/image_197_jpg.rf.9b041cfc3ed8bc7bdc5ec333fb8634fe.txt  \n",
            " extracting: valid/labels/image_199_jpg.rf.478a1e4178702b52653a1b302f92513a.txt  \n",
            " extracting: valid/labels/image_207_jpg.rf.1fe5e101c824b04811514578a46c5719.txt  \n",
            " extracting: valid/labels/image_209_jpg.rf.bf355e0b6646b2b24e64e1496b3c9fe0.txt  \n",
            " extracting: valid/labels/image_217_jpg.rf.185424c8dbae3aefe9f94ecd7211d193.txt  \n",
            " extracting: valid/labels/image_22_jpg.rf.d852fd4a0895c6b12ac3e3a0ed2f3893.txt  \n",
            " extracting: valid/labels/image_233_jpg.rf.0f5b9795403c60927d6ba6862d8ca4ca.txt  \n",
            " extracting: valid/labels/image_237_jpg.rf.109a746d04ac2d456a5633608d985a24.txt  \n",
            " extracting: valid/labels/image_239_jpg.rf.365b285a0ff0df3abf311d7391451b2f.txt  \n",
            " extracting: valid/labels/image_240_jpg.rf.49c05188e3d6e746d310c6a36071bb8e.txt  \n",
            " extracting: valid/labels/image_250_jpg.rf.5d0ab522b580bda5276a3b55d1d3cedb.txt  \n",
            " extracting: valid/labels/image_25_jpg.rf.f12495a57c9563489fc987a8a6e37661.txt  \n",
            " extracting: valid/labels/image_265_jpg.rf.1b3003498677a96cad334407fa8d70a7.txt  \n",
            " extracting: valid/labels/image_26_jpg.rf.2aacb86acf321380066cc3e5ae4a34c3.txt  \n",
            " extracting: valid/labels/image_271_jpg.rf.d8eaeb6f6d1a0cf3b00ef45897e2a074.txt  \n",
            " extracting: valid/labels/image_272_jpg.rf.3cd5811534863ca86fa3c5cdf46797d9.txt  \n",
            " extracting: valid/labels/image_285_jpg.rf.560bd40defa866b6c4ba526a6aebc1f2.txt  \n",
            " extracting: valid/labels/image_288_jpg.rf.bbf70c5b9a80488e5685dff0ee2914bc.txt  \n",
            " extracting: valid/labels/image_28_jpg.rf.fe4e3f81171713d9f08fa23fb9325c27.txt  \n",
            " extracting: valid/labels/image_291_jpg.rf.9427ae6739a4475c18669a2f2699e1d3.txt  \n",
            " extracting: valid/labels/image_29_jpg.rf.45eeee1db4c1ea38db1c4b5b3c371e80.txt  \n",
            " extracting: valid/labels/image_308_jpg.rf.306fd6fa57144bdc6d2eab68a95ff4b1.txt  \n",
            " extracting: valid/labels/image_311_jpg.rf.ed7a0c89592dba0ddedb889558608273.txt  \n",
            " extracting: valid/labels/image_315_jpg.rf.541fbe77e1d56578d287a693dc17a491.txt  \n",
            " extracting: valid/labels/image_321_jpg.rf.941150955fc2f65586bb98178c42b1ab.txt  \n",
            " extracting: valid/labels/image_323_jpg.rf.1b37e45829df3490b8a1cc13e0e69755.txt  \n",
            " extracting: valid/labels/image_330_jpg.rf.af2fd82e0f45957b8fb5c0614cf91df2.txt  \n",
            " extracting: valid/labels/image_331_jpg.rf.953991d988b4ac5b882dce0216b49a40.txt  \n",
            " extracting: valid/labels/image_336_jpg.rf.049fb27bdc88180363cccc4e1431f933.txt  \n",
            " extracting: valid/labels/image_341_jpg.rf.b21c413adaf08706717ab48f0c189ee4.txt  \n",
            " extracting: valid/labels/image_342_jpg.rf.77035a01e99770b4f9f0a292ab4af33f.txt  \n",
            " extracting: valid/labels/image_343_jpg.rf.cd58626ffe2b93eb0da0f1032e1ea77e.txt  \n",
            " extracting: valid/labels/image_346_jpg.rf.f5eef228f287677fd55cead493afe931.txt  \n",
            " extracting: valid/labels/image_347_jpg.rf.5a045439214db142756b66f88ff1998b.txt  \n",
            " extracting: valid/labels/image_357_jpg.rf.09321a4974fa6fc5132c16e72d796987.txt  \n",
            " extracting: valid/labels/image_361_jpg.rf.ddaf1597156396c24f19c7dd609bf5e2.txt  \n",
            " extracting: valid/labels/image_365_jpg.rf.84d4c3d2e289b1ae9fab88c546be2987.txt  \n",
            " extracting: valid/labels/image_367_jpg.rf.5377b9716858e0e2669ee03724d3b8f2.txt  \n",
            " extracting: valid/labels/image_369_jpg.rf.d0ac0adbd6b054763cd98c1e005bd08a.txt  \n",
            " extracting: valid/labels/image_36_jpg.rf.019fc2cbe79ca7fce689b8c3c2ffeace.txt  \n",
            " extracting: valid/labels/image_374_jpg.rf.8c0b5202d0b383f88d585dc016f264cf.txt  \n",
            " extracting: valid/labels/image_377_jpg.rf.e5412f4709053ae746680a8bc273b8d8.txt  \n",
            " extracting: valid/labels/image_37_jpg.rf.15da38c810041d849544b6b2a884008a.txt  \n",
            " extracting: valid/labels/image_380_jpg.rf.da260bac66f161e89eb0401f84e89b77.txt  \n",
            " extracting: valid/labels/image_382_jpg.rf.e959a38d4ec5c1901632cdf95d0948ff.txt  \n",
            " extracting: valid/labels/image_383_jpg.rf.f89d8fd0edea4224fdcd2b9c0f78bc05.txt  \n",
            " extracting: valid/labels/image_392_jpg.rf.22a7c01a26a48e990f984b7cc9de793e.txt  \n",
            " extracting: valid/labels/image_402_jpg.rf.cd3be9fdc34633e4232b3e16fb069bfb.txt  \n",
            " extracting: valid/labels/image_403_jpg.rf.2eb12e02c1593c47f338758500a7cefa.txt  \n",
            " extracting: valid/labels/image_410_jpg.rf.bb9abdb6ec8c5edd11bb93f1adfacee0.txt  \n",
            " extracting: valid/labels/image_424_jpg.rf.5cf7003fb949000783d6906a27b9dcce.txt  \n",
            " extracting: valid/labels/image_426_jpg.rf.89939eb05c4f1e1b8d74e9594dbe08b5.txt  \n",
            " extracting: valid/labels/image_427_jpg.rf.8a82864b6ef10a79e38a865ff9ee8929.txt  \n",
            " extracting: valid/labels/image_429_jpg.rf.36e0a742deeab7b19767e459c486f8be.txt  \n",
            " extracting: valid/labels/image_434_jpg.rf.9c3339afeef65855a3fbad86bad74a73.txt  \n",
            " extracting: valid/labels/image_439_jpg.rf.0ff336b82e0d93c7accab19bc1c72677.txt  \n",
            " extracting: valid/labels/image_43_jpg.rf.9fedf8fd1d939363f4f4a9da577158ea.txt  \n",
            " extracting: valid/labels/image_440_jpg.rf.54300a9435dcfb701c54209dbe2f6fbc.txt  \n",
            " extracting: valid/labels/image_447_jpg.rf.ab04aad76d816fc209c7d3d460471102.txt  \n",
            " extracting: valid/labels/image_448_jpg.rf.460d5998bf1505bad5a07c772e57ede2.txt  \n",
            " extracting: valid/labels/image_462_jpg.rf.f6cfb7e0b9cd64a185183dfdce41ea91.txt  \n",
            " extracting: valid/labels/image_477_jpg.rf.a6de0618131dadfbcf65e7783017514e.txt  \n",
            " extracting: valid/labels/image_478_jpg.rf.bca90f78cd57151759d7e29cd86af619.txt  \n",
            " extracting: valid/labels/image_479_jpg.rf.9a0795a7f56d27f7974d2cb220fe3a73.txt  \n",
            " extracting: valid/labels/image_488_jpg.rf.5919c112e98de4d6a7aa501e1f69c1fd.txt  \n",
            " extracting: valid/labels/image_496_jpg.rf.224ad93eb3275907ffa36756ba433456.txt  \n",
            " extracting: valid/labels/image_503_jpg.rf.16e740102bfec79b9fcd1ca8052bc865.txt  \n",
            " extracting: valid/labels/image_508_jpg.rf.08f4e53eb43d03baf23709fa62aebd26.txt  \n",
            " extracting: valid/labels/image_511_jpg.rf.45a5f54ca62909be92649cfc74411ff6.txt  \n",
            " extracting: valid/labels/image_518_jpg.rf.4e059ac399c28a981e1821b3f5fb5578.txt  \n",
            " extracting: valid/labels/image_528_jpg.rf.33ba40f3c5026b159a5b127d56b17247.txt  \n",
            " extracting: valid/labels/image_533_jpg.rf.3cb330ac91037b2876517d2ba5b21683.txt  \n",
            " extracting: valid/labels/image_544_jpg.rf.eb33b761b947c6133c55d2bc3952bac7.txt  \n",
            " extracting: valid/labels/image_546_jpg.rf.fbd219e240317f6a0264b8971272b701.txt  \n",
            " extracting: valid/labels/image_547_jpg.rf.16f339131909c2aadfb251daf681337a.txt  \n",
            " extracting: valid/labels/image_558_jpg.rf.1a94a43f601a291e6cd1356c25dcf185.txt  \n",
            " extracting: valid/labels/image_559_jpg.rf.536d64433260f50d5e1e2acb45a11f03.txt  \n",
            " extracting: valid/labels/image_561_jpg.rf.648ac1c1eeef6a436c058d889efc9900.txt  \n",
            " extracting: valid/labels/image_566_jpg.rf.8a92274e7361833edab0be412fe3c5af.txt  \n",
            " extracting: valid/labels/image_572_jpg.rf.dd8ee811e4149b7fec4562b14a1ff4d3.txt  \n",
            " extracting: valid/labels/image_578_jpg.rf.d31c50db8dbf1566e75c2339a077079e.txt  \n",
            " extracting: valid/labels/image_582_jpg.rf.5cb0fd9a535c2e72595cd655dc28b57c.txt  \n",
            " extracting: valid/labels/image_590_jpg.rf.dabd305ae9f80c2ec98815c05cba4102.txt  \n",
            " extracting: valid/labels/image_591_jpg.rf.8b739e34e929035a0e63586868f68b60.txt  \n",
            " extracting: valid/labels/image_593_jpg.rf.c915199bc6d649e58b483c2a6f2611fb.txt  \n",
            " extracting: valid/labels/image_596_jpg.rf.6ffdcc425b5624e0948072f17d56f479.txt  \n",
            " extracting: valid/labels/image_600_jpg.rf.d64fbcc32abbdf638f57994a3db3c6af.txt  \n",
            " extracting: valid/labels/image_601_jpg.rf.e3ccd7eff9422067f2d262101b282d56.txt  \n",
            " extracting: valid/labels/image_603_jpg.rf.9300fe7184948aff6aa411390d68fbba.txt  \n",
            " extracting: valid/labels/image_616_jpg.rf.1e126e3c7f3590336b0169034a47c065.txt  \n",
            " extracting: valid/labels/image_618_jpg.rf.190b37b333de8f774fba7b7ac827641a.txt  \n",
            " extracting: valid/labels/image_625_jpg.rf.1c32b71e92b93e8c97f31589c740054d.txt  \n",
            " extracting: valid/labels/image_626_jpg.rf.5b4c8ad3c892cd67c93f36bdcc763d27.txt  \n",
            " extracting: valid/labels/image_634_jpg.rf.e3a63667b02dc2c3fa3401898845db7d.txt  \n",
            " extracting: valid/labels/image_641_jpg.rf.e6e9d4d245a275703e5f63ce78bf461b.txt  \n",
            " extracting: valid/labels/image_651_jpg.rf.65885ec484d2b42cdb3243ba1bcd300c.txt  \n",
            " extracting: valid/labels/image_654_jpg.rf.ded3be9efa6128467f283f929b5a3e82.txt  \n",
            " extracting: valid/labels/image_655_jpg.rf.fccadc622e981403e18986cf0f86f2ff.txt  \n",
            " extracting: valid/labels/image_656_jpg.rf.33b4b1c603715c3d9970eb1ee539bd0f.txt  \n",
            " extracting: valid/labels/image_662_jpg.rf.8bd529fd768b1b919d79eb8712dfd311.txt  \n",
            " extracting: valid/labels/image_663_jpg.rf.3b77052d9eca6d8b582e512c1f5bff85.txt  \n",
            " extracting: valid/labels/image_665_jpg.rf.1b281d1cfdaaabb0ae850d2533e2136a.txt  \n",
            " extracting: valid/labels/image_66_jpg.rf.e11bebc04bcd837617aa8583dc49b7eb.txt  \n",
            " extracting: valid/labels/image_695_jpg.rf.4167ceec13d16aa2af656cb877cc0a2b.txt  \n",
            " extracting: valid/labels/image_700_jpg.rf.ee3f9da892b050722df115c4d296d802.txt  \n",
            " extracting: valid/labels/image_703_jpg.rf.962b3877310e15f769faff6fba911d1e.txt  \n",
            " extracting: valid/labels/image_707_jpg.rf.86df1a591f99c3a6792bf01b13e6c946.txt  \n",
            " extracting: valid/labels/image_70_jpg.rf.c404123bc4c14df5920eba03da83c66b.txt  \n",
            " extracting: valid/labels/image_720_jpg.rf.a95c28f8c0f61d91590bf5019a0f8fff.txt  \n",
            " extracting: valid/labels/image_729_jpg.rf.f32d9b75291998386a359a5337393707.txt  \n",
            " extracting: valid/labels/image_730_jpg.rf.cbea3437b6a8b08dfde860d726df7334.txt  \n",
            " extracting: valid/labels/image_735_jpg.rf.bc0b3a61d3fc6f51005d731e5421c298.txt  \n",
            " extracting: valid/labels/image_736_jpg.rf.585ee99bba6ec4b1f4f5967334cbdcc4.txt  \n",
            " extracting: valid/labels/image_742_jpg.rf.b79a5ffd483dd7863a37527b27aa7f13.txt  \n",
            " extracting: valid/labels/image_754_jpg.rf.55b474a4b1c0db86eed95bdda12f2b0c.txt  \n",
            " extracting: valid/labels/image_755_jpg.rf.a7787c721a1642062bbf39bb4fa88045.txt  \n",
            " extracting: valid/labels/image_763_jpg.rf.03595371b4c7b52168dfe2cb902b4920.txt  \n",
            " extracting: valid/labels/image_766_jpg.rf.9c8fe0b97fa574ed9887649d53b38f67.txt  \n",
            " extracting: valid/labels/image_772_jpg.rf.3f43f0b327da41b74d405645169ed49a.txt  \n",
            " extracting: valid/labels/image_773_jpg.rf.f29e34d4dd9a50b4dc4260e6cf8227af.txt  \n",
            " extracting: valid/labels/image_775_jpg.rf.d0cdaaeb0a1b65284cf355867223cf6a.txt  \n",
            " extracting: valid/labels/image_776_jpg.rf.e763d56bf8adedc8bf6efac8711798ea.txt  \n",
            " extracting: valid/labels/image_785_jpg.rf.889d7500ee8784edcd83c57d7083a3ab.txt  \n",
            " extracting: valid/labels/image_792_jpg.rf.ac0c4ac0fe16d53a9a0931c6a3134f81.txt  \n",
            " extracting: valid/labels/image_7_jpg.rf.b97fe0bb97840f2b5993c897203d11ab.txt  \n",
            " extracting: valid/labels/image_800_jpg.rf.f0575573181031aa2172a95750cded30.txt  \n",
            " extracting: valid/labels/image_802_jpg.rf.8ee10c1307aca245657bbd71845c0b82.txt  \n",
            " extracting: valid/labels/image_806_jpg.rf.e39d44d260cf17278c08026c0df53c80.txt  \n",
            " extracting: valid/labels/image_812_jpg.rf.20da7b689643c993b673f84f8a66722b.txt  \n",
            " extracting: valid/labels/image_813_jpg.rf.9384f710280f2a6f22c253a6a6536397.txt  \n",
            " extracting: valid/labels/image_821_jpg.rf.04e98df74a77082399ee1e14c7ed65fe.txt  \n",
            " extracting: valid/labels/image_823_jpg.rf.aa3b73b4a8a36cffb703f299aa3d4937.txt  \n",
            " extracting: valid/labels/image_824_jpg.rf.6eea87e39cc466841b0b9c7f24044240.txt  \n",
            " extracting: valid/labels/image_832_jpg.rf.a9ea2847128bee30a79816d0549518a1.txt  \n",
            " extracting: valid/labels/image_834_jpg.rf.a6f87832acfdc8e9716b5d70e992bfd1.txt  \n",
            " extracting: valid/labels/image_838_jpg.rf.42118c013636a4edad0ce6aa98d959c5.txt  \n",
            " extracting: valid/labels/image_83_jpg.rf.22e7102075cba827320f38e56b7b6953.txt  \n",
            " extracting: valid/labels/image_841_jpg.rf.edab5a2dfa74ddda81d52dfa227ebb4d.txt  \n",
            " extracting: valid/labels/image_842_jpg.rf.aa73747c2ddc01059c55e709543700a3.txt  \n",
            " extracting: valid/labels/image_843_jpg.rf.706bea8c46b2833c049b056aedb1ceda.txt  \n",
            " extracting: valid/labels/image_850_jpg.rf.30bc345fb065f341d7fe282e6aa0946f.txt  \n",
            " extracting: valid/labels/image_860_jpg.rf.8b4c286281ca2fef8f127b21fad7fb89.txt  \n",
            " extracting: valid/labels/image_863_jpg.rf.abe79fdba06a4a58ab4534e03c2ffd3b.txt  \n",
            " extracting: valid/labels/image_866_jpg.rf.d966d225c989e97822f8ac3f4d2508b7.txt  \n",
            " extracting: valid/labels/image_874_jpg.rf.ff8fe50d37adcee55dec1a6297c8f8f5.txt  \n",
            " extracting: valid/labels/image_876_jpg.rf.4fe416047ce9464228edf5e32766325a.txt  \n",
            " extracting: valid/labels/image_879_jpg.rf.f18ef7edf4bb169f364f902b4dc4723d.txt  \n",
            " extracting: valid/labels/image_880_jpg.rf.52492443c45e22d3f0754ff88bfee1c2.txt  \n",
            " extracting: valid/labels/image_895_jpg.rf.b87b9e096d4419f5c3177ef8b971a817.txt  \n",
            " extracting: valid/labels/image_8_jpg.rf.d0a762cf8a251ebcadd6e2e4641210d3.txt  \n",
            " extracting: valid/labels/image_95_jpg.rf.f070c8cd6cb8414cbb146280d28de95f.txt  \n",
            " extracting: valid/labels/image_96_jpg.rf.7d6518a0ff8b2bcb6e9ea61b01c828cd.txt  \n"
          ]
        }
      ]
    },
    {
      "cell_type": "code",
      "source": [
        "!cp /content/drive/MyDrive/FireDetection/yolov8n.pt /content/yolov8n.pt"
      ],
      "metadata": {
        "id": "I9z3HbZcOehz"
      },
      "execution_count": 7,
      "outputs": []
    },
    {
      "cell_type": "code",
      "source": [
        "from ultralytics import YOLO\n",
        "model=YOLO('/content/yolov8n.pt')\n",
        "model.train(data='/content/data.yaml', epochs=100, batch=16, imgsz=640)"
      ],
      "metadata": {
        "colab": {
          "base_uri": "https://localhost:8080/"
        },
        "id": "VKvv_AXjbi6s",
        "outputId": "7b7b1ab8-5eb9-486a-897e-4cafc787117e"
      },
      "execution_count": 13,
      "outputs": [
        {
          "metadata": {
            "tags": null
          },
          "name": "stdout",
          "output_type": "stream",
          "text": [
            "Ultralytics 8.3.69 🚀 Python-3.11.11 torch-2.5.1+cu121 CUDA:0 (Tesla T4, 15102MiB)\n",
            "\u001b[34m\u001b[1mengine/trainer: \u001b[0mtask=detect, mode=train, model=/content/yolov8n.pt, data=/content/data.yaml, epochs=100, time=None, patience=100, batch=16, imgsz=640, save=True, save_period=-1, cache=False, device=None, workers=8, project=None, name=train3, exist_ok=False, pretrained=True, optimizer=auto, verbose=True, seed=0, deterministic=True, single_cls=False, rect=False, cos_lr=False, close_mosaic=10, resume=False, amp=True, fraction=1.0, profile=False, freeze=None, multi_scale=False, overlap_mask=True, mask_ratio=4, dropout=0.0, val=True, split=val, save_json=False, save_hybrid=False, conf=None, iou=0.7, max_det=300, half=False, dnn=False, plots=True, source=None, vid_stride=1, stream_buffer=False, visualize=False, augment=False, agnostic_nms=False, classes=None, retina_masks=False, embed=None, show=False, save_frames=False, save_txt=False, save_conf=False, save_crop=False, show_labels=True, show_conf=True, show_boxes=True, line_width=None, format=torchscript, keras=False, optimize=False, int8=False, dynamic=False, simplify=True, opset=None, workspace=None, nms=False, lr0=0.01, lrf=0.01, momentum=0.937, weight_decay=0.0005, warmup_epochs=3.0, warmup_momentum=0.8, warmup_bias_lr=0.1, box=7.5, cls=0.5, dfl=1.5, pose=12.0, kobj=1.0, nbs=64, hsv_h=0.015, hsv_s=0.7, hsv_v=0.4, degrees=0.0, translate=0.1, scale=0.5, shear=0.0, perspective=0.0, flipud=0.0, fliplr=0.5, bgr=0.0, mosaic=1.0, mixup=0.0, copy_paste=0.0, copy_paste_mode=flip, auto_augment=randaugment, erasing=0.4, crop_fraction=1.0, cfg=None, tracker=botsort.yaml, save_dir=runs/detect/train3\n",
            "Overriding model.yaml nc=80 with nc=2\n",
            "\n",
            "                   from  n    params  module                                       arguments                     \n",
            "  0                  -1  1       464  ultralytics.nn.modules.conv.Conv             [3, 16, 3, 2]                 \n",
            "  1                  -1  1      4672  ultralytics.nn.modules.conv.Conv             [16, 32, 3, 2]                \n",
            "  2                  -1  1      7360  ultralytics.nn.modules.block.C2f             [32, 32, 1, True]             \n",
            "  3                  -1  1     18560  ultralytics.nn.modules.conv.Conv             [32, 64, 3, 2]                \n",
            "  4                  -1  2     49664  ultralytics.nn.modules.block.C2f             [64, 64, 2, True]             \n",
            "  5                  -1  1     73984  ultralytics.nn.modules.conv.Conv             [64, 128, 3, 2]               \n",
            "  6                  -1  2    197632  ultralytics.nn.modules.block.C2f             [128, 128, 2, True]           \n",
            "  7                  -1  1    295424  ultralytics.nn.modules.conv.Conv             [128, 256, 3, 2]              \n",
            "  8                  -1  1    460288  ultralytics.nn.modules.block.C2f             [256, 256, 1, True]           \n",
            "  9                  -1  1    164608  ultralytics.nn.modules.block.SPPF            [256, 256, 5]                 \n",
            " 10                  -1  1         0  torch.nn.modules.upsampling.Upsample         [None, 2, 'nearest']          \n",
            " 11             [-1, 6]  1         0  ultralytics.nn.modules.conv.Concat           [1]                           \n",
            " 12                  -1  1    148224  ultralytics.nn.modules.block.C2f             [384, 128, 1]                 \n",
            " 13                  -1  1         0  torch.nn.modules.upsampling.Upsample         [None, 2, 'nearest']          \n",
            " 14             [-1, 4]  1         0  ultralytics.nn.modules.conv.Concat           [1]                           \n",
            " 15                  -1  1     37248  ultralytics.nn.modules.block.C2f             [192, 64, 1]                  \n",
            " 16                  -1  1     36992  ultralytics.nn.modules.conv.Conv             [64, 64, 3, 2]                \n",
            " 17            [-1, 12]  1         0  ultralytics.nn.modules.conv.Concat           [1]                           \n",
            " 18                  -1  1    123648  ultralytics.nn.modules.block.C2f             [192, 128, 1]                 \n",
            " 19                  -1  1    147712  ultralytics.nn.modules.conv.Conv             [128, 128, 3, 2]              \n",
            " 20             [-1, 9]  1         0  ultralytics.nn.modules.conv.Concat           [1]                           \n",
            " 21                  -1  1    493056  ultralytics.nn.modules.block.C2f             [384, 256, 1]                 \n",
            " 22        [15, 18, 21]  1    751702  ultralytics.nn.modules.head.Detect           [2, [64, 128, 256]]           \n",
            "Model summary: 225 layers, 3,011,238 parameters, 3,011,222 gradients, 8.2 GFLOPs\n",
            "\n",
            "Transferred 319/355 items from pretrained weights\n",
            "\u001b[34m\u001b[1mTensorBoard: \u001b[0mStart with 'tensorboard --logdir runs/detect/train3', view at http://localhost:6006/\n",
            "Freezing layer 'model.22.dfl.conv.weight'\n",
            "\u001b[34m\u001b[1mAMP: \u001b[0mrunning Automatic Mixed Precision (AMP) checks...\n",
            "\u001b[34m\u001b[1mAMP: \u001b[0mchecks passed ✅\n"
          ]
        },
        {
          "metadata": {
            "tags": null
          },
          "name": "stderr",
          "output_type": "stream",
          "text": [
            "\u001b[34m\u001b[1mtrain: \u001b[0mScanning /content/train/labels.cache... 597 images, 0 backgrounds, 0 corrupt: 100%|██████████| 597/597 [00:00<?, ?it/s]"
          ]
        },
        {
          "metadata": {
            "tags": null
          },
          "name": "stdout",
          "output_type": "stream",
          "text": [
            "\u001b[34m\u001b[1malbumentations: \u001b[0mBlur(p=0.01, blur_limit=(3, 7)), MedianBlur(p=0.01, blur_limit=(3, 7)), ToGray(p=0.01, num_output_channels=3, method='weighted_average'), CLAHE(p=0.01, clip_limit=(1.0, 4.0), tile_grid_size=(8, 8))\n"
          ]
        },
        {
          "metadata": {
            "tags": null
          },
          "name": "stderr",
          "output_type": "stream",
          "text": [
            "\n",
            "\u001b[34m\u001b[1mval: \u001b[0mScanning /content/valid/labels.cache... 173 images, 0 backgrounds, 0 corrupt: 100%|██████████| 173/173 [00:00<?, ?it/s]\n"
          ]
        },
        {
          "metadata": {
            "tags": null
          },
          "name": "stdout",
          "output_type": "stream",
          "text": [
            "Plotting labels to runs/detect/train3/labels.jpg... \n",
            "\u001b[34m\u001b[1moptimizer:\u001b[0m 'optimizer=auto' found, ignoring 'lr0=0.01' and 'momentum=0.937' and determining best 'optimizer', 'lr0' and 'momentum' automatically... \n",
            "\u001b[34m\u001b[1moptimizer:\u001b[0m AdamW(lr=0.001667, momentum=0.9) with parameter groups 57 weight(decay=0.0), 64 weight(decay=0.0005), 63 bias(decay=0.0)\n",
            "\u001b[34m\u001b[1mTensorBoard: \u001b[0mmodel graph visualization added ✅\n",
            "Image sizes 640 train, 640 val\n",
            "Using 2 dataloader workers\n",
            "Logging results to \u001b[1mruns/detect/train3\u001b[0m\n",
            "Starting training for 100 epochs...\n",
            "\n",
            "      Epoch    GPU_mem   box_loss   cls_loss   dfl_loss  Instances       Size\n"
          ]
        },
        {
          "metadata": {
            "tags": null
          },
          "name": "stderr",
          "output_type": "stream",
          "text": [
            "      1/100      2.42G      1.781      3.164      1.973         13        640: 100%|██████████| 38/38 [00:16<00:00,  2.35it/s]\n",
            "                 Class     Images  Instances      Box(P          R      mAP50  mAP50-95): 100%|██████████| 6/6 [00:01<00:00,  3.44it/s]"
          ]
        },
        {
          "metadata": {
            "tags": null
          },
          "name": "stdout",
          "output_type": "stream",
          "text": [
            "                   all        173        248    0.00371      0.738      0.105     0.0341\n"
          ]
        },
        {
          "metadata": {
            "tags": null
          },
          "name": "stderr",
          "output_type": "stream",
          "text": [
            "\n"
          ]
        },
        {
          "metadata": {
            "tags": null
          },
          "name": "stdout",
          "output_type": "stream",
          "text": [
            "\n",
            "      Epoch    GPU_mem   box_loss   cls_loss   dfl_loss  Instances       Size\n"
          ]
        },
        {
          "metadata": {
            "tags": null
          },
          "name": "stderr",
          "output_type": "stream",
          "text": [
            "      2/100      2.24G      1.802      2.779      1.979         12        640: 100%|██████████| 38/38 [00:14<00:00,  2.71it/s]\n",
            "                 Class     Images  Instances      Box(P          R      mAP50  mAP50-95): 100%|██████████| 6/6 [00:02<00:00,  2.34it/s]"
          ]
        },
        {
          "metadata": {
            "tags": null
          },
          "name": "stdout",
          "output_type": "stream",
          "text": [
            "                   all        173        248      0.237      0.235      0.123     0.0359\n"
          ]
        },
        {
          "metadata": {
            "tags": null
          },
          "name": "stderr",
          "output_type": "stream",
          "text": [
            "\n"
          ]
        },
        {
          "metadata": {
            "tags": null
          },
          "name": "stdout",
          "output_type": "stream",
          "text": [
            "\n",
            "      Epoch    GPU_mem   box_loss   cls_loss   dfl_loss  Instances       Size\n"
          ]
        },
        {
          "metadata": {
            "tags": null
          },
          "name": "stderr",
          "output_type": "stream",
          "text": [
            "      3/100      2.23G      1.864      2.699       2.02         18        640: 100%|██████████| 38/38 [00:09<00:00,  4.14it/s]\n",
            "                 Class     Images  Instances      Box(P          R      mAP50  mAP50-95): 100%|██████████| 6/6 [00:02<00:00,  2.12it/s]"
          ]
        },
        {
          "metadata": {
            "tags": null
          },
          "name": "stdout",
          "output_type": "stream",
          "text": [
            "                   all        173        248      0.113      0.228     0.0795      0.023\n"
          ]
        },
        {
          "metadata": {
            "tags": null
          },
          "name": "stderr",
          "output_type": "stream",
          "text": [
            "\n"
          ]
        },
        {
          "metadata": {
            "tags": null
          },
          "name": "stdout",
          "output_type": "stream",
          "text": [
            "\n",
            "      Epoch    GPU_mem   box_loss   cls_loss   dfl_loss  Instances       Size\n"
          ]
        },
        {
          "metadata": {
            "tags": null
          },
          "name": "stderr",
          "output_type": "stream",
          "text": [
            "      4/100      2.23G      1.906      2.637      2.071          5        640: 100%|██████████| 38/38 [00:12<00:00,  2.95it/s]\n",
            "                 Class     Images  Instances      Box(P          R      mAP50  mAP50-95): 100%|██████████| 6/6 [00:01<00:00,  3.75it/s]"
          ]
        },
        {
          "metadata": {
            "tags": null
          },
          "name": "stdout",
          "output_type": "stream",
          "text": [
            "                   all        173        248      0.106      0.201      0.088     0.0314\n"
          ]
        },
        {
          "metadata": {
            "tags": null
          },
          "name": "stderr",
          "output_type": "stream",
          "text": [
            "\n"
          ]
        },
        {
          "metadata": {
            "tags": null
          },
          "name": "stdout",
          "output_type": "stream",
          "text": [
            "\n",
            "      Epoch    GPU_mem   box_loss   cls_loss   dfl_loss  Instances       Size\n"
          ]
        },
        {
          "metadata": {
            "tags": null
          },
          "name": "stderr",
          "output_type": "stream",
          "text": [
            "      5/100      2.22G      1.847      2.496      1.997         24        640: 100%|██████████| 38/38 [00:12<00:00,  3.06it/s]\n",
            "                 Class     Images  Instances      Box(P          R      mAP50  mAP50-95): 100%|██████████| 6/6 [00:02<00:00,  2.16it/s]"
          ]
        },
        {
          "metadata": {
            "tags": null
          },
          "name": "stdout",
          "output_type": "stream",
          "text": [
            "                   all        173        248      0.181      0.378      0.174     0.0516\n"
          ]
        },
        {
          "metadata": {
            "tags": null
          },
          "name": "stderr",
          "output_type": "stream",
          "text": [
            "\n"
          ]
        },
        {
          "metadata": {
            "tags": null
          },
          "name": "stdout",
          "output_type": "stream",
          "text": [
            "\n",
            "      Epoch    GPU_mem   box_loss   cls_loss   dfl_loss  Instances       Size\n"
          ]
        },
        {
          "metadata": {
            "tags": null
          },
          "name": "stderr",
          "output_type": "stream",
          "text": [
            "      6/100      2.23G      1.809      2.445      1.995         12        640: 100%|██████████| 38/38 [00:09<00:00,  4.13it/s]\n",
            "                 Class     Images  Instances      Box(P          R      mAP50  mAP50-95): 100%|██████████| 6/6 [00:01<00:00,  4.27it/s]\n"
          ]
        },
        {
          "metadata": {
            "tags": null
          },
          "name": "stdout",
          "output_type": "stream",
          "text": [
            "                   all        173        248      0.147      0.265       0.15      0.042\n",
            "\n",
            "      Epoch    GPU_mem   box_loss   cls_loss   dfl_loss  Instances       Size\n"
          ]
        },
        {
          "metadata": {
            "tags": null
          },
          "name": "stderr",
          "output_type": "stream",
          "text": [
            "      7/100       2.2G      1.862      2.433      2.009         14        640: 100%|██████████| 38/38 [00:13<00:00,  2.83it/s]\n",
            "                 Class     Images  Instances      Box(P          R      mAP50  mAP50-95): 100%|██████████| 6/6 [00:01<00:00,  4.48it/s]"
          ]
        },
        {
          "metadata": {
            "tags": null
          },
          "name": "stdout",
          "output_type": "stream",
          "text": [
            "                   all        173        248      0.345      0.259      0.193     0.0591\n"
          ]
        },
        {
          "metadata": {
            "tags": null
          },
          "name": "stderr",
          "output_type": "stream",
          "text": [
            "\n"
          ]
        },
        {
          "metadata": {
            "tags": null
          },
          "name": "stdout",
          "output_type": "stream",
          "text": [
            "\n",
            "      Epoch    GPU_mem   box_loss   cls_loss   dfl_loss  Instances       Size\n"
          ]
        },
        {
          "metadata": {
            "tags": null
          },
          "name": "stderr",
          "output_type": "stream",
          "text": [
            "      8/100      2.21G      1.815      2.381      1.991         14        640: 100%|██████████| 38/38 [00:11<00:00,  3.27it/s]\n",
            "                 Class     Images  Instances      Box(P          R      mAP50  mAP50-95): 100%|██████████| 6/6 [00:03<00:00,  1.97it/s]"
          ]
        },
        {
          "metadata": {
            "tags": null
          },
          "name": "stdout",
          "output_type": "stream",
          "text": [
            "                   all        173        248      0.222      0.261      0.163     0.0499\n"
          ]
        },
        {
          "metadata": {
            "tags": null
          },
          "name": "stderr",
          "output_type": "stream",
          "text": [
            "\n"
          ]
        },
        {
          "metadata": {
            "tags": null
          },
          "name": "stdout",
          "output_type": "stream",
          "text": [
            "\n",
            "      Epoch    GPU_mem   box_loss   cls_loss   dfl_loss  Instances       Size\n"
          ]
        },
        {
          "metadata": {
            "tags": null
          },
          "name": "stderr",
          "output_type": "stream",
          "text": [
            "      9/100      2.22G        1.8      2.274      1.923         25        640: 100%|██████████| 38/38 [00:09<00:00,  4.19it/s]\n",
            "                 Class     Images  Instances      Box(P          R      mAP50  mAP50-95): 100%|██████████| 6/6 [00:01<00:00,  4.23it/s]"
          ]
        },
        {
          "metadata": {
            "tags": null
          },
          "name": "stdout",
          "output_type": "stream",
          "text": [
            "                   all        173        248      0.299       0.37      0.225     0.0783\n"
          ]
        },
        {
          "metadata": {
            "tags": null
          },
          "name": "stderr",
          "output_type": "stream",
          "text": [
            "\n"
          ]
        },
        {
          "metadata": {
            "tags": null
          },
          "name": "stdout",
          "output_type": "stream",
          "text": [
            "\n",
            "      Epoch    GPU_mem   box_loss   cls_loss   dfl_loss  Instances       Size\n"
          ]
        },
        {
          "metadata": {
            "tags": null
          },
          "name": "stderr",
          "output_type": "stream",
          "text": [
            "     10/100      2.26G      1.793      2.246      1.942         19        640: 100%|██████████| 38/38 [00:13<00:00,  2.76it/s]\n",
            "                 Class     Images  Instances      Box(P          R      mAP50  mAP50-95): 100%|██████████| 6/6 [00:01<00:00,  4.09it/s]\n"
          ]
        },
        {
          "metadata": {
            "tags": null
          },
          "name": "stdout",
          "output_type": "stream",
          "text": [
            "                   all        173        248       0.24      0.362      0.229     0.0799\n",
            "\n",
            "      Epoch    GPU_mem   box_loss   cls_loss   dfl_loss  Instances       Size\n"
          ]
        },
        {
          "metadata": {
            "tags": null
          },
          "name": "stderr",
          "output_type": "stream",
          "text": [
            "     11/100      2.22G      1.746      2.237      1.925         11        640: 100%|██████████| 38/38 [00:11<00:00,  3.43it/s]\n",
            "                 Class     Images  Instances      Box(P          R      mAP50  mAP50-95): 100%|██████████| 6/6 [00:02<00:00,  2.16it/s]"
          ]
        },
        {
          "metadata": {
            "tags": null
          },
          "name": "stdout",
          "output_type": "stream",
          "text": [
            "                   all        173        248       0.36      0.281      0.245     0.0935\n"
          ]
        },
        {
          "metadata": {
            "tags": null
          },
          "name": "stderr",
          "output_type": "stream",
          "text": [
            "\n"
          ]
        },
        {
          "metadata": {
            "tags": null
          },
          "name": "stdout",
          "output_type": "stream",
          "text": [
            "\n",
            "      Epoch    GPU_mem   box_loss   cls_loss   dfl_loss  Instances       Size\n"
          ]
        },
        {
          "metadata": {
            "tags": null
          },
          "name": "stderr",
          "output_type": "stream",
          "text": [
            "     12/100      2.21G      1.765      2.235      1.922         17        640: 100%|██████████| 38/38 [00:10<00:00,  3.80it/s]\n",
            "                 Class     Images  Instances      Box(P          R      mAP50  mAP50-95): 100%|██████████| 6/6 [00:01<00:00,  4.06it/s]"
          ]
        },
        {
          "metadata": {
            "tags": null
          },
          "name": "stdout",
          "output_type": "stream",
          "text": [
            "                   all        173        248      0.254      0.333       0.21     0.0779\n"
          ]
        },
        {
          "metadata": {
            "tags": null
          },
          "name": "stderr",
          "output_type": "stream",
          "text": [
            "\n"
          ]
        },
        {
          "metadata": {
            "tags": null
          },
          "name": "stdout",
          "output_type": "stream",
          "text": [
            "\n",
            "      Epoch    GPU_mem   box_loss   cls_loss   dfl_loss  Instances       Size\n"
          ]
        },
        {
          "metadata": {
            "tags": null
          },
          "name": "stderr",
          "output_type": "stream",
          "text": [
            "     13/100      2.22G      1.723      2.223      1.915          9        640: 100%|██████████| 38/38 [00:13<00:00,  2.81it/s]\n",
            "                 Class     Images  Instances      Box(P          R      mAP50  mAP50-95): 100%|██████████| 6/6 [00:01<00:00,  4.12it/s]"
          ]
        },
        {
          "metadata": {
            "tags": null
          },
          "name": "stdout",
          "output_type": "stream",
          "text": [
            "                   all        173        248      0.446      0.346       0.34      0.132\n"
          ]
        },
        {
          "metadata": {
            "tags": null
          },
          "name": "stderr",
          "output_type": "stream",
          "text": [
            "\n"
          ]
        },
        {
          "metadata": {
            "tags": null
          },
          "name": "stdout",
          "output_type": "stream",
          "text": [
            "\n",
            "      Epoch    GPU_mem   box_loss   cls_loss   dfl_loss  Instances       Size\n"
          ]
        },
        {
          "metadata": {
            "tags": null
          },
          "name": "stderr",
          "output_type": "stream",
          "text": [
            "     14/100      2.21G      1.733      2.115      1.896         16        640: 100%|██████████| 38/38 [00:10<00:00,  3.65it/s]\n",
            "                 Class     Images  Instances      Box(P          R      mAP50  mAP50-95): 100%|██████████| 6/6 [00:02<00:00,  2.22it/s]"
          ]
        },
        {
          "metadata": {
            "tags": null
          },
          "name": "stdout",
          "output_type": "stream",
          "text": [
            "                   all        173        248      0.344      0.319      0.247     0.0877\n"
          ]
        },
        {
          "metadata": {
            "tags": null
          },
          "name": "stderr",
          "output_type": "stream",
          "text": [
            "\n"
          ]
        },
        {
          "metadata": {
            "tags": null
          },
          "name": "stdout",
          "output_type": "stream",
          "text": [
            "\n",
            "      Epoch    GPU_mem   box_loss   cls_loss   dfl_loss  Instances       Size\n"
          ]
        },
        {
          "metadata": {
            "tags": null
          },
          "name": "stderr",
          "output_type": "stream",
          "text": [
            "     15/100      2.22G      1.703      2.139      1.887         16        640: 100%|██████████| 38/38 [00:11<00:00,  3.37it/s]\n",
            "                 Class     Images  Instances      Box(P          R      mAP50  mAP50-95): 100%|██████████| 6/6 [00:01<00:00,  4.07it/s]"
          ]
        },
        {
          "metadata": {
            "tags": null
          },
          "name": "stdout",
          "output_type": "stream",
          "text": [
            "                   all        173        248      0.395      0.375      0.312      0.112\n"
          ]
        },
        {
          "metadata": {
            "tags": null
          },
          "name": "stderr",
          "output_type": "stream",
          "text": [
            "\n"
          ]
        },
        {
          "metadata": {
            "tags": null
          },
          "name": "stdout",
          "output_type": "stream",
          "text": [
            "\n",
            "      Epoch    GPU_mem   box_loss   cls_loss   dfl_loss  Instances       Size\n"
          ]
        },
        {
          "metadata": {
            "tags": null
          },
          "name": "stderr",
          "output_type": "stream",
          "text": [
            "     16/100      2.23G      1.696      2.106      1.853         17        640: 100%|██████████| 38/38 [00:14<00:00,  2.68it/s]\n",
            "                 Class     Images  Instances      Box(P          R      mAP50  mAP50-95): 100%|██████████| 6/6 [00:01<00:00,  4.09it/s]"
          ]
        },
        {
          "metadata": {
            "tags": null
          },
          "name": "stdout",
          "output_type": "stream",
          "text": [
            "                   all        173        248      0.219      0.433       0.24     0.0935\n"
          ]
        },
        {
          "metadata": {
            "tags": null
          },
          "name": "stderr",
          "output_type": "stream",
          "text": [
            "\n"
          ]
        },
        {
          "metadata": {
            "tags": null
          },
          "name": "stdout",
          "output_type": "stream",
          "text": [
            "\n",
            "      Epoch    GPU_mem   box_loss   cls_loss   dfl_loss  Instances       Size\n"
          ]
        },
        {
          "metadata": {
            "tags": null
          },
          "name": "stderr",
          "output_type": "stream",
          "text": [
            "     17/100      2.22G      1.706       2.09      1.857         14        640: 100%|██████████| 38/38 [00:09<00:00,  4.02it/s]\n",
            "                 Class     Images  Instances      Box(P          R      mAP50  mAP50-95): 100%|██████████| 6/6 [00:02<00:00,  2.44it/s]"
          ]
        },
        {
          "metadata": {
            "tags": null
          },
          "name": "stdout",
          "output_type": "stream",
          "text": [
            "                   all        173        248       0.41      0.386      0.312      0.126\n"
          ]
        },
        {
          "metadata": {
            "tags": null
          },
          "name": "stderr",
          "output_type": "stream",
          "text": [
            "\n"
          ]
        },
        {
          "metadata": {
            "tags": null
          },
          "name": "stdout",
          "output_type": "stream",
          "text": [
            "\n",
            "      Epoch    GPU_mem   box_loss   cls_loss   dfl_loss  Instances       Size\n"
          ]
        },
        {
          "metadata": {
            "tags": null
          },
          "name": "stderr",
          "output_type": "stream",
          "text": [
            "     18/100      2.24G      1.651      2.046      1.823         14        640: 100%|██████████| 38/38 [00:12<00:00,  2.95it/s]\n",
            "                 Class     Images  Instances      Box(P          R      mAP50  mAP50-95): 100%|██████████| 6/6 [00:01<00:00,  3.73it/s]"
          ]
        },
        {
          "metadata": {
            "tags": null
          },
          "name": "stdout",
          "output_type": "stream",
          "text": [
            "                   all        173        248      0.432      0.398       0.37      0.142\n"
          ]
        },
        {
          "metadata": {
            "tags": null
          },
          "name": "stderr",
          "output_type": "stream",
          "text": [
            "\n"
          ]
        },
        {
          "metadata": {
            "tags": null
          },
          "name": "stdout",
          "output_type": "stream",
          "text": [
            "\n",
            "      Epoch    GPU_mem   box_loss   cls_loss   dfl_loss  Instances       Size\n"
          ]
        },
        {
          "metadata": {
            "tags": null
          },
          "name": "stderr",
          "output_type": "stream",
          "text": [
            "     19/100      2.24G      1.686      2.087      1.837         20        640: 100%|██████████| 38/38 [00:13<00:00,  2.90it/s]\n",
            "                 Class     Images  Instances      Box(P          R      mAP50  mAP50-95): 100%|██████████| 6/6 [00:02<00:00,  2.18it/s]"
          ]
        },
        {
          "metadata": {
            "tags": null
          },
          "name": "stdout",
          "output_type": "stream",
          "text": [
            "                   all        173        248      0.432       0.42      0.367      0.147\n"
          ]
        },
        {
          "metadata": {
            "tags": null
          },
          "name": "stderr",
          "output_type": "stream",
          "text": [
            "\n"
          ]
        },
        {
          "metadata": {
            "tags": null
          },
          "name": "stdout",
          "output_type": "stream",
          "text": [
            "\n",
            "      Epoch    GPU_mem   box_loss   cls_loss   dfl_loss  Instances       Size\n"
          ]
        },
        {
          "metadata": {
            "tags": null
          },
          "name": "stderr",
          "output_type": "stream",
          "text": [
            "     20/100      2.21G      1.682      2.068      1.858         14        640: 100%|██████████| 38/38 [00:08<00:00,  4.23it/s]\n",
            "                 Class     Images  Instances      Box(P          R      mAP50  mAP50-95): 100%|██████████| 6/6 [00:01<00:00,  3.22it/s]"
          ]
        },
        {
          "metadata": {
            "tags": null
          },
          "name": "stdout",
          "output_type": "stream",
          "text": [
            "                   all        173        248      0.383      0.419      0.344      0.127\n"
          ]
        },
        {
          "metadata": {
            "tags": null
          },
          "name": "stderr",
          "output_type": "stream",
          "text": [
            "\n"
          ]
        },
        {
          "metadata": {
            "tags": null
          },
          "name": "stdout",
          "output_type": "stream",
          "text": [
            "\n",
            "      Epoch    GPU_mem   box_loss   cls_loss   dfl_loss  Instances       Size\n"
          ]
        },
        {
          "metadata": {
            "tags": null
          },
          "name": "stderr",
          "output_type": "stream",
          "text": [
            "     21/100      2.22G      1.698      2.089      1.858         15        640: 100%|██████████| 38/38 [00:13<00:00,  2.72it/s]\n",
            "                 Class     Images  Instances      Box(P          R      mAP50  mAP50-95): 100%|██████████| 6/6 [00:01<00:00,  4.11it/s]"
          ]
        },
        {
          "metadata": {
            "tags": null
          },
          "name": "stdout",
          "output_type": "stream",
          "text": [
            "                   all        173        248      0.357      0.411       0.32      0.139\n"
          ]
        },
        {
          "metadata": {
            "tags": null
          },
          "name": "stderr",
          "output_type": "stream",
          "text": [
            "\n"
          ]
        },
        {
          "metadata": {
            "tags": null
          },
          "name": "stdout",
          "output_type": "stream",
          "text": [
            "\n",
            "      Epoch    GPU_mem   box_loss   cls_loss   dfl_loss  Instances       Size\n"
          ]
        },
        {
          "metadata": {
            "tags": null
          },
          "name": "stderr",
          "output_type": "stream",
          "text": [
            "     22/100      2.21G      1.671      2.039      1.835         10        640: 100%|██████████| 38/38 [00:11<00:00,  3.35it/s]\n",
            "                 Class     Images  Instances      Box(P          R      mAP50  mAP50-95): 100%|██████████| 6/6 [00:02<00:00,  2.12it/s]"
          ]
        },
        {
          "metadata": {
            "tags": null
          },
          "name": "stdout",
          "output_type": "stream",
          "text": [
            "                   all        173        248      0.409       0.34      0.315      0.129\n"
          ]
        },
        {
          "metadata": {
            "tags": null
          },
          "name": "stderr",
          "output_type": "stream",
          "text": [
            "\n"
          ]
        },
        {
          "metadata": {
            "tags": null
          },
          "name": "stdout",
          "output_type": "stream",
          "text": [
            "\n",
            "      Epoch    GPU_mem   box_loss   cls_loss   dfl_loss  Instances       Size\n"
          ]
        },
        {
          "metadata": {
            "tags": null
          },
          "name": "stderr",
          "output_type": "stream",
          "text": [
            "     23/100      2.22G      1.654      1.999       1.83         10        640: 100%|██████████| 38/38 [00:09<00:00,  3.80it/s]\n",
            "                 Class     Images  Instances      Box(P          R      mAP50  mAP50-95): 100%|██████████| 6/6 [00:01<00:00,  3.97it/s]"
          ]
        },
        {
          "metadata": {
            "tags": null
          },
          "name": "stdout",
          "output_type": "stream",
          "text": [
            "                   all        173        248      0.388      0.363      0.292      0.116\n"
          ]
        },
        {
          "metadata": {
            "tags": null
          },
          "name": "stderr",
          "output_type": "stream",
          "text": [
            "\n"
          ]
        },
        {
          "metadata": {
            "tags": null
          },
          "name": "stdout",
          "output_type": "stream",
          "text": [
            "\n",
            "      Epoch    GPU_mem   box_loss   cls_loss   dfl_loss  Instances       Size\n"
          ]
        },
        {
          "metadata": {
            "tags": null
          },
          "name": "stderr",
          "output_type": "stream",
          "text": [
            "     24/100      2.23G       1.68      2.037      1.851          8        640: 100%|██████████| 38/38 [00:14<00:00,  2.71it/s]\n",
            "                 Class     Images  Instances      Box(P          R      mAP50  mAP50-95): 100%|██████████| 6/6 [00:01<00:00,  4.02it/s]"
          ]
        },
        {
          "metadata": {
            "tags": null
          },
          "name": "stdout",
          "output_type": "stream",
          "text": [
            "                   all        173        248      0.462      0.423      0.389       0.15\n"
          ]
        },
        {
          "metadata": {
            "tags": null
          },
          "name": "stderr",
          "output_type": "stream",
          "text": [
            "\n"
          ]
        },
        {
          "metadata": {
            "tags": null
          },
          "name": "stdout",
          "output_type": "stream",
          "text": [
            "\n",
            "      Epoch    GPU_mem   box_loss   cls_loss   dfl_loss  Instances       Size\n"
          ]
        },
        {
          "metadata": {
            "tags": null
          },
          "name": "stderr",
          "output_type": "stream",
          "text": [
            "     25/100      2.24G      1.684       1.95       1.81         18        640: 100%|██████████| 38/38 [00:10<00:00,  3.63it/s]\n",
            "                 Class     Images  Instances      Box(P          R      mAP50  mAP50-95): 100%|██████████| 6/6 [00:02<00:00,  2.08it/s]"
          ]
        },
        {
          "metadata": {
            "tags": null
          },
          "name": "stdout",
          "output_type": "stream",
          "text": [
            "                   all        173        248      0.418      0.456      0.392      0.156\n"
          ]
        },
        {
          "metadata": {
            "tags": null
          },
          "name": "stderr",
          "output_type": "stream",
          "text": [
            "\n"
          ]
        },
        {
          "metadata": {
            "tags": null
          },
          "name": "stdout",
          "output_type": "stream",
          "text": [
            "\n",
            "      Epoch    GPU_mem   box_loss   cls_loss   dfl_loss  Instances       Size\n"
          ]
        },
        {
          "metadata": {
            "tags": null
          },
          "name": "stderr",
          "output_type": "stream",
          "text": [
            "     26/100      2.21G      1.662      1.945      1.813         12        640: 100%|██████████| 38/38 [00:10<00:00,  3.51it/s]\n",
            "                 Class     Images  Instances      Box(P          R      mAP50  mAP50-95): 100%|██████████| 6/6 [00:01<00:00,  3.96it/s]"
          ]
        },
        {
          "metadata": {
            "tags": null
          },
          "name": "stdout",
          "output_type": "stream",
          "text": [
            "                   all        173        248      0.447      0.456      0.393      0.168\n"
          ]
        },
        {
          "metadata": {
            "tags": null
          },
          "name": "stderr",
          "output_type": "stream",
          "text": [
            "\n"
          ]
        },
        {
          "metadata": {
            "tags": null
          },
          "name": "stdout",
          "output_type": "stream",
          "text": [
            "\n",
            "      Epoch    GPU_mem   box_loss   cls_loss   dfl_loss  Instances       Size\n"
          ]
        },
        {
          "metadata": {
            "tags": null
          },
          "name": "stderr",
          "output_type": "stream",
          "text": [
            "     27/100      2.24G      1.619      1.885      1.782         12        640: 100%|██████████| 38/38 [00:13<00:00,  2.90it/s]\n",
            "                 Class     Images  Instances      Box(P          R      mAP50  mAP50-95): 100%|██████████| 6/6 [00:01<00:00,  4.18it/s]"
          ]
        },
        {
          "metadata": {
            "tags": null
          },
          "name": "stdout",
          "output_type": "stream",
          "text": [
            "                   all        173        248      0.426      0.467      0.399      0.179\n"
          ]
        },
        {
          "metadata": {
            "tags": null
          },
          "name": "stderr",
          "output_type": "stream",
          "text": [
            "\n"
          ]
        },
        {
          "metadata": {
            "tags": null
          },
          "name": "stdout",
          "output_type": "stream",
          "text": [
            "\n",
            "      Epoch    GPU_mem   box_loss   cls_loss   dfl_loss  Instances       Size\n"
          ]
        },
        {
          "metadata": {
            "tags": null
          },
          "name": "stderr",
          "output_type": "stream",
          "text": [
            "     28/100      2.24G      1.639      1.949      1.786         12        640: 100%|██████████| 38/38 [00:11<00:00,  3.40it/s]\n",
            "                 Class     Images  Instances      Box(P          R      mAP50  mAP50-95): 100%|██████████| 6/6 [00:02<00:00,  2.11it/s]"
          ]
        },
        {
          "metadata": {
            "tags": null
          },
          "name": "stdout",
          "output_type": "stream",
          "text": [
            "                   all        173        248      0.371      0.311      0.268      0.112\n"
          ]
        },
        {
          "metadata": {
            "tags": null
          },
          "name": "stderr",
          "output_type": "stream",
          "text": [
            "\n"
          ]
        },
        {
          "metadata": {
            "tags": null
          },
          "name": "stdout",
          "output_type": "stream",
          "text": [
            "\n",
            "      Epoch    GPU_mem   box_loss   cls_loss   dfl_loss  Instances       Size\n"
          ]
        },
        {
          "metadata": {
            "tags": null
          },
          "name": "stderr",
          "output_type": "stream",
          "text": [
            "     29/100      2.24G      1.601      1.884      1.776         12        640: 100%|██████████| 38/38 [00:09<00:00,  3.93it/s]\n",
            "                 Class     Images  Instances      Box(P          R      mAP50  mAP50-95): 100%|██████████| 6/6 [00:01<00:00,  4.10it/s]"
          ]
        },
        {
          "metadata": {
            "tags": null
          },
          "name": "stdout",
          "output_type": "stream",
          "text": [
            "                   all        173        248       0.43      0.487      0.427      0.173\n"
          ]
        },
        {
          "metadata": {
            "tags": null
          },
          "name": "stderr",
          "output_type": "stream",
          "text": [
            "\n"
          ]
        },
        {
          "metadata": {
            "tags": null
          },
          "name": "stdout",
          "output_type": "stream",
          "text": [
            "\n",
            "      Epoch    GPU_mem   box_loss   cls_loss   dfl_loss  Instances       Size\n"
          ]
        },
        {
          "metadata": {
            "tags": null
          },
          "name": "stderr",
          "output_type": "stream",
          "text": [
            "     30/100      2.21G      1.633       1.92      1.798         12        640: 100%|██████████| 38/38 [00:14<00:00,  2.65it/s]\n",
            "                 Class     Images  Instances      Box(P          R      mAP50  mAP50-95): 100%|██████████| 6/6 [00:01<00:00,  3.94it/s]"
          ]
        },
        {
          "metadata": {
            "tags": null
          },
          "name": "stdout",
          "output_type": "stream",
          "text": [
            "                   all        173        248      0.448      0.431      0.393       0.16\n"
          ]
        },
        {
          "metadata": {
            "tags": null
          },
          "name": "stderr",
          "output_type": "stream",
          "text": [
            "\n"
          ]
        },
        {
          "metadata": {
            "tags": null
          },
          "name": "stdout",
          "output_type": "stream",
          "text": [
            "\n",
            "      Epoch    GPU_mem   box_loss   cls_loss   dfl_loss  Instances       Size\n"
          ]
        },
        {
          "metadata": {
            "tags": null
          },
          "name": "stderr",
          "output_type": "stream",
          "text": [
            "     31/100       2.2G      1.566      1.849      1.745         20        640: 100%|██████████| 38/38 [00:10<00:00,  3.57it/s]\n",
            "                 Class     Images  Instances      Box(P          R      mAP50  mAP50-95): 100%|██████████| 6/6 [00:02<00:00,  2.16it/s]"
          ]
        },
        {
          "metadata": {
            "tags": null
          },
          "name": "stdout",
          "output_type": "stream",
          "text": [
            "                   all        173        248      0.467      0.447      0.433       0.19\n"
          ]
        },
        {
          "metadata": {
            "tags": null
          },
          "name": "stderr",
          "output_type": "stream",
          "text": [
            "\n"
          ]
        },
        {
          "metadata": {
            "tags": null
          },
          "name": "stdout",
          "output_type": "stream",
          "text": [
            "\n",
            "      Epoch    GPU_mem   box_loss   cls_loss   dfl_loss  Instances       Size\n"
          ]
        },
        {
          "metadata": {
            "tags": null
          },
          "name": "stderr",
          "output_type": "stream",
          "text": [
            "     32/100      2.21G      1.623      1.855      1.785         17        640: 100%|██████████| 38/38 [00:11<00:00,  3.41it/s]\n",
            "                 Class     Images  Instances      Box(P          R      mAP50  mAP50-95): 100%|██████████| 6/6 [00:01<00:00,  3.78it/s]"
          ]
        },
        {
          "metadata": {
            "tags": null
          },
          "name": "stdout",
          "output_type": "stream",
          "text": [
            "                   all        173        248      0.503      0.443      0.441      0.193\n"
          ]
        },
        {
          "metadata": {
            "tags": null
          },
          "name": "stderr",
          "output_type": "stream",
          "text": [
            "\n"
          ]
        },
        {
          "metadata": {
            "tags": null
          },
          "name": "stdout",
          "output_type": "stream",
          "text": [
            "\n",
            "      Epoch    GPU_mem   box_loss   cls_loss   dfl_loss  Instances       Size\n"
          ]
        },
        {
          "metadata": {
            "tags": null
          },
          "name": "stderr",
          "output_type": "stream",
          "text": [
            "     33/100      2.22G      1.597      1.859      1.781         12        640: 100%|██████████| 38/38 [00:14<00:00,  2.67it/s]\n",
            "                 Class     Images  Instances      Box(P          R      mAP50  mAP50-95): 100%|██████████| 6/6 [00:01<00:00,  3.93it/s]"
          ]
        },
        {
          "metadata": {
            "tags": null
          },
          "name": "stdout",
          "output_type": "stream",
          "text": [
            "                   all        173        248       0.44      0.469      0.374      0.148\n"
          ]
        },
        {
          "metadata": {
            "tags": null
          },
          "name": "stderr",
          "output_type": "stream",
          "text": [
            "\n"
          ]
        },
        {
          "metadata": {
            "tags": null
          },
          "name": "stdout",
          "output_type": "stream",
          "text": [
            "\n",
            "      Epoch    GPU_mem   box_loss   cls_loss   dfl_loss  Instances       Size\n"
          ]
        },
        {
          "metadata": {
            "tags": null
          },
          "name": "stderr",
          "output_type": "stream",
          "text": [
            "     34/100      2.21G      1.599      1.876      1.775         15        640: 100%|██████████| 38/38 [00:09<00:00,  3.88it/s]\n",
            "                 Class     Images  Instances      Box(P          R      mAP50  mAP50-95): 100%|██████████| 6/6 [00:02<00:00,  2.33it/s]"
          ]
        },
        {
          "metadata": {
            "tags": null
          },
          "name": "stdout",
          "output_type": "stream",
          "text": [
            "                   all        173        248      0.562      0.413      0.427      0.165\n"
          ]
        },
        {
          "metadata": {
            "tags": null
          },
          "name": "stderr",
          "output_type": "stream",
          "text": [
            "\n"
          ]
        },
        {
          "metadata": {
            "tags": null
          },
          "name": "stdout",
          "output_type": "stream",
          "text": [
            "\n",
            "      Epoch    GPU_mem   box_loss   cls_loss   dfl_loss  Instances       Size\n"
          ]
        },
        {
          "metadata": {
            "tags": null
          },
          "name": "stderr",
          "output_type": "stream",
          "text": [
            "     35/100      2.22G      1.577      1.778      1.744         16        640: 100%|██████████| 38/38 [00:11<00:00,  3.22it/s]\n",
            "                 Class     Images  Instances      Box(P          R      mAP50  mAP50-95): 100%|██████████| 6/6 [00:01<00:00,  4.39it/s]"
          ]
        },
        {
          "metadata": {
            "tags": null
          },
          "name": "stdout",
          "output_type": "stream",
          "text": [
            "                   all        173        248      0.541       0.48      0.486      0.198\n"
          ]
        },
        {
          "metadata": {
            "tags": null
          },
          "name": "stderr",
          "output_type": "stream",
          "text": [
            "\n"
          ]
        },
        {
          "metadata": {
            "tags": null
          },
          "name": "stdout",
          "output_type": "stream",
          "text": [
            "\n",
            "      Epoch    GPU_mem   box_loss   cls_loss   dfl_loss  Instances       Size\n"
          ]
        },
        {
          "metadata": {
            "tags": null
          },
          "name": "stderr",
          "output_type": "stream",
          "text": [
            "     36/100      2.22G      1.542      1.844       1.72         10        640: 100%|██████████| 38/38 [00:13<00:00,  2.82it/s]\n",
            "                 Class     Images  Instances      Box(P          R      mAP50  mAP50-95): 100%|██████████| 6/6 [00:02<00:00,  2.90it/s]"
          ]
        },
        {
          "metadata": {
            "tags": null
          },
          "name": "stdout",
          "output_type": "stream",
          "text": [
            "                   all        173        248      0.439      0.438      0.413       0.17\n"
          ]
        },
        {
          "metadata": {
            "tags": null
          },
          "name": "stderr",
          "output_type": "stream",
          "text": [
            "\n"
          ]
        },
        {
          "metadata": {
            "tags": null
          },
          "name": "stdout",
          "output_type": "stream",
          "text": [
            "\n",
            "      Epoch    GPU_mem   box_loss   cls_loss   dfl_loss  Instances       Size\n"
          ]
        },
        {
          "metadata": {
            "tags": null
          },
          "name": "stderr",
          "output_type": "stream",
          "text": [
            "     37/100      2.22G      1.592      1.863       1.76         10        640: 100%|██████████| 38/38 [00:09<00:00,  4.11it/s]\n",
            "                 Class     Images  Instances      Box(P          R      mAP50  mAP50-95): 100%|██████████| 6/6 [00:02<00:00,  2.38it/s]"
          ]
        },
        {
          "metadata": {
            "tags": null
          },
          "name": "stdout",
          "output_type": "stream",
          "text": [
            "                   all        173        248      0.507      0.445      0.429      0.166\n"
          ]
        },
        {
          "metadata": {
            "tags": null
          },
          "name": "stderr",
          "output_type": "stream",
          "text": [
            "\n"
          ]
        },
        {
          "metadata": {
            "tags": null
          },
          "name": "stdout",
          "output_type": "stream",
          "text": [
            "\n",
            "      Epoch    GPU_mem   box_loss   cls_loss   dfl_loss  Instances       Size\n"
          ]
        },
        {
          "metadata": {
            "tags": null
          },
          "name": "stderr",
          "output_type": "stream",
          "text": [
            "     38/100      2.23G      1.577      1.857      1.756         23        640: 100%|██████████| 38/38 [00:11<00:00,  3.18it/s]\n",
            "                 Class     Images  Instances      Box(P          R      mAP50  mAP50-95): 100%|██████████| 6/6 [00:01<00:00,  4.01it/s]"
          ]
        },
        {
          "metadata": {
            "tags": null
          },
          "name": "stdout",
          "output_type": "stream",
          "text": [
            "                   all        173        248      0.402      0.527      0.453       0.19\n"
          ]
        },
        {
          "metadata": {
            "tags": null
          },
          "name": "stderr",
          "output_type": "stream",
          "text": [
            "\n"
          ]
        },
        {
          "metadata": {
            "tags": null
          },
          "name": "stdout",
          "output_type": "stream",
          "text": [
            "\n",
            "      Epoch    GPU_mem   box_loss   cls_loss   dfl_loss  Instances       Size\n"
          ]
        },
        {
          "metadata": {
            "tags": null
          },
          "name": "stderr",
          "output_type": "stream",
          "text": [
            "     39/100      2.22G      1.545      1.768      1.724         13        640: 100%|██████████| 38/38 [00:13<00:00,  2.92it/s]\n",
            "                 Class     Images  Instances      Box(P          R      mAP50  mAP50-95): 100%|██████████| 6/6 [00:02<00:00,  2.61it/s]"
          ]
        },
        {
          "metadata": {
            "tags": null
          },
          "name": "stdout",
          "output_type": "stream",
          "text": [
            "                   all        173        248      0.459      0.448      0.404      0.168\n"
          ]
        },
        {
          "metadata": {
            "tags": null
          },
          "name": "stderr",
          "output_type": "stream",
          "text": [
            "\n"
          ]
        },
        {
          "metadata": {
            "tags": null
          },
          "name": "stdout",
          "output_type": "stream",
          "text": [
            "\n",
            "      Epoch    GPU_mem   box_loss   cls_loss   dfl_loss  Instances       Size\n"
          ]
        },
        {
          "metadata": {
            "tags": null
          },
          "name": "stderr",
          "output_type": "stream",
          "text": [
            "     40/100      2.24G      1.538      1.732      1.715         10        640: 100%|██████████| 38/38 [00:09<00:00,  4.18it/s]\n",
            "                 Class     Images  Instances      Box(P          R      mAP50  mAP50-95): 100%|██████████| 6/6 [00:02<00:00,  2.54it/s]"
          ]
        },
        {
          "metadata": {
            "tags": null
          },
          "name": "stdout",
          "output_type": "stream",
          "text": [
            "                   all        173        248      0.542      0.447      0.445      0.189\n"
          ]
        },
        {
          "metadata": {
            "tags": null
          },
          "name": "stderr",
          "output_type": "stream",
          "text": [
            "\n"
          ]
        },
        {
          "metadata": {
            "tags": null
          },
          "name": "stdout",
          "output_type": "stream",
          "text": [
            "\n",
            "      Epoch    GPU_mem   box_loss   cls_loss   dfl_loss  Instances       Size\n"
          ]
        },
        {
          "metadata": {
            "tags": null
          },
          "name": "stderr",
          "output_type": "stream",
          "text": [
            "     41/100      2.22G       1.56       1.75      1.736          9        640: 100%|██████████| 38/38 [00:12<00:00,  2.94it/s]\n",
            "                 Class     Images  Instances      Box(P          R      mAP50  mAP50-95): 100%|██████████| 6/6 [00:01<00:00,  3.87it/s]"
          ]
        },
        {
          "metadata": {
            "tags": null
          },
          "name": "stdout",
          "output_type": "stream",
          "text": [
            "                   all        173        248       0.48      0.489      0.443      0.185\n"
          ]
        },
        {
          "metadata": {
            "tags": null
          },
          "name": "stderr",
          "output_type": "stream",
          "text": [
            "\n"
          ]
        },
        {
          "metadata": {
            "tags": null
          },
          "name": "stdout",
          "output_type": "stream",
          "text": [
            "\n",
            "      Epoch    GPU_mem   box_loss   cls_loss   dfl_loss  Instances       Size\n"
          ]
        },
        {
          "metadata": {
            "tags": null
          },
          "name": "stderr",
          "output_type": "stream",
          "text": [
            "     42/100      2.23G      1.586      1.773      1.736         15        640: 100%|██████████| 38/38 [00:12<00:00,  3.05it/s]\n",
            "                 Class     Images  Instances      Box(P          R      mAP50  mAP50-95): 100%|██████████| 6/6 [00:02<00:00,  2.15it/s]"
          ]
        },
        {
          "metadata": {
            "tags": null
          },
          "name": "stdout",
          "output_type": "stream",
          "text": [
            "                   all        173        248      0.406      0.467      0.399      0.167\n"
          ]
        },
        {
          "metadata": {
            "tags": null
          },
          "name": "stderr",
          "output_type": "stream",
          "text": [
            "\n"
          ]
        },
        {
          "metadata": {
            "tags": null
          },
          "name": "stdout",
          "output_type": "stream",
          "text": [
            "\n",
            "      Epoch    GPU_mem   box_loss   cls_loss   dfl_loss  Instances       Size\n"
          ]
        },
        {
          "metadata": {
            "tags": null
          },
          "name": "stderr",
          "output_type": "stream",
          "text": [
            "     43/100      2.24G      1.534      1.711      1.709         15        640: 100%|██████████| 38/38 [00:09<00:00,  3.99it/s]\n",
            "                 Class     Images  Instances      Box(P          R      mAP50  mAP50-95): 100%|██████████| 6/6 [00:01<00:00,  4.21it/s]"
          ]
        },
        {
          "metadata": {
            "tags": null
          },
          "name": "stdout",
          "output_type": "stream",
          "text": [
            "                   all        173        248      0.513      0.421      0.434      0.181\n"
          ]
        },
        {
          "metadata": {
            "tags": null
          },
          "name": "stderr",
          "output_type": "stream",
          "text": [
            "\n"
          ]
        },
        {
          "metadata": {
            "tags": null
          },
          "name": "stdout",
          "output_type": "stream",
          "text": [
            "\n",
            "      Epoch    GPU_mem   box_loss   cls_loss   dfl_loss  Instances       Size\n"
          ]
        },
        {
          "metadata": {
            "tags": null
          },
          "name": "stderr",
          "output_type": "stream",
          "text": [
            "     44/100       2.3G      1.495      1.718      1.689         12        640: 100%|██████████| 38/38 [00:13<00:00,  2.77it/s]\n",
            "                 Class     Images  Instances      Box(P          R      mAP50  mAP50-95): 100%|██████████| 6/6 [00:01<00:00,  4.52it/s]"
          ]
        },
        {
          "metadata": {
            "tags": null
          },
          "name": "stdout",
          "output_type": "stream",
          "text": [
            "                   all        173        248      0.443      0.464      0.449      0.197\n"
          ]
        },
        {
          "metadata": {
            "tags": null
          },
          "name": "stderr",
          "output_type": "stream",
          "text": [
            "\n"
          ]
        },
        {
          "metadata": {
            "tags": null
          },
          "name": "stdout",
          "output_type": "stream",
          "text": [
            "\n",
            "      Epoch    GPU_mem   box_loss   cls_loss   dfl_loss  Instances       Size\n"
          ]
        },
        {
          "metadata": {
            "tags": null
          },
          "name": "stderr",
          "output_type": "stream",
          "text": [
            "     45/100      2.21G      1.492       1.65      1.681         17        640: 100%|██████████| 38/38 [00:11<00:00,  3.42it/s]\n",
            "                 Class     Images  Instances      Box(P          R      mAP50  mAP50-95): 100%|██████████| 6/6 [00:03<00:00,  1.93it/s]"
          ]
        },
        {
          "metadata": {
            "tags": null
          },
          "name": "stdout",
          "output_type": "stream",
          "text": [
            "                   all        173        248      0.488      0.421      0.428      0.191\n"
          ]
        },
        {
          "metadata": {
            "tags": null
          },
          "name": "stderr",
          "output_type": "stream",
          "text": [
            "\n"
          ]
        },
        {
          "metadata": {
            "tags": null
          },
          "name": "stdout",
          "output_type": "stream",
          "text": [
            "\n",
            "      Epoch    GPU_mem   box_loss   cls_loss   dfl_loss  Instances       Size\n"
          ]
        },
        {
          "metadata": {
            "tags": null
          },
          "name": "stderr",
          "output_type": "stream",
          "text": [
            "     46/100      2.22G      1.545      1.664      1.711         11        640: 100%|██████████| 38/38 [00:10<00:00,  3.55it/s]\n",
            "                 Class     Images  Instances      Box(P          R      mAP50  mAP50-95): 100%|██████████| 6/6 [00:01<00:00,  4.47it/s]"
          ]
        },
        {
          "metadata": {
            "tags": null
          },
          "name": "stdout",
          "output_type": "stream",
          "text": [
            "                   all        173        248      0.488       0.44      0.424      0.178\n"
          ]
        },
        {
          "metadata": {
            "tags": null
          },
          "name": "stderr",
          "output_type": "stream",
          "text": [
            "\n"
          ]
        },
        {
          "metadata": {
            "tags": null
          },
          "name": "stdout",
          "output_type": "stream",
          "text": [
            "\n",
            "      Epoch    GPU_mem   box_loss   cls_loss   dfl_loss  Instances       Size\n"
          ]
        },
        {
          "metadata": {
            "tags": null
          },
          "name": "stderr",
          "output_type": "stream",
          "text": [
            "     47/100      2.22G       1.51      1.693      1.703         11        640: 100%|██████████| 38/38 [00:14<00:00,  2.71it/s]\n",
            "                 Class     Images  Instances      Box(P          R      mAP50  mAP50-95): 100%|██████████| 6/6 [00:01<00:00,  4.04it/s]"
          ]
        },
        {
          "metadata": {
            "tags": null
          },
          "name": "stdout",
          "output_type": "stream",
          "text": [
            "                   all        173        248      0.471      0.462      0.419      0.172\n"
          ]
        },
        {
          "metadata": {
            "tags": null
          },
          "name": "stderr",
          "output_type": "stream",
          "text": [
            "\n"
          ]
        },
        {
          "metadata": {
            "tags": null
          },
          "name": "stdout",
          "output_type": "stream",
          "text": [
            "\n",
            "      Epoch    GPU_mem   box_loss   cls_loss   dfl_loss  Instances       Size\n"
          ]
        },
        {
          "metadata": {
            "tags": null
          },
          "name": "stderr",
          "output_type": "stream",
          "text": [
            "     48/100      2.23G      1.502      1.646      1.685         13        640: 100%|██████████| 38/38 [00:10<00:00,  3.76it/s]\n",
            "                 Class     Images  Instances      Box(P          R      mAP50  mAP50-95): 100%|██████████| 6/6 [00:02<00:00,  2.17it/s]"
          ]
        },
        {
          "metadata": {
            "tags": null
          },
          "name": "stdout",
          "output_type": "stream",
          "text": [
            "                   all        173        248      0.501      0.467      0.417      0.187\n"
          ]
        },
        {
          "metadata": {
            "tags": null
          },
          "name": "stderr",
          "output_type": "stream",
          "text": [
            "\n"
          ]
        },
        {
          "metadata": {
            "tags": null
          },
          "name": "stdout",
          "output_type": "stream",
          "text": [
            "\n",
            "      Epoch    GPU_mem   box_loss   cls_loss   dfl_loss  Instances       Size\n"
          ]
        },
        {
          "metadata": {
            "tags": null
          },
          "name": "stderr",
          "output_type": "stream",
          "text": [
            "     49/100      2.22G      1.519      1.646      1.692         12        640: 100%|██████████| 38/38 [00:10<00:00,  3.47it/s]\n",
            "                 Class     Images  Instances      Box(P          R      mAP50  mAP50-95): 100%|██████████| 6/6 [00:01<00:00,  4.04it/s]"
          ]
        },
        {
          "metadata": {
            "tags": null
          },
          "name": "stdout",
          "output_type": "stream",
          "text": [
            "                   all        173        248      0.566      0.422      0.453      0.202\n"
          ]
        },
        {
          "metadata": {
            "tags": null
          },
          "name": "stderr",
          "output_type": "stream",
          "text": [
            "\n"
          ]
        },
        {
          "metadata": {
            "tags": null
          },
          "name": "stdout",
          "output_type": "stream",
          "text": [
            "\n",
            "      Epoch    GPU_mem   box_loss   cls_loss   dfl_loss  Instances       Size\n"
          ]
        },
        {
          "metadata": {
            "tags": null
          },
          "name": "stderr",
          "output_type": "stream",
          "text": [
            "     50/100      2.22G      1.498      1.623      1.664         18        640: 100%|██████████| 38/38 [00:14<00:00,  2.63it/s]\n",
            "                 Class     Images  Instances      Box(P          R      mAP50  mAP50-95): 100%|██████████| 6/6 [00:01<00:00,  4.10it/s]"
          ]
        },
        {
          "metadata": {
            "tags": null
          },
          "name": "stdout",
          "output_type": "stream",
          "text": [
            "                   all        173        248       0.49       0.45      0.439      0.187\n"
          ]
        },
        {
          "metadata": {
            "tags": null
          },
          "name": "stderr",
          "output_type": "stream",
          "text": [
            "\n"
          ]
        },
        {
          "metadata": {
            "tags": null
          },
          "name": "stdout",
          "output_type": "stream",
          "text": [
            "\n",
            "      Epoch    GPU_mem   box_loss   cls_loss   dfl_loss  Instances       Size\n"
          ]
        },
        {
          "metadata": {
            "tags": null
          },
          "name": "stderr",
          "output_type": "stream",
          "text": [
            "     51/100      2.22G      1.458      1.621      1.663          8        640: 100%|██████████| 38/38 [00:09<00:00,  3.86it/s]\n",
            "                 Class     Images  Instances      Box(P          R      mAP50  mAP50-95): 100%|██████████| 6/6 [00:02<00:00,  2.21it/s]"
          ]
        },
        {
          "metadata": {
            "tags": null
          },
          "name": "stdout",
          "output_type": "stream",
          "text": [
            "                   all        173        248      0.481      0.431      0.407       0.17\n"
          ]
        },
        {
          "metadata": {
            "tags": null
          },
          "name": "stderr",
          "output_type": "stream",
          "text": [
            "\n"
          ]
        },
        {
          "metadata": {
            "tags": null
          },
          "name": "stdout",
          "output_type": "stream",
          "text": [
            "\n",
            "      Epoch    GPU_mem   box_loss   cls_loss   dfl_loss  Instances       Size\n"
          ]
        },
        {
          "metadata": {
            "tags": null
          },
          "name": "stderr",
          "output_type": "stream",
          "text": [
            "     52/100      2.21G       1.48      1.612       1.68          8        640: 100%|██████████| 38/38 [00:12<00:00,  3.09it/s]\n",
            "                 Class     Images  Instances      Box(P          R      mAP50  mAP50-95): 100%|██████████| 6/6 [00:01<00:00,  3.97it/s]"
          ]
        },
        {
          "metadata": {
            "tags": null
          },
          "name": "stdout",
          "output_type": "stream",
          "text": [
            "                   all        173        248      0.554      0.454      0.458      0.198\n"
          ]
        },
        {
          "metadata": {
            "tags": null
          },
          "name": "stderr",
          "output_type": "stream",
          "text": [
            "\n"
          ]
        },
        {
          "metadata": {
            "tags": null
          },
          "name": "stdout",
          "output_type": "stream",
          "text": [
            "\n",
            "      Epoch    GPU_mem   box_loss   cls_loss   dfl_loss  Instances       Size\n"
          ]
        },
        {
          "metadata": {
            "tags": null
          },
          "name": "stderr",
          "output_type": "stream",
          "text": [
            "     53/100      2.22G      1.432      1.568      1.628         17        640: 100%|██████████| 38/38 [00:13<00:00,  2.91it/s]\n",
            "                 Class     Images  Instances      Box(P          R      mAP50  mAP50-95): 100%|██████████| 6/6 [00:02<00:00,  2.60it/s]"
          ]
        },
        {
          "metadata": {
            "tags": null
          },
          "name": "stdout",
          "output_type": "stream",
          "text": [
            "                   all        173        248      0.492      0.522       0.44      0.192\n"
          ]
        },
        {
          "metadata": {
            "tags": null
          },
          "name": "stderr",
          "output_type": "stream",
          "text": [
            "\n"
          ]
        },
        {
          "metadata": {
            "tags": null
          },
          "name": "stdout",
          "output_type": "stream",
          "text": [
            "\n",
            "      Epoch    GPU_mem   box_loss   cls_loss   dfl_loss  Instances       Size\n"
          ]
        },
        {
          "metadata": {
            "tags": null
          },
          "name": "stderr",
          "output_type": "stream",
          "text": [
            "     54/100      2.25G      1.472       1.59      1.648         15        640: 100%|██████████| 38/38 [00:08<00:00,  4.26it/s]\n",
            "                 Class     Images  Instances      Box(P          R      mAP50  mAP50-95): 100%|██████████| 6/6 [00:02<00:00,  2.45it/s]"
          ]
        },
        {
          "metadata": {
            "tags": null
          },
          "name": "stdout",
          "output_type": "stream",
          "text": [
            "                   all        173        248      0.521      0.493      0.472      0.198\n"
          ]
        },
        {
          "metadata": {
            "tags": null
          },
          "name": "stderr",
          "output_type": "stream",
          "text": [
            "\n"
          ]
        },
        {
          "metadata": {
            "tags": null
          },
          "name": "stdout",
          "output_type": "stream",
          "text": [
            "\n",
            "      Epoch    GPU_mem   box_loss   cls_loss   dfl_loss  Instances       Size\n"
          ]
        },
        {
          "metadata": {
            "tags": null
          },
          "name": "stderr",
          "output_type": "stream",
          "text": [
            "     55/100      2.23G      1.427      1.505      1.626         25        640: 100%|██████████| 38/38 [00:12<00:00,  2.98it/s]\n",
            "                 Class     Images  Instances      Box(P          R      mAP50  mAP50-95): 100%|██████████| 6/6 [00:01<00:00,  3.96it/s]"
          ]
        },
        {
          "metadata": {
            "tags": null
          },
          "name": "stdout",
          "output_type": "stream",
          "text": [
            "                   all        173        248      0.575      0.488      0.478      0.205\n"
          ]
        },
        {
          "metadata": {
            "tags": null
          },
          "name": "stderr",
          "output_type": "stream",
          "text": [
            "\n"
          ]
        },
        {
          "metadata": {
            "tags": null
          },
          "name": "stdout",
          "output_type": "stream",
          "text": [
            "\n",
            "      Epoch    GPU_mem   box_loss   cls_loss   dfl_loss  Instances       Size\n"
          ]
        },
        {
          "metadata": {
            "tags": null
          },
          "name": "stderr",
          "output_type": "stream",
          "text": [
            "     56/100      2.22G      1.438      1.539      1.642         16        640: 100%|██████████| 38/38 [00:13<00:00,  2.91it/s]\n",
            "                 Class     Images  Instances      Box(P          R      mAP50  mAP50-95): 100%|██████████| 6/6 [00:02<00:00,  2.59it/s]"
          ]
        },
        {
          "metadata": {
            "tags": null
          },
          "name": "stdout",
          "output_type": "stream",
          "text": [
            "                   all        173        248      0.499      0.411      0.397       0.16\n"
          ]
        },
        {
          "metadata": {
            "tags": null
          },
          "name": "stderr",
          "output_type": "stream",
          "text": [
            "\n"
          ]
        },
        {
          "metadata": {
            "tags": null
          },
          "name": "stdout",
          "output_type": "stream",
          "text": [
            "\n",
            "      Epoch    GPU_mem   box_loss   cls_loss   dfl_loss  Instances       Size\n"
          ]
        },
        {
          "metadata": {
            "tags": null
          },
          "name": "stderr",
          "output_type": "stream",
          "text": [
            "     57/100      2.22G      1.403      1.519      1.618         10        640: 100%|██████████| 38/38 [00:09<00:00,  4.09it/s]\n",
            "                 Class     Images  Instances      Box(P          R      mAP50  mAP50-95): 100%|██████████| 6/6 [00:02<00:00,  2.58it/s]"
          ]
        },
        {
          "metadata": {
            "tags": null
          },
          "name": "stdout",
          "output_type": "stream",
          "text": [
            "                   all        173        248        0.5      0.431      0.426      0.181\n"
          ]
        },
        {
          "metadata": {
            "tags": null
          },
          "name": "stderr",
          "output_type": "stream",
          "text": [
            "\n"
          ]
        },
        {
          "metadata": {
            "tags": null
          },
          "name": "stdout",
          "output_type": "stream",
          "text": [
            "\n",
            "      Epoch    GPU_mem   box_loss   cls_loss   dfl_loss  Instances       Size\n"
          ]
        },
        {
          "metadata": {
            "tags": null
          },
          "name": "stderr",
          "output_type": "stream",
          "text": [
            "     58/100      2.21G      1.419      1.489       1.62         14        640: 100%|██████████| 38/38 [00:12<00:00,  3.09it/s]\n",
            "                 Class     Images  Instances      Box(P          R      mAP50  mAP50-95): 100%|██████████| 6/6 [00:01<00:00,  3.86it/s]"
          ]
        },
        {
          "metadata": {
            "tags": null
          },
          "name": "stdout",
          "output_type": "stream",
          "text": [
            "                   all        173        248      0.565      0.506      0.503       0.21\n"
          ]
        },
        {
          "metadata": {
            "tags": null
          },
          "name": "stderr",
          "output_type": "stream",
          "text": [
            "\n"
          ]
        },
        {
          "metadata": {
            "tags": null
          },
          "name": "stdout",
          "output_type": "stream",
          "text": [
            "\n",
            "      Epoch    GPU_mem   box_loss   cls_loss   dfl_loss  Instances       Size\n"
          ]
        },
        {
          "metadata": {
            "tags": null
          },
          "name": "stderr",
          "output_type": "stream",
          "text": [
            "     59/100      2.22G      1.442      1.505      1.624         10        640: 100%|██████████| 38/38 [00:12<00:00,  2.98it/s]\n",
            "                 Class     Images  Instances      Box(P          R      mAP50  mAP50-95): 100%|██████████| 6/6 [00:02<00:00,  2.09it/s]"
          ]
        },
        {
          "metadata": {
            "tags": null
          },
          "name": "stdout",
          "output_type": "stream",
          "text": [
            "                   all        173        248      0.565      0.435      0.462      0.194\n"
          ]
        },
        {
          "metadata": {
            "tags": null
          },
          "name": "stderr",
          "output_type": "stream",
          "text": [
            "\n"
          ]
        },
        {
          "metadata": {
            "tags": null
          },
          "name": "stdout",
          "output_type": "stream",
          "text": [
            "\n",
            "      Epoch    GPU_mem   box_loss   cls_loss   dfl_loss  Instances       Size\n"
          ]
        },
        {
          "metadata": {
            "tags": null
          },
          "name": "stderr",
          "output_type": "stream",
          "text": [
            "     60/100      2.21G      1.449      1.473      1.622         12        640: 100%|██████████| 38/38 [00:09<00:00,  4.18it/s]\n",
            "                 Class     Images  Instances      Box(P          R      mAP50  mAP50-95): 100%|██████████| 6/6 [00:02<00:00,  2.74it/s]\n"
          ]
        },
        {
          "metadata": {
            "tags": null
          },
          "name": "stdout",
          "output_type": "stream",
          "text": [
            "                   all        173        248       0.47      0.488       0.44      0.189\n",
            "\n",
            "      Epoch    GPU_mem   box_loss   cls_loss   dfl_loss  Instances       Size\n"
          ]
        },
        {
          "metadata": {
            "tags": null
          },
          "name": "stderr",
          "output_type": "stream",
          "text": [
            "     61/100      2.22G      1.383      1.473      1.577         14        640: 100%|██████████| 38/38 [00:13<00:00,  2.76it/s]\n",
            "                 Class     Images  Instances      Box(P          R      mAP50  mAP50-95): 100%|██████████| 6/6 [00:01<00:00,  4.02it/s]"
          ]
        },
        {
          "metadata": {
            "tags": null
          },
          "name": "stdout",
          "output_type": "stream",
          "text": [
            "                   all        173        248      0.511      0.459      0.441      0.184\n"
          ]
        },
        {
          "metadata": {
            "tags": null
          },
          "name": "stderr",
          "output_type": "stream",
          "text": [
            "\n"
          ]
        },
        {
          "metadata": {
            "tags": null
          },
          "name": "stdout",
          "output_type": "stream",
          "text": [
            "\n",
            "      Epoch    GPU_mem   box_loss   cls_loss   dfl_loss  Instances       Size\n"
          ]
        },
        {
          "metadata": {
            "tags": null
          },
          "name": "stderr",
          "output_type": "stream",
          "text": [
            "     62/100      2.23G      1.381       1.47      1.601         10        640: 100%|██████████| 38/38 [00:11<00:00,  3.21it/s]\n",
            "                 Class     Images  Instances      Box(P          R      mAP50  mAP50-95): 100%|██████████| 6/6 [00:03<00:00,  1.99it/s]"
          ]
        },
        {
          "metadata": {
            "tags": null
          },
          "name": "stdout",
          "output_type": "stream",
          "text": [
            "                   all        173        248      0.522      0.482      0.465      0.195\n"
          ]
        },
        {
          "metadata": {
            "tags": null
          },
          "name": "stderr",
          "output_type": "stream",
          "text": [
            "\n"
          ]
        },
        {
          "metadata": {
            "tags": null
          },
          "name": "stdout",
          "output_type": "stream",
          "text": [
            "\n",
            "      Epoch    GPU_mem   box_loss   cls_loss   dfl_loss  Instances       Size\n"
          ]
        },
        {
          "metadata": {
            "tags": null
          },
          "name": "stderr",
          "output_type": "stream",
          "text": [
            "     63/100      2.22G      1.381      1.421       1.58         18        640: 100%|██████████| 38/38 [00:09<00:00,  3.98it/s]\n",
            "                 Class     Images  Instances      Box(P          R      mAP50  mAP50-95): 100%|██████████| 6/6 [00:01<00:00,  4.11it/s]"
          ]
        },
        {
          "metadata": {
            "tags": null
          },
          "name": "stdout",
          "output_type": "stream",
          "text": [
            "                   all        173        248      0.555      0.464      0.486      0.202\n"
          ]
        },
        {
          "metadata": {
            "tags": null
          },
          "name": "stderr",
          "output_type": "stream",
          "text": [
            "\n"
          ]
        },
        {
          "metadata": {
            "tags": null
          },
          "name": "stdout",
          "output_type": "stream",
          "text": [
            "\n",
            "      Epoch    GPU_mem   box_loss   cls_loss   dfl_loss  Instances       Size\n"
          ]
        },
        {
          "metadata": {
            "tags": null
          },
          "name": "stderr",
          "output_type": "stream",
          "text": [
            "     64/100      2.23G      1.415      1.465      1.617         12        640: 100%|██████████| 38/38 [00:13<00:00,  2.73it/s]\n",
            "                 Class     Images  Instances      Box(P          R      mAP50  mAP50-95): 100%|██████████| 6/6 [00:01<00:00,  3.92it/s]"
          ]
        },
        {
          "metadata": {
            "tags": null
          },
          "name": "stdout",
          "output_type": "stream",
          "text": [
            "                   all        173        248      0.525      0.532      0.484      0.207\n"
          ]
        },
        {
          "metadata": {
            "tags": null
          },
          "name": "stderr",
          "output_type": "stream",
          "text": [
            "\n"
          ]
        },
        {
          "metadata": {
            "tags": null
          },
          "name": "stdout",
          "output_type": "stream",
          "text": [
            "\n",
            "      Epoch    GPU_mem   box_loss   cls_loss   dfl_loss  Instances       Size\n"
          ]
        },
        {
          "metadata": {
            "tags": null
          },
          "name": "stderr",
          "output_type": "stream",
          "text": [
            "     65/100       2.2G      1.368       1.41      1.581         13        640: 100%|██████████| 38/38 [00:11<00:00,  3.39it/s]\n",
            "                 Class     Images  Instances      Box(P          R      mAP50  mAP50-95): 100%|██████████| 6/6 [00:02<00:00,  2.14it/s]"
          ]
        },
        {
          "metadata": {
            "tags": null
          },
          "name": "stdout",
          "output_type": "stream",
          "text": [
            "                   all        173        248      0.553      0.492      0.502      0.213\n"
          ]
        },
        {
          "metadata": {
            "tags": null
          },
          "name": "stderr",
          "output_type": "stream",
          "text": [
            "\n"
          ]
        },
        {
          "metadata": {
            "tags": null
          },
          "name": "stdout",
          "output_type": "stream",
          "text": [
            "\n",
            "      Epoch    GPU_mem   box_loss   cls_loss   dfl_loss  Instances       Size\n"
          ]
        },
        {
          "metadata": {
            "tags": null
          },
          "name": "stderr",
          "output_type": "stream",
          "text": [
            "     66/100      2.22G      1.356      1.384       1.58         14        640: 100%|██████████| 38/38 [00:10<00:00,  3.61it/s]\n",
            "                 Class     Images  Instances      Box(P          R      mAP50  mAP50-95): 100%|██████████| 6/6 [00:01<00:00,  4.14it/s]"
          ]
        },
        {
          "metadata": {
            "tags": null
          },
          "name": "stdout",
          "output_type": "stream",
          "text": [
            "                   all        173        248      0.497       0.48      0.479      0.218\n"
          ]
        },
        {
          "metadata": {
            "tags": null
          },
          "name": "stderr",
          "output_type": "stream",
          "text": [
            "\n"
          ]
        },
        {
          "metadata": {
            "tags": null
          },
          "name": "stdout",
          "output_type": "stream",
          "text": [
            "\n",
            "      Epoch    GPU_mem   box_loss   cls_loss   dfl_loss  Instances       Size\n"
          ]
        },
        {
          "metadata": {
            "tags": null
          },
          "name": "stderr",
          "output_type": "stream",
          "text": [
            "     67/100       2.2G      1.349      1.379      1.584          9        640: 100%|██████████| 38/38 [00:15<00:00,  2.51it/s]\n",
            "                 Class     Images  Instances      Box(P          R      mAP50  mAP50-95): 100%|██████████| 6/6 [00:01<00:00,  3.73it/s]"
          ]
        },
        {
          "metadata": {
            "tags": null
          },
          "name": "stdout",
          "output_type": "stream",
          "text": [
            "                   all        173        248      0.514      0.456      0.457      0.199\n"
          ]
        },
        {
          "metadata": {
            "tags": null
          },
          "name": "stderr",
          "output_type": "stream",
          "text": [
            "\n"
          ]
        },
        {
          "metadata": {
            "tags": null
          },
          "name": "stdout",
          "output_type": "stream",
          "text": [
            "\n",
            "      Epoch    GPU_mem   box_loss   cls_loss   dfl_loss  Instances       Size\n"
          ]
        },
        {
          "metadata": {
            "tags": null
          },
          "name": "stderr",
          "output_type": "stream",
          "text": [
            "     68/100      2.24G       1.35      1.379       1.56         15        640: 100%|██████████| 38/38 [00:12<00:00,  3.11it/s]\n",
            "                 Class     Images  Instances      Box(P          R      mAP50  mAP50-95): 100%|██████████| 6/6 [00:03<00:00,  1.77it/s]"
          ]
        },
        {
          "metadata": {
            "tags": null
          },
          "name": "stdout",
          "output_type": "stream",
          "text": [
            "                   all        173        248      0.597      0.435      0.471      0.199\n"
          ]
        },
        {
          "metadata": {
            "tags": null
          },
          "name": "stderr",
          "output_type": "stream",
          "text": [
            "\n"
          ]
        },
        {
          "metadata": {
            "tags": null
          },
          "name": "stdout",
          "output_type": "stream",
          "text": [
            "\n",
            "      Epoch    GPU_mem   box_loss   cls_loss   dfl_loss  Instances       Size\n"
          ]
        },
        {
          "metadata": {
            "tags": null
          },
          "name": "stderr",
          "output_type": "stream",
          "text": [
            "     69/100       2.2G      1.298      1.342      1.536          9        640: 100%|██████████| 38/38 [00:11<00:00,  3.40it/s]\n",
            "                 Class     Images  Instances      Box(P          R      mAP50  mAP50-95): 100%|██████████| 6/6 [00:01<00:00,  3.93it/s]"
          ]
        },
        {
          "metadata": {
            "tags": null
          },
          "name": "stdout",
          "output_type": "stream",
          "text": [
            "                   all        173        248       0.53      0.531      0.504      0.219\n"
          ]
        },
        {
          "metadata": {
            "tags": null
          },
          "name": "stderr",
          "output_type": "stream",
          "text": [
            "\n"
          ]
        },
        {
          "metadata": {
            "tags": null
          },
          "name": "stdout",
          "output_type": "stream",
          "text": [
            "\n",
            "      Epoch    GPU_mem   box_loss   cls_loss   dfl_loss  Instances       Size\n"
          ]
        },
        {
          "metadata": {
            "tags": null
          },
          "name": "stderr",
          "output_type": "stream",
          "text": [
            "     70/100      2.21G      1.317      1.344      1.548         19        640: 100%|██████████| 38/38 [00:13<00:00,  2.73it/s]\n",
            "                 Class     Images  Instances      Box(P          R      mAP50  mAP50-95): 100%|██████████| 6/6 [00:01<00:00,  4.12it/s]"
          ]
        },
        {
          "metadata": {
            "tags": null
          },
          "name": "stdout",
          "output_type": "stream",
          "text": [
            "                   all        173        248      0.513      0.476      0.453      0.178\n"
          ]
        },
        {
          "metadata": {
            "tags": null
          },
          "name": "stderr",
          "output_type": "stream",
          "text": [
            "\n"
          ]
        },
        {
          "metadata": {
            "tags": null
          },
          "name": "stdout",
          "output_type": "stream",
          "text": [
            "\n",
            "      Epoch    GPU_mem   box_loss   cls_loss   dfl_loss  Instances       Size\n"
          ]
        },
        {
          "metadata": {
            "tags": null
          },
          "name": "stderr",
          "output_type": "stream",
          "text": [
            "     71/100      2.22G      1.315      1.346      1.545         11        640: 100%|██████████| 38/38 [00:11<00:00,  3.43it/s]\n",
            "                 Class     Images  Instances      Box(P          R      mAP50  mAP50-95): 100%|██████████| 6/6 [00:02<00:00,  2.31it/s]"
          ]
        },
        {
          "metadata": {
            "tags": null
          },
          "name": "stdout",
          "output_type": "stream",
          "text": [
            "                   all        173        248       0.53       0.52      0.478      0.194\n"
          ]
        },
        {
          "metadata": {
            "tags": null
          },
          "name": "stderr",
          "output_type": "stream",
          "text": [
            "\n"
          ]
        },
        {
          "metadata": {
            "tags": null
          },
          "name": "stdout",
          "output_type": "stream",
          "text": [
            "\n",
            "      Epoch    GPU_mem   box_loss   cls_loss   dfl_loss  Instances       Size\n"
          ]
        },
        {
          "metadata": {
            "tags": null
          },
          "name": "stderr",
          "output_type": "stream",
          "text": [
            "     72/100      2.23G      1.308       1.33       1.54         13        640: 100%|██████████| 38/38 [00:09<00:00,  3.86it/s]\n",
            "                 Class     Images  Instances      Box(P          R      mAP50  mAP50-95): 100%|██████████| 6/6 [00:01<00:00,  3.68it/s]"
          ]
        },
        {
          "metadata": {
            "tags": null
          },
          "name": "stdout",
          "output_type": "stream",
          "text": [
            "                   all        173        248      0.552      0.455      0.475      0.203\n"
          ]
        },
        {
          "metadata": {
            "tags": null
          },
          "name": "stderr",
          "output_type": "stream",
          "text": [
            "\n"
          ]
        },
        {
          "metadata": {
            "tags": null
          },
          "name": "stdout",
          "output_type": "stream",
          "text": [
            "\n",
            "      Epoch    GPU_mem   box_loss   cls_loss   dfl_loss  Instances       Size\n"
          ]
        },
        {
          "metadata": {
            "tags": null
          },
          "name": "stderr",
          "output_type": "stream",
          "text": [
            "     73/100      2.22G      1.329      1.302      1.542         14        640: 100%|██████████| 38/38 [00:13<00:00,  2.91it/s]\n",
            "                 Class     Images  Instances      Box(P          R      mAP50  mAP50-95): 100%|██████████| 6/6 [00:01<00:00,  4.12it/s]"
          ]
        },
        {
          "metadata": {
            "tags": null
          },
          "name": "stdout",
          "output_type": "stream",
          "text": [
            "                   all        173        248       0.52      0.479      0.452      0.175\n"
          ]
        },
        {
          "metadata": {
            "tags": null
          },
          "name": "stderr",
          "output_type": "stream",
          "text": [
            "\n"
          ]
        },
        {
          "metadata": {
            "tags": null
          },
          "name": "stdout",
          "output_type": "stream",
          "text": [
            "\n",
            "      Epoch    GPU_mem   box_loss   cls_loss   dfl_loss  Instances       Size\n"
          ]
        },
        {
          "metadata": {
            "tags": null
          },
          "name": "stderr",
          "output_type": "stream",
          "text": [
            "     74/100      2.23G      1.317      1.327       1.55         27        640: 100%|██████████| 38/38 [00:11<00:00,  3.41it/s]\n",
            "                 Class     Images  Instances      Box(P          R      mAP50  mAP50-95): 100%|██████████| 6/6 [00:02<00:00,  2.17it/s]"
          ]
        },
        {
          "metadata": {
            "tags": null
          },
          "name": "stdout",
          "output_type": "stream",
          "text": [
            "                   all        173        248       0.62      0.452      0.529      0.222\n"
          ]
        },
        {
          "metadata": {
            "tags": null
          },
          "name": "stderr",
          "output_type": "stream",
          "text": [
            "\n"
          ]
        },
        {
          "metadata": {
            "tags": null
          },
          "name": "stdout",
          "output_type": "stream",
          "text": [
            "\n",
            "      Epoch    GPU_mem   box_loss   cls_loss   dfl_loss  Instances       Size\n"
          ]
        },
        {
          "metadata": {
            "tags": null
          },
          "name": "stderr",
          "output_type": "stream",
          "text": [
            "     75/100      2.22G      1.297      1.326      1.541         18        640: 100%|██████████| 38/38 [00:10<00:00,  3.54it/s]\n",
            "                 Class     Images  Instances      Box(P          R      mAP50  mAP50-95): 100%|██████████| 6/6 [00:01<00:00,  4.14it/s]"
          ]
        },
        {
          "metadata": {
            "tags": null
          },
          "name": "stdout",
          "output_type": "stream",
          "text": [
            "                   all        173        248      0.539       0.52      0.496      0.213\n"
          ]
        },
        {
          "metadata": {
            "tags": null
          },
          "name": "stderr",
          "output_type": "stream",
          "text": [
            "\n"
          ]
        },
        {
          "metadata": {
            "tags": null
          },
          "name": "stdout",
          "output_type": "stream",
          "text": [
            "\n",
            "      Epoch    GPU_mem   box_loss   cls_loss   dfl_loss  Instances       Size\n"
          ]
        },
        {
          "metadata": {
            "tags": null
          },
          "name": "stderr",
          "output_type": "stream",
          "text": [
            "     76/100      2.21G      1.292        1.3      1.527         27        640: 100%|██████████| 38/38 [00:14<00:00,  2.60it/s]\n",
            "                 Class     Images  Instances      Box(P          R      mAP50  mAP50-95): 100%|██████████| 6/6 [00:01<00:00,  4.28it/s]"
          ]
        },
        {
          "metadata": {
            "tags": null
          },
          "name": "stdout",
          "output_type": "stream",
          "text": [
            "                   all        173        248      0.494      0.463      0.448      0.185\n"
          ]
        },
        {
          "metadata": {
            "tags": null
          },
          "name": "stderr",
          "output_type": "stream",
          "text": [
            "\n"
          ]
        },
        {
          "metadata": {
            "tags": null
          },
          "name": "stdout",
          "output_type": "stream",
          "text": [
            "\n",
            "      Epoch    GPU_mem   box_loss   cls_loss   dfl_loss  Instances       Size\n"
          ]
        },
        {
          "metadata": {
            "tags": null
          },
          "name": "stderr",
          "output_type": "stream",
          "text": [
            "     77/100      2.22G      1.294      1.328       1.54          9        640: 100%|██████████| 38/38 [00:09<00:00,  3.88it/s]\n",
            "                 Class     Images  Instances      Box(P          R      mAP50  mAP50-95): 100%|██████████| 6/6 [00:02<00:00,  2.27it/s]"
          ]
        },
        {
          "metadata": {
            "tags": null
          },
          "name": "stdout",
          "output_type": "stream",
          "text": [
            "                   all        173        248      0.523      0.464      0.458      0.194\n"
          ]
        },
        {
          "metadata": {
            "tags": null
          },
          "name": "stderr",
          "output_type": "stream",
          "text": [
            "\n"
          ]
        },
        {
          "metadata": {
            "tags": null
          },
          "name": "stdout",
          "output_type": "stream",
          "text": [
            "\n",
            "      Epoch    GPU_mem   box_loss   cls_loss   dfl_loss  Instances       Size\n"
          ]
        },
        {
          "metadata": {
            "tags": null
          },
          "name": "stderr",
          "output_type": "stream",
          "text": [
            "     78/100      2.23G      1.286      1.283      1.528         13        640: 100%|██████████| 38/38 [00:11<00:00,  3.20it/s]\n",
            "                 Class     Images  Instances      Box(P          R      mAP50  mAP50-95): 100%|██████████| 6/6 [00:01<00:00,  3.97it/s]"
          ]
        },
        {
          "metadata": {
            "tags": null
          },
          "name": "stdout",
          "output_type": "stream",
          "text": [
            "                   all        173        248      0.572      0.475      0.486      0.208\n"
          ]
        },
        {
          "metadata": {
            "tags": null
          },
          "name": "stderr",
          "output_type": "stream",
          "text": [
            "\n"
          ]
        },
        {
          "metadata": {
            "tags": null
          },
          "name": "stdout",
          "output_type": "stream",
          "text": [
            "\n",
            "      Epoch    GPU_mem   box_loss   cls_loss   dfl_loss  Instances       Size\n"
          ]
        },
        {
          "metadata": {
            "tags": null
          },
          "name": "stderr",
          "output_type": "stream",
          "text": [
            "     79/100      2.22G      1.299      1.285      1.518         16        640: 100%|██████████| 38/38 [00:13<00:00,  2.76it/s]\n",
            "                 Class     Images  Instances      Box(P          R      mAP50  mAP50-95): 100%|██████████| 6/6 [00:01<00:00,  4.04it/s]"
          ]
        },
        {
          "metadata": {
            "tags": null
          },
          "name": "stdout",
          "output_type": "stream",
          "text": [
            "                   all        173        248      0.541      0.485      0.482      0.205\n"
          ]
        },
        {
          "metadata": {
            "tags": null
          },
          "name": "stderr",
          "output_type": "stream",
          "text": [
            "\n"
          ]
        },
        {
          "metadata": {
            "tags": null
          },
          "name": "stdout",
          "output_type": "stream",
          "text": [
            "\n",
            "      Epoch    GPU_mem   box_loss   cls_loss   dfl_loss  Instances       Size\n"
          ]
        },
        {
          "metadata": {
            "tags": null
          },
          "name": "stderr",
          "output_type": "stream",
          "text": [
            "     80/100      2.23G       1.25      1.268      1.482         15        640: 100%|██████████| 38/38 [00:10<00:00,  3.76it/s]\n",
            "                 Class     Images  Instances      Box(P          R      mAP50  mAP50-95): 100%|██████████| 6/6 [00:02<00:00,  2.28it/s]"
          ]
        },
        {
          "metadata": {
            "tags": null
          },
          "name": "stdout",
          "output_type": "stream",
          "text": [
            "                   all        173        248      0.541      0.504      0.496        0.2\n"
          ]
        },
        {
          "metadata": {
            "tags": null
          },
          "name": "stderr",
          "output_type": "stream",
          "text": [
            "\n"
          ]
        },
        {
          "metadata": {
            "tags": null
          },
          "name": "stdout",
          "output_type": "stream",
          "text": [
            "\n",
            "      Epoch    GPU_mem   box_loss   cls_loss   dfl_loss  Instances       Size\n"
          ]
        },
        {
          "metadata": {
            "tags": null
          },
          "name": "stderr",
          "output_type": "stream",
          "text": [
            "     81/100      2.22G      1.267      1.252      1.511         17        640: 100%|██████████| 38/38 [00:11<00:00,  3.37it/s]\n",
            "                 Class     Images  Instances      Box(P          R      mAP50  mAP50-95): 100%|██████████| 6/6 [00:01<00:00,  4.20it/s]"
          ]
        },
        {
          "metadata": {
            "tags": null
          },
          "name": "stdout",
          "output_type": "stream",
          "text": [
            "                   all        173        248      0.531      0.472       0.47      0.195\n"
          ]
        },
        {
          "metadata": {
            "tags": null
          },
          "name": "stderr",
          "output_type": "stream",
          "text": [
            "\n"
          ]
        },
        {
          "metadata": {
            "tags": null
          },
          "name": "stdout",
          "output_type": "stream",
          "text": [
            "\n",
            "      Epoch    GPU_mem   box_loss   cls_loss   dfl_loss  Instances       Size\n"
          ]
        },
        {
          "metadata": {
            "tags": null
          },
          "name": "stderr",
          "output_type": "stream",
          "text": [
            "     82/100      2.23G      1.233      1.225      1.475         14        640: 100%|██████████| 38/38 [00:14<00:00,  2.66it/s]\n",
            "                 Class     Images  Instances      Box(P          R      mAP50  mAP50-95): 100%|██████████| 6/6 [00:01<00:00,  3.59it/s]"
          ]
        },
        {
          "metadata": {
            "tags": null
          },
          "name": "stdout",
          "output_type": "stream",
          "text": [
            "                   all        173        248       0.55      0.494      0.505      0.206\n"
          ]
        },
        {
          "metadata": {
            "tags": null
          },
          "name": "stderr",
          "output_type": "stream",
          "text": [
            "\n"
          ]
        },
        {
          "metadata": {
            "tags": null
          },
          "name": "stdout",
          "output_type": "stream",
          "text": [
            "\n",
            "      Epoch    GPU_mem   box_loss   cls_loss   dfl_loss  Instances       Size\n"
          ]
        },
        {
          "metadata": {
            "tags": null
          },
          "name": "stderr",
          "output_type": "stream",
          "text": [
            "     83/100       2.2G      1.245      1.212      1.489         15        640: 100%|██████████| 38/38 [00:09<00:00,  3.89it/s]\n",
            "                 Class     Images  Instances      Box(P          R      mAP50  mAP50-95): 100%|██████████| 6/6 [00:02<00:00,  2.62it/s]"
          ]
        },
        {
          "metadata": {
            "tags": null
          },
          "name": "stdout",
          "output_type": "stream",
          "text": [
            "                   all        173        248       0.57      0.481      0.522      0.217\n"
          ]
        },
        {
          "metadata": {
            "tags": null
          },
          "name": "stderr",
          "output_type": "stream",
          "text": [
            "\n"
          ]
        },
        {
          "metadata": {
            "tags": null
          },
          "name": "stdout",
          "output_type": "stream",
          "text": [
            "\n",
            "      Epoch    GPU_mem   box_loss   cls_loss   dfl_loss  Instances       Size\n"
          ]
        },
        {
          "metadata": {
            "tags": null
          },
          "name": "stderr",
          "output_type": "stream",
          "text": [
            "     84/100      2.25G      1.227      1.181      1.465         15        640: 100%|██████████| 38/38 [00:12<00:00,  3.11it/s]\n",
            "                 Class     Images  Instances      Box(P          R      mAP50  mAP50-95): 100%|██████████| 6/6 [00:01<00:00,  3.74it/s]"
          ]
        },
        {
          "metadata": {
            "tags": null
          },
          "name": "stdout",
          "output_type": "stream",
          "text": [
            "                   all        173        248      0.534      0.502      0.491       0.21\n"
          ]
        },
        {
          "metadata": {
            "tags": null
          },
          "name": "stderr",
          "output_type": "stream",
          "text": [
            "\n"
          ]
        },
        {
          "metadata": {
            "tags": null
          },
          "name": "stdout",
          "output_type": "stream",
          "text": [
            "\n",
            "      Epoch    GPU_mem   box_loss   cls_loss   dfl_loss  Instances       Size\n"
          ]
        },
        {
          "metadata": {
            "tags": null
          },
          "name": "stderr",
          "output_type": "stream",
          "text": [
            "     85/100      2.23G      1.237      1.197      1.485         23        640: 100%|██████████| 38/38 [00:13<00:00,  2.89it/s]\n",
            "                 Class     Images  Instances      Box(P          R      mAP50  mAP50-95): 100%|██████████| 6/6 [00:01<00:00,  3.92it/s]"
          ]
        },
        {
          "metadata": {
            "tags": null
          },
          "name": "stdout",
          "output_type": "stream",
          "text": [
            "                   all        173        248      0.549      0.496      0.495      0.211\n"
          ]
        },
        {
          "metadata": {
            "tags": null
          },
          "name": "stderr",
          "output_type": "stream",
          "text": [
            "\n"
          ]
        },
        {
          "metadata": {
            "tags": null
          },
          "name": "stdout",
          "output_type": "stream",
          "text": [
            "\n",
            "      Epoch    GPU_mem   box_loss   cls_loss   dfl_loss  Instances       Size\n"
          ]
        },
        {
          "metadata": {
            "tags": null
          },
          "name": "stderr",
          "output_type": "stream",
          "text": [
            "     86/100      2.24G      1.214      1.193      1.465         10        640: 100%|██████████| 38/38 [00:09<00:00,  3.93it/s]\n",
            "                 Class     Images  Instances      Box(P          R      mAP50  mAP50-95): 100%|██████████| 6/6 [00:02<00:00,  2.35it/s]"
          ]
        },
        {
          "metadata": {
            "tags": null
          },
          "name": "stdout",
          "output_type": "stream",
          "text": [
            "                   all        173        248      0.558      0.484      0.493      0.204\n"
          ]
        },
        {
          "metadata": {
            "tags": null
          },
          "name": "stderr",
          "output_type": "stream",
          "text": [
            "\n"
          ]
        },
        {
          "metadata": {
            "tags": null
          },
          "name": "stdout",
          "output_type": "stream",
          "text": [
            "\n",
            "      Epoch    GPU_mem   box_loss   cls_loss   dfl_loss  Instances       Size\n"
          ]
        },
        {
          "metadata": {
            "tags": null
          },
          "name": "stderr",
          "output_type": "stream",
          "text": [
            "     87/100       2.2G      1.181      1.179       1.44         15        640: 100%|██████████| 38/38 [00:11<00:00,  3.28it/s]\n",
            "                 Class     Images  Instances      Box(P          R      mAP50  mAP50-95): 100%|██████████| 6/6 [00:01<00:00,  4.17it/s]"
          ]
        },
        {
          "metadata": {
            "tags": null
          },
          "name": "stdout",
          "output_type": "stream",
          "text": [
            "                   all        173        248      0.518      0.516      0.477      0.201\n"
          ]
        },
        {
          "metadata": {
            "tags": null
          },
          "name": "stderr",
          "output_type": "stream",
          "text": [
            "\n"
          ]
        },
        {
          "metadata": {
            "tags": null
          },
          "name": "stdout",
          "output_type": "stream",
          "text": [
            "\n",
            "      Epoch    GPU_mem   box_loss   cls_loss   dfl_loss  Instances       Size\n"
          ]
        },
        {
          "metadata": {
            "tags": null
          },
          "name": "stderr",
          "output_type": "stream",
          "text": [
            "     88/100      2.21G      1.189      1.177      1.452         14        640: 100%|██████████| 38/38 [00:13<00:00,  2.78it/s]\n",
            "                 Class     Images  Instances      Box(P          R      mAP50  mAP50-95): 100%|██████████| 6/6 [00:02<00:00,  2.44it/s]"
          ]
        },
        {
          "metadata": {
            "tags": null
          },
          "name": "stdout",
          "output_type": "stream",
          "text": [
            "                   all        173        248      0.495       0.54      0.503      0.217\n"
          ]
        },
        {
          "metadata": {
            "tags": null
          },
          "name": "stderr",
          "output_type": "stream",
          "text": [
            "\n"
          ]
        },
        {
          "metadata": {
            "tags": null
          },
          "name": "stdout",
          "output_type": "stream",
          "text": [
            "\n",
            "      Epoch    GPU_mem   box_loss   cls_loss   dfl_loss  Instances       Size\n"
          ]
        },
        {
          "metadata": {
            "tags": null
          },
          "name": "stderr",
          "output_type": "stream",
          "text": [
            "     89/100      2.22G      1.181      1.145      1.443         15        640: 100%|██████████| 38/38 [00:09<00:00,  4.13it/s]\n",
            "                 Class     Images  Instances      Box(P          R      mAP50  mAP50-95): 100%|██████████| 6/6 [00:02<00:00,  2.43it/s]"
          ]
        },
        {
          "metadata": {
            "tags": null
          },
          "name": "stdout",
          "output_type": "stream",
          "text": [
            "                   all        173        248      0.536        0.5      0.503      0.212\n"
          ]
        },
        {
          "metadata": {
            "tags": null
          },
          "name": "stderr",
          "output_type": "stream",
          "text": [
            "\n"
          ]
        },
        {
          "metadata": {
            "tags": null
          },
          "name": "stdout",
          "output_type": "stream",
          "text": [
            "\n",
            "      Epoch    GPU_mem   box_loss   cls_loss   dfl_loss  Instances       Size\n"
          ]
        },
        {
          "metadata": {
            "tags": null
          },
          "name": "stderr",
          "output_type": "stream",
          "text": [
            "     90/100      2.21G      1.181      1.109       1.43         16        640: 100%|██████████| 38/38 [00:12<00:00,  3.10it/s]\n",
            "                 Class     Images  Instances      Box(P          R      mAP50  mAP50-95): 100%|██████████| 6/6 [00:01<00:00,  4.09it/s]"
          ]
        },
        {
          "metadata": {
            "tags": null
          },
          "name": "stdout",
          "output_type": "stream",
          "text": [
            "                   all        173        248      0.465      0.577      0.497      0.211\n"
          ]
        },
        {
          "metadata": {
            "tags": null
          },
          "name": "stderr",
          "output_type": "stream",
          "text": [
            "\n"
          ]
        },
        {
          "metadata": {
            "tags": null
          },
          "name": "stdout",
          "output_type": "stream",
          "text": [
            "Closing dataloader mosaic\n",
            "\u001b[34m\u001b[1malbumentations: \u001b[0mBlur(p=0.01, blur_limit=(3, 7)), MedianBlur(p=0.01, blur_limit=(3, 7)), ToGray(p=0.01, num_output_channels=3, method='weighted_average'), CLAHE(p=0.01, clip_limit=(1.0, 4.0), tile_grid_size=(8, 8))\n",
            "\n",
            "      Epoch    GPU_mem   box_loss   cls_loss   dfl_loss  Instances       Size\n"
          ]
        },
        {
          "metadata": {
            "tags": null
          },
          "name": "stderr",
          "output_type": "stream",
          "text": [
            "     91/100       2.2G      1.198      1.129      1.501          6        640: 100%|██████████| 38/38 [00:15<00:00,  2.42it/s]\n",
            "                 Class     Images  Instances      Box(P          R      mAP50  mAP50-95): 100%|██████████| 6/6 [00:01<00:00,  3.81it/s]"
          ]
        },
        {
          "metadata": {
            "tags": null
          },
          "name": "stdout",
          "output_type": "stream",
          "text": [
            "                   all        173        248      0.537      0.448      0.453      0.191\n"
          ]
        },
        {
          "metadata": {
            "tags": null
          },
          "name": "stderr",
          "output_type": "stream",
          "text": [
            "\n"
          ]
        },
        {
          "metadata": {
            "tags": null
          },
          "name": "stdout",
          "output_type": "stream",
          "text": [
            "\n",
            "      Epoch    GPU_mem   box_loss   cls_loss   dfl_loss  Instances       Size\n"
          ]
        },
        {
          "metadata": {
            "tags": null
          },
          "name": "stderr",
          "output_type": "stream",
          "text": [
            "     92/100      2.21G      1.141      1.008      1.477          8        640: 100%|██████████| 38/38 [00:09<00:00,  4.14it/s]\n",
            "                 Class     Images  Instances      Box(P          R      mAP50  mAP50-95): 100%|██████████| 6/6 [00:02<00:00,  2.73it/s]"
          ]
        },
        {
          "metadata": {
            "tags": null
          },
          "name": "stdout",
          "output_type": "stream",
          "text": [
            "                   all        173        248      0.523      0.528       0.49      0.205\n"
          ]
        },
        {
          "metadata": {
            "tags": null
          },
          "name": "stderr",
          "output_type": "stream",
          "text": [
            "\n"
          ]
        },
        {
          "metadata": {
            "tags": null
          },
          "name": "stdout",
          "output_type": "stream",
          "text": [
            "\n",
            "      Epoch    GPU_mem   box_loss   cls_loss   dfl_loss  Instances       Size\n"
          ]
        },
        {
          "output_type": "stream",
          "name": "stderr",
          "text": [
            "     93/100       2.2G      1.104     0.9589      1.437          5        640: 100%|██████████| 38/38 [00:12<00:00,  3.04it/s]\n",
            "                 Class     Images  Instances      Box(P          R      mAP50  mAP50-95): 100%|██████████| 6/6 [00:01<00:00,  4.26it/s]"
          ]
        },
        {
          "output_type": "stream",
          "name": "stdout",
          "text": [
            "                   all        173        248      0.502      0.513      0.505      0.218\n"
          ]
        },
        {
          "output_type": "stream",
          "name": "stderr",
          "text": [
            "\n"
          ]
        },
        {
          "output_type": "stream",
          "name": "stdout",
          "text": [
            "\n",
            "      Epoch    GPU_mem   box_loss   cls_loss   dfl_loss  Instances       Size\n"
          ]
        },
        {
          "output_type": "stream",
          "name": "stderr",
          "text": [
            "     94/100      2.21G      1.097     0.9555      1.443          7        640: 100%|██████████| 38/38 [00:12<00:00,  3.06it/s]\n",
            "                 Class     Images  Instances      Box(P          R      mAP50  mAP50-95): 100%|██████████| 6/6 [00:02<00:00,  2.40it/s]"
          ]
        },
        {
          "output_type": "stream",
          "name": "stdout",
          "text": [
            "                   all        173        248      0.485      0.549      0.504       0.22\n"
          ]
        },
        {
          "output_type": "stream",
          "name": "stderr",
          "text": [
            "\n"
          ]
        },
        {
          "output_type": "stream",
          "name": "stdout",
          "text": [
            "\n",
            "      Epoch    GPU_mem   box_loss   cls_loss   dfl_loss  Instances       Size\n"
          ]
        },
        {
          "output_type": "stream",
          "name": "stderr",
          "text": [
            "     95/100       2.2G      1.085     0.9031      1.426          6        640: 100%|██████████| 38/38 [00:08<00:00,  4.22it/s]\n",
            "                 Class     Images  Instances      Box(P          R      mAP50  mAP50-95): 100%|██████████| 6/6 [00:01<00:00,  3.71it/s]"
          ]
        },
        {
          "output_type": "stream",
          "name": "stdout",
          "text": [
            "                   all        173        248       0.51      0.512      0.496       0.21\n"
          ]
        },
        {
          "output_type": "stream",
          "name": "stderr",
          "text": [
            "\n"
          ]
        },
        {
          "output_type": "stream",
          "name": "stdout",
          "text": [
            "\n",
            "      Epoch    GPU_mem   box_loss   cls_loss   dfl_loss  Instances       Size\n"
          ]
        },
        {
          "output_type": "stream",
          "name": "stderr",
          "text": [
            "     96/100      2.21G       1.07     0.9191      1.407          8        640: 100%|██████████| 38/38 [00:13<00:00,  2.78it/s]\n",
            "                 Class     Images  Instances      Box(P          R      mAP50  mAP50-95): 100%|██████████| 6/6 [00:01<00:00,  4.03it/s]\n"
          ]
        },
        {
          "output_type": "stream",
          "name": "stdout",
          "text": [
            "                   all        173        248      0.556      0.507      0.498      0.208\n",
            "\n",
            "      Epoch    GPU_mem   box_loss   cls_loss   dfl_loss  Instances       Size\n"
          ]
        },
        {
          "output_type": "stream",
          "name": "stderr",
          "text": [
            "     97/100       2.2G      1.045     0.9078      1.385          6        640: 100%|██████████| 38/38 [00:10<00:00,  3.61it/s]\n",
            "                 Class     Images  Instances      Box(P          R      mAP50  mAP50-95): 100%|██████████| 6/6 [00:02<00:00,  2.10it/s]"
          ]
        },
        {
          "output_type": "stream",
          "name": "stdout",
          "text": [
            "                   all        173        248      0.573      0.492        0.5      0.211\n"
          ]
        },
        {
          "output_type": "stream",
          "name": "stderr",
          "text": [
            "\n"
          ]
        },
        {
          "output_type": "stream",
          "name": "stdout",
          "text": [
            "\n",
            "      Epoch    GPU_mem   box_loss   cls_loss   dfl_loss  Instances       Size\n"
          ]
        },
        {
          "output_type": "stream",
          "name": "stderr",
          "text": [
            "     98/100      2.21G      1.055     0.8994      1.416          7        640: 100%|██████████| 38/38 [00:09<00:00,  3.85it/s]\n",
            "                 Class     Images  Instances      Box(P          R      mAP50  mAP50-95): 100%|██████████| 6/6 [00:01<00:00,  4.36it/s]"
          ]
        },
        {
          "output_type": "stream",
          "name": "stdout",
          "text": [
            "                   all        173        248      0.549      0.516        0.5       0.21\n"
          ]
        },
        {
          "output_type": "stream",
          "name": "stderr",
          "text": [
            "\n"
          ]
        },
        {
          "output_type": "stream",
          "name": "stdout",
          "text": [
            "\n",
            "      Epoch    GPU_mem   box_loss   cls_loss   dfl_loss  Instances       Size\n"
          ]
        },
        {
          "output_type": "stream",
          "name": "stderr",
          "text": [
            "     99/100       2.2G      1.057     0.8891      1.414          7        640: 100%|██████████| 38/38 [00:13<00:00,  2.81it/s]\n",
            "                 Class     Images  Instances      Box(P          R      mAP50  mAP50-95): 100%|██████████| 6/6 [00:01<00:00,  4.14it/s]"
          ]
        },
        {
          "output_type": "stream",
          "name": "stdout",
          "text": [
            "                   all        173        248      0.545      0.508      0.498      0.209\n"
          ]
        },
        {
          "output_type": "stream",
          "name": "stderr",
          "text": [
            "\n"
          ]
        },
        {
          "output_type": "stream",
          "name": "stdout",
          "text": [
            "\n",
            "      Epoch    GPU_mem   box_loss   cls_loss   dfl_loss  Instances       Size\n"
          ]
        },
        {
          "output_type": "stream",
          "name": "stderr",
          "text": [
            "    100/100      2.21G      1.051     0.8882      1.403          7        640: 100%|██████████| 38/38 [00:09<00:00,  4.07it/s]\n",
            "                 Class     Images  Instances      Box(P          R      mAP50  mAP50-95): 100%|██████████| 6/6 [00:02<00:00,  2.25it/s]"
          ]
        },
        {
          "output_type": "stream",
          "name": "stdout",
          "text": [
            "                   all        173        248      0.566      0.502      0.499       0.21\n"
          ]
        },
        {
          "output_type": "stream",
          "name": "stderr",
          "text": [
            "\n"
          ]
        },
        {
          "output_type": "stream",
          "name": "stdout",
          "text": [
            "\n",
            "100 epochs completed in 0.406 hours.\n",
            "Optimizer stripped from runs/detect/train3/weights/last.pt, 6.3MB\n",
            "Optimizer stripped from runs/detect/train3/weights/best.pt, 6.3MB\n",
            "\n",
            "Validating runs/detect/train3/weights/best.pt...\n",
            "Ultralytics 8.3.69 🚀 Python-3.11.11 torch-2.5.1+cu121 CUDA:0 (Tesla T4, 15102MiB)\n",
            "Model summary (fused): 168 layers, 3,006,038 parameters, 0 gradients, 8.1 GFLOPs\n"
          ]
        },
        {
          "output_type": "stream",
          "name": "stderr",
          "text": [
            "                 Class     Images  Instances      Box(P          R      mAP50  mAP50-95): 100%|██████████| 6/6 [00:05<00:00,  1.14it/s]\n"
          ]
        },
        {
          "output_type": "stream",
          "name": "stdout",
          "text": [
            "                   all        173        248      0.626      0.456      0.536      0.223\n",
            "                  fire         87        125      0.626      0.432      0.531      0.225\n",
            "                 smoke        106        123      0.626       0.48       0.54      0.221\n",
            "Speed: 0.5ms preprocess, 3.5ms inference, 0.0ms loss, 5.3ms postprocess per image\n",
            "Results saved to \u001b[1mruns/detect/train3\u001b[0m\n"
          ]
        },
        {
          "output_type": "execute_result",
          "data": {
            "text/plain": [
              "ultralytics.utils.metrics.DetMetrics object with attributes:\n",
              "\n",
              "ap_class_index: array([0, 1])\n",
              "box: ultralytics.utils.metrics.Metric object\n",
              "confusion_matrix: <ultralytics.utils.metrics.ConfusionMatrix object at 0x7aa510a6d890>\n",
              "curves: ['Precision-Recall(B)', 'F1-Confidence(B)', 'Precision-Confidence(B)', 'Recall-Confidence(B)']\n",
              "curves_results: [[array([          0,    0.001001,    0.002002,    0.003003,    0.004004,    0.005005,    0.006006,    0.007007,    0.008008,    0.009009,     0.01001,    0.011011,    0.012012,    0.013013,    0.014014,    0.015015,    0.016016,    0.017017,    0.018018,    0.019019,     0.02002,    0.021021,    0.022022,    0.023023,\n",
              "          0.024024,    0.025025,    0.026026,    0.027027,    0.028028,    0.029029,     0.03003,    0.031031,    0.032032,    0.033033,    0.034034,    0.035035,    0.036036,    0.037037,    0.038038,    0.039039,     0.04004,    0.041041,    0.042042,    0.043043,    0.044044,    0.045045,    0.046046,    0.047047,\n",
              "          0.048048,    0.049049,     0.05005,    0.051051,    0.052052,    0.053053,    0.054054,    0.055055,    0.056056,    0.057057,    0.058058,    0.059059,     0.06006,    0.061061,    0.062062,    0.063063,    0.064064,    0.065065,    0.066066,    0.067067,    0.068068,    0.069069,     0.07007,    0.071071,\n",
              "          0.072072,    0.073073,    0.074074,    0.075075,    0.076076,    0.077077,    0.078078,    0.079079,     0.08008,    0.081081,    0.082082,    0.083083,    0.084084,    0.085085,    0.086086,    0.087087,    0.088088,    0.089089,     0.09009,    0.091091,    0.092092,    0.093093,    0.094094,    0.095095,\n",
              "          0.096096,    0.097097,    0.098098,    0.099099,      0.1001,      0.1011,      0.1021,      0.1031,      0.1041,     0.10511,     0.10611,     0.10711,     0.10811,     0.10911,     0.11011,     0.11111,     0.11211,     0.11311,     0.11411,     0.11512,     0.11612,     0.11712,     0.11812,     0.11912,\n",
              "           0.12012,     0.12112,     0.12212,     0.12312,     0.12412,     0.12513,     0.12613,     0.12713,     0.12813,     0.12913,     0.13013,     0.13113,     0.13213,     0.13313,     0.13413,     0.13514,     0.13614,     0.13714,     0.13814,     0.13914,     0.14014,     0.14114,     0.14214,     0.14314,\n",
              "           0.14414,     0.14515,     0.14615,     0.14715,     0.14815,     0.14915,     0.15015,     0.15115,     0.15215,     0.15315,     0.15415,     0.15516,     0.15616,     0.15716,     0.15816,     0.15916,     0.16016,     0.16116,     0.16216,     0.16316,     0.16416,     0.16517,     0.16617,     0.16717,\n",
              "           0.16817,     0.16917,     0.17017,     0.17117,     0.17217,     0.17317,     0.17417,     0.17518,     0.17618,     0.17718,     0.17818,     0.17918,     0.18018,     0.18118,     0.18218,     0.18318,     0.18418,     0.18519,     0.18619,     0.18719,     0.18819,     0.18919,     0.19019,     0.19119,\n",
              "           0.19219,     0.19319,     0.19419,      0.1952,      0.1962,      0.1972,      0.1982,      0.1992,      0.2002,      0.2012,      0.2022,      0.2032,      0.2042,     0.20521,     0.20621,     0.20721,     0.20821,     0.20921,     0.21021,     0.21121,     0.21221,     0.21321,     0.21421,     0.21522,\n",
              "           0.21622,     0.21722,     0.21822,     0.21922,     0.22022,     0.22122,     0.22222,     0.22322,     0.22422,     0.22523,     0.22623,     0.22723,     0.22823,     0.22923,     0.23023,     0.23123,     0.23223,     0.23323,     0.23423,     0.23524,     0.23624,     0.23724,     0.23824,     0.23924,\n",
              "           0.24024,     0.24124,     0.24224,     0.24324,     0.24424,     0.24525,     0.24625,     0.24725,     0.24825,     0.24925,     0.25025,     0.25125,     0.25225,     0.25325,     0.25425,     0.25526,     0.25626,     0.25726,     0.25826,     0.25926,     0.26026,     0.26126,     0.26226,     0.26326,\n",
              "           0.26426,     0.26527,     0.26627,     0.26727,     0.26827,     0.26927,     0.27027,     0.27127,     0.27227,     0.27327,     0.27427,     0.27528,     0.27628,     0.27728,     0.27828,     0.27928,     0.28028,     0.28128,     0.28228,     0.28328,     0.28428,     0.28529,     0.28629,     0.28729,\n",
              "           0.28829,     0.28929,     0.29029,     0.29129,     0.29229,     0.29329,     0.29429,      0.2953,      0.2963,      0.2973,      0.2983,      0.2993,      0.3003,      0.3013,      0.3023,      0.3033,      0.3043,     0.30531,     0.30631,     0.30731,     0.30831,     0.30931,     0.31031,     0.31131,\n",
              "           0.31231,     0.31331,     0.31431,     0.31532,     0.31632,     0.31732,     0.31832,     0.31932,     0.32032,     0.32132,     0.32232,     0.32332,     0.32432,     0.32533,     0.32633,     0.32733,     0.32833,     0.32933,     0.33033,     0.33133,     0.33233,     0.33333,     0.33433,     0.33534,\n",
              "           0.33634,     0.33734,     0.33834,     0.33934,     0.34034,     0.34134,     0.34234,     0.34334,     0.34434,     0.34535,     0.34635,     0.34735,     0.34835,     0.34935,     0.35035,     0.35135,     0.35235,     0.35335,     0.35435,     0.35536,     0.35636,     0.35736,     0.35836,     0.35936,\n",
              "           0.36036,     0.36136,     0.36236,     0.36336,     0.36436,     0.36537,     0.36637,     0.36737,     0.36837,     0.36937,     0.37037,     0.37137,     0.37237,     0.37337,     0.37437,     0.37538,     0.37638,     0.37738,     0.37838,     0.37938,     0.38038,     0.38138,     0.38238,     0.38338,\n",
              "           0.38438,     0.38539,     0.38639,     0.38739,     0.38839,     0.38939,     0.39039,     0.39139,     0.39239,     0.39339,     0.39439,      0.3954,      0.3964,      0.3974,      0.3984,      0.3994,      0.4004,      0.4014,      0.4024,      0.4034,      0.4044,     0.40541,     0.40641,     0.40741,\n",
              "           0.40841,     0.40941,     0.41041,     0.41141,     0.41241,     0.41341,     0.41441,     0.41542,     0.41642,     0.41742,     0.41842,     0.41942,     0.42042,     0.42142,     0.42242,     0.42342,     0.42442,     0.42543,     0.42643,     0.42743,     0.42843,     0.42943,     0.43043,     0.43143,\n",
              "           0.43243,     0.43343,     0.43443,     0.43544,     0.43644,     0.43744,     0.43844,     0.43944,     0.44044,     0.44144,     0.44244,     0.44344,     0.44444,     0.44545,     0.44645,     0.44745,     0.44845,     0.44945,     0.45045,     0.45145,     0.45245,     0.45345,     0.45445,     0.45546,\n",
              "           0.45646,     0.45746,     0.45846,     0.45946,     0.46046,     0.46146,     0.46246,     0.46346,     0.46446,     0.46547,     0.46647,     0.46747,     0.46847,     0.46947,     0.47047,     0.47147,     0.47247,     0.47347,     0.47447,     0.47548,     0.47648,     0.47748,     0.47848,     0.47948,\n",
              "           0.48048,     0.48148,     0.48248,     0.48348,     0.48448,     0.48549,     0.48649,     0.48749,     0.48849,     0.48949,     0.49049,     0.49149,     0.49249,     0.49349,     0.49449,      0.4955,      0.4965,      0.4975,      0.4985,      0.4995,      0.5005,      0.5015,      0.5025,      0.5035,\n",
              "            0.5045,     0.50551,     0.50651,     0.50751,     0.50851,     0.50951,     0.51051,     0.51151,     0.51251,     0.51351,     0.51451,     0.51552,     0.51652,     0.51752,     0.51852,     0.51952,     0.52052,     0.52152,     0.52252,     0.52352,     0.52452,     0.52553,     0.52653,     0.52753,\n",
              "           0.52853,     0.52953,     0.53053,     0.53153,     0.53253,     0.53353,     0.53453,     0.53554,     0.53654,     0.53754,     0.53854,     0.53954,     0.54054,     0.54154,     0.54254,     0.54354,     0.54454,     0.54555,     0.54655,     0.54755,     0.54855,     0.54955,     0.55055,     0.55155,\n",
              "           0.55255,     0.55355,     0.55455,     0.55556,     0.55656,     0.55756,     0.55856,     0.55956,     0.56056,     0.56156,     0.56256,     0.56356,     0.56456,     0.56557,     0.56657,     0.56757,     0.56857,     0.56957,     0.57057,     0.57157,     0.57257,     0.57357,     0.57457,     0.57558,\n",
              "           0.57658,     0.57758,     0.57858,     0.57958,     0.58058,     0.58158,     0.58258,     0.58358,     0.58458,     0.58559,     0.58659,     0.58759,     0.58859,     0.58959,     0.59059,     0.59159,     0.59259,     0.59359,     0.59459,      0.5956,      0.5966,      0.5976,      0.5986,      0.5996,\n",
              "            0.6006,      0.6016,      0.6026,      0.6036,      0.6046,     0.60561,     0.60661,     0.60761,     0.60861,     0.60961,     0.61061,     0.61161,     0.61261,     0.61361,     0.61461,     0.61562,     0.61662,     0.61762,     0.61862,     0.61962,     0.62062,     0.62162,     0.62262,     0.62362,\n",
              "           0.62462,     0.62563,     0.62663,     0.62763,     0.62863,     0.62963,     0.63063,     0.63163,     0.63263,     0.63363,     0.63463,     0.63564,     0.63664,     0.63764,     0.63864,     0.63964,     0.64064,     0.64164,     0.64264,     0.64364,     0.64464,     0.64565,     0.64665,     0.64765,\n",
              "           0.64865,     0.64965,     0.65065,     0.65165,     0.65265,     0.65365,     0.65465,     0.65566,     0.65666,     0.65766,     0.65866,     0.65966,     0.66066,     0.66166,     0.66266,     0.66366,     0.66466,     0.66567,     0.66667,     0.66767,     0.66867,     0.66967,     0.67067,     0.67167,\n",
              "           0.67267,     0.67367,     0.67467,     0.67568,     0.67668,     0.67768,     0.67868,     0.67968,     0.68068,     0.68168,     0.68268,     0.68368,     0.68468,     0.68569,     0.68669,     0.68769,     0.68869,     0.68969,     0.69069,     0.69169,     0.69269,     0.69369,     0.69469,      0.6957,\n",
              "            0.6967,      0.6977,      0.6987,      0.6997,      0.7007,      0.7017,      0.7027,      0.7037,      0.7047,     0.70571,     0.70671,     0.70771,     0.70871,     0.70971,     0.71071,     0.71171,     0.71271,     0.71371,     0.71471,     0.71572,     0.71672,     0.71772,     0.71872,     0.71972,\n",
              "           0.72072,     0.72172,     0.72272,     0.72372,     0.72472,     0.72573,     0.72673,     0.72773,     0.72873,     0.72973,     0.73073,     0.73173,     0.73273,     0.73373,     0.73473,     0.73574,     0.73674,     0.73774,     0.73874,     0.73974,     0.74074,     0.74174,     0.74274,     0.74374,\n",
              "           0.74474,     0.74575,     0.74675,     0.74775,     0.74875,     0.74975,     0.75075,     0.75175,     0.75275,     0.75375,     0.75475,     0.75576,     0.75676,     0.75776,     0.75876,     0.75976,     0.76076,     0.76176,     0.76276,     0.76376,     0.76476,     0.76577,     0.76677,     0.76777,\n",
              "           0.76877,     0.76977,     0.77077,     0.77177,     0.77277,     0.77377,     0.77477,     0.77578,     0.77678,     0.77778,     0.77878,     0.77978,     0.78078,     0.78178,     0.78278,     0.78378,     0.78478,     0.78579,     0.78679,     0.78779,     0.78879,     0.78979,     0.79079,     0.79179,\n",
              "           0.79279,     0.79379,     0.79479,      0.7958,      0.7968,      0.7978,      0.7988,      0.7998,      0.8008,      0.8018,      0.8028,      0.8038,      0.8048,     0.80581,     0.80681,     0.80781,     0.80881,     0.80981,     0.81081,     0.81181,     0.81281,     0.81381,     0.81481,     0.81582,\n",
              "           0.81682,     0.81782,     0.81882,     0.81982,     0.82082,     0.82182,     0.82282,     0.82382,     0.82482,     0.82583,     0.82683,     0.82783,     0.82883,     0.82983,     0.83083,     0.83183,     0.83283,     0.83383,     0.83483,     0.83584,     0.83684,     0.83784,     0.83884,     0.83984,\n",
              "           0.84084,     0.84184,     0.84284,     0.84384,     0.84484,     0.84585,     0.84685,     0.84785,     0.84885,     0.84985,     0.85085,     0.85185,     0.85285,     0.85385,     0.85485,     0.85586,     0.85686,     0.85786,     0.85886,     0.85986,     0.86086,     0.86186,     0.86286,     0.86386,\n",
              "           0.86486,     0.86587,     0.86687,     0.86787,     0.86887,     0.86987,     0.87087,     0.87187,     0.87287,     0.87387,     0.87487,     0.87588,     0.87688,     0.87788,     0.87888,     0.87988,     0.88088,     0.88188,     0.88288,     0.88388,     0.88488,     0.88589,     0.88689,     0.88789,\n",
              "           0.88889,     0.88989,     0.89089,     0.89189,     0.89289,     0.89389,     0.89489,      0.8959,      0.8969,      0.8979,      0.8989,      0.8999,      0.9009,      0.9019,      0.9029,      0.9039,      0.9049,     0.90591,     0.90691,     0.90791,     0.90891,     0.90991,     0.91091,     0.91191,\n",
              "           0.91291,     0.91391,     0.91491,     0.91592,     0.91692,     0.91792,     0.91892,     0.91992,     0.92092,     0.92192,     0.92292,     0.92392,     0.92492,     0.92593,     0.92693,     0.92793,     0.92893,     0.92993,     0.93093,     0.93193,     0.93293,     0.93393,     0.93493,     0.93594,\n",
              "           0.93694,     0.93794,     0.93894,     0.93994,     0.94094,     0.94194,     0.94294,     0.94394,     0.94494,     0.94595,     0.94695,     0.94795,     0.94895,     0.94995,     0.95095,     0.95195,     0.95295,     0.95395,     0.95495,     0.95596,     0.95696,     0.95796,     0.95896,     0.95996,\n",
              "           0.96096,     0.96196,     0.96296,     0.96396,     0.96496,     0.96597,     0.96697,     0.96797,     0.96897,     0.96997,     0.97097,     0.97197,     0.97297,     0.97397,     0.97497,     0.97598,     0.97698,     0.97798,     0.97898,     0.97998,     0.98098,     0.98198,     0.98298,     0.98398,\n",
              "           0.98498,     0.98599,     0.98699,     0.98799,     0.98899,     0.98999,     0.99099,     0.99199,     0.99299,     0.99399,     0.99499,       0.996,       0.997,       0.998,       0.999,           1]), array([[          1,           1,           1, ...,  0.00092985,  0.00046492,           0],\n",
              "       [          1,           1,           1, ...,  0.00069687,  0.00034843,           0]]), 'Recall', 'Precision'], [array([          0,    0.001001,    0.002002,    0.003003,    0.004004,    0.005005,    0.006006,    0.007007,    0.008008,    0.009009,     0.01001,    0.011011,    0.012012,    0.013013,    0.014014,    0.015015,    0.016016,    0.017017,    0.018018,    0.019019,     0.02002,    0.021021,    0.022022,    0.023023,\n",
              "          0.024024,    0.025025,    0.026026,    0.027027,    0.028028,    0.029029,     0.03003,    0.031031,    0.032032,    0.033033,    0.034034,    0.035035,    0.036036,    0.037037,    0.038038,    0.039039,     0.04004,    0.041041,    0.042042,    0.043043,    0.044044,    0.045045,    0.046046,    0.047047,\n",
              "          0.048048,    0.049049,     0.05005,    0.051051,    0.052052,    0.053053,    0.054054,    0.055055,    0.056056,    0.057057,    0.058058,    0.059059,     0.06006,    0.061061,    0.062062,    0.063063,    0.064064,    0.065065,    0.066066,    0.067067,    0.068068,    0.069069,     0.07007,    0.071071,\n",
              "          0.072072,    0.073073,    0.074074,    0.075075,    0.076076,    0.077077,    0.078078,    0.079079,     0.08008,    0.081081,    0.082082,    0.083083,    0.084084,    0.085085,    0.086086,    0.087087,    0.088088,    0.089089,     0.09009,    0.091091,    0.092092,    0.093093,    0.094094,    0.095095,\n",
              "          0.096096,    0.097097,    0.098098,    0.099099,      0.1001,      0.1011,      0.1021,      0.1031,      0.1041,     0.10511,     0.10611,     0.10711,     0.10811,     0.10911,     0.11011,     0.11111,     0.11211,     0.11311,     0.11411,     0.11512,     0.11612,     0.11712,     0.11812,     0.11912,\n",
              "           0.12012,     0.12112,     0.12212,     0.12312,     0.12412,     0.12513,     0.12613,     0.12713,     0.12813,     0.12913,     0.13013,     0.13113,     0.13213,     0.13313,     0.13413,     0.13514,     0.13614,     0.13714,     0.13814,     0.13914,     0.14014,     0.14114,     0.14214,     0.14314,\n",
              "           0.14414,     0.14515,     0.14615,     0.14715,     0.14815,     0.14915,     0.15015,     0.15115,     0.15215,     0.15315,     0.15415,     0.15516,     0.15616,     0.15716,     0.15816,     0.15916,     0.16016,     0.16116,     0.16216,     0.16316,     0.16416,     0.16517,     0.16617,     0.16717,\n",
              "           0.16817,     0.16917,     0.17017,     0.17117,     0.17217,     0.17317,     0.17417,     0.17518,     0.17618,     0.17718,     0.17818,     0.17918,     0.18018,     0.18118,     0.18218,     0.18318,     0.18418,     0.18519,     0.18619,     0.18719,     0.18819,     0.18919,     0.19019,     0.19119,\n",
              "           0.19219,     0.19319,     0.19419,      0.1952,      0.1962,      0.1972,      0.1982,      0.1992,      0.2002,      0.2012,      0.2022,      0.2032,      0.2042,     0.20521,     0.20621,     0.20721,     0.20821,     0.20921,     0.21021,     0.21121,     0.21221,     0.21321,     0.21421,     0.21522,\n",
              "           0.21622,     0.21722,     0.21822,     0.21922,     0.22022,     0.22122,     0.22222,     0.22322,     0.22422,     0.22523,     0.22623,     0.22723,     0.22823,     0.22923,     0.23023,     0.23123,     0.23223,     0.23323,     0.23423,     0.23524,     0.23624,     0.23724,     0.23824,     0.23924,\n",
              "           0.24024,     0.24124,     0.24224,     0.24324,     0.24424,     0.24525,     0.24625,     0.24725,     0.24825,     0.24925,     0.25025,     0.25125,     0.25225,     0.25325,     0.25425,     0.25526,     0.25626,     0.25726,     0.25826,     0.25926,     0.26026,     0.26126,     0.26226,     0.26326,\n",
              "           0.26426,     0.26527,     0.26627,     0.26727,     0.26827,     0.26927,     0.27027,     0.27127,     0.27227,     0.27327,     0.27427,     0.27528,     0.27628,     0.27728,     0.27828,     0.27928,     0.28028,     0.28128,     0.28228,     0.28328,     0.28428,     0.28529,     0.28629,     0.28729,\n",
              "           0.28829,     0.28929,     0.29029,     0.29129,     0.29229,     0.29329,     0.29429,      0.2953,      0.2963,      0.2973,      0.2983,      0.2993,      0.3003,      0.3013,      0.3023,      0.3033,      0.3043,     0.30531,     0.30631,     0.30731,     0.30831,     0.30931,     0.31031,     0.31131,\n",
              "           0.31231,     0.31331,     0.31431,     0.31532,     0.31632,     0.31732,     0.31832,     0.31932,     0.32032,     0.32132,     0.32232,     0.32332,     0.32432,     0.32533,     0.32633,     0.32733,     0.32833,     0.32933,     0.33033,     0.33133,     0.33233,     0.33333,     0.33433,     0.33534,\n",
              "           0.33634,     0.33734,     0.33834,     0.33934,     0.34034,     0.34134,     0.34234,     0.34334,     0.34434,     0.34535,     0.34635,     0.34735,     0.34835,     0.34935,     0.35035,     0.35135,     0.35235,     0.35335,     0.35435,     0.35536,     0.35636,     0.35736,     0.35836,     0.35936,\n",
              "           0.36036,     0.36136,     0.36236,     0.36336,     0.36436,     0.36537,     0.36637,     0.36737,     0.36837,     0.36937,     0.37037,     0.37137,     0.37237,     0.37337,     0.37437,     0.37538,     0.37638,     0.37738,     0.37838,     0.37938,     0.38038,     0.38138,     0.38238,     0.38338,\n",
              "           0.38438,     0.38539,     0.38639,     0.38739,     0.38839,     0.38939,     0.39039,     0.39139,     0.39239,     0.39339,     0.39439,      0.3954,      0.3964,      0.3974,      0.3984,      0.3994,      0.4004,      0.4014,      0.4024,      0.4034,      0.4044,     0.40541,     0.40641,     0.40741,\n",
              "           0.40841,     0.40941,     0.41041,     0.41141,     0.41241,     0.41341,     0.41441,     0.41542,     0.41642,     0.41742,     0.41842,     0.41942,     0.42042,     0.42142,     0.42242,     0.42342,     0.42442,     0.42543,     0.42643,     0.42743,     0.42843,     0.42943,     0.43043,     0.43143,\n",
              "           0.43243,     0.43343,     0.43443,     0.43544,     0.43644,     0.43744,     0.43844,     0.43944,     0.44044,     0.44144,     0.44244,     0.44344,     0.44444,     0.44545,     0.44645,     0.44745,     0.44845,     0.44945,     0.45045,     0.45145,     0.45245,     0.45345,     0.45445,     0.45546,\n",
              "           0.45646,     0.45746,     0.45846,     0.45946,     0.46046,     0.46146,     0.46246,     0.46346,     0.46446,     0.46547,     0.46647,     0.46747,     0.46847,     0.46947,     0.47047,     0.47147,     0.47247,     0.47347,     0.47447,     0.47548,     0.47648,     0.47748,     0.47848,     0.47948,\n",
              "           0.48048,     0.48148,     0.48248,     0.48348,     0.48448,     0.48549,     0.48649,     0.48749,     0.48849,     0.48949,     0.49049,     0.49149,     0.49249,     0.49349,     0.49449,      0.4955,      0.4965,      0.4975,      0.4985,      0.4995,      0.5005,      0.5015,      0.5025,      0.5035,\n",
              "            0.5045,     0.50551,     0.50651,     0.50751,     0.50851,     0.50951,     0.51051,     0.51151,     0.51251,     0.51351,     0.51451,     0.51552,     0.51652,     0.51752,     0.51852,     0.51952,     0.52052,     0.52152,     0.52252,     0.52352,     0.52452,     0.52553,     0.52653,     0.52753,\n",
              "           0.52853,     0.52953,     0.53053,     0.53153,     0.53253,     0.53353,     0.53453,     0.53554,     0.53654,     0.53754,     0.53854,     0.53954,     0.54054,     0.54154,     0.54254,     0.54354,     0.54454,     0.54555,     0.54655,     0.54755,     0.54855,     0.54955,     0.55055,     0.55155,\n",
              "           0.55255,     0.55355,     0.55455,     0.55556,     0.55656,     0.55756,     0.55856,     0.55956,     0.56056,     0.56156,     0.56256,     0.56356,     0.56456,     0.56557,     0.56657,     0.56757,     0.56857,     0.56957,     0.57057,     0.57157,     0.57257,     0.57357,     0.57457,     0.57558,\n",
              "           0.57658,     0.57758,     0.57858,     0.57958,     0.58058,     0.58158,     0.58258,     0.58358,     0.58458,     0.58559,     0.58659,     0.58759,     0.58859,     0.58959,     0.59059,     0.59159,     0.59259,     0.59359,     0.59459,      0.5956,      0.5966,      0.5976,      0.5986,      0.5996,\n",
              "            0.6006,      0.6016,      0.6026,      0.6036,      0.6046,     0.60561,     0.60661,     0.60761,     0.60861,     0.60961,     0.61061,     0.61161,     0.61261,     0.61361,     0.61461,     0.61562,     0.61662,     0.61762,     0.61862,     0.61962,     0.62062,     0.62162,     0.62262,     0.62362,\n",
              "           0.62462,     0.62563,     0.62663,     0.62763,     0.62863,     0.62963,     0.63063,     0.63163,     0.63263,     0.63363,     0.63463,     0.63564,     0.63664,     0.63764,     0.63864,     0.63964,     0.64064,     0.64164,     0.64264,     0.64364,     0.64464,     0.64565,     0.64665,     0.64765,\n",
              "           0.64865,     0.64965,     0.65065,     0.65165,     0.65265,     0.65365,     0.65465,     0.65566,     0.65666,     0.65766,     0.65866,     0.65966,     0.66066,     0.66166,     0.66266,     0.66366,     0.66466,     0.66567,     0.66667,     0.66767,     0.66867,     0.66967,     0.67067,     0.67167,\n",
              "           0.67267,     0.67367,     0.67467,     0.67568,     0.67668,     0.67768,     0.67868,     0.67968,     0.68068,     0.68168,     0.68268,     0.68368,     0.68468,     0.68569,     0.68669,     0.68769,     0.68869,     0.68969,     0.69069,     0.69169,     0.69269,     0.69369,     0.69469,      0.6957,\n",
              "            0.6967,      0.6977,      0.6987,      0.6997,      0.7007,      0.7017,      0.7027,      0.7037,      0.7047,     0.70571,     0.70671,     0.70771,     0.70871,     0.70971,     0.71071,     0.71171,     0.71271,     0.71371,     0.71471,     0.71572,     0.71672,     0.71772,     0.71872,     0.71972,\n",
              "           0.72072,     0.72172,     0.72272,     0.72372,     0.72472,     0.72573,     0.72673,     0.72773,     0.72873,     0.72973,     0.73073,     0.73173,     0.73273,     0.73373,     0.73473,     0.73574,     0.73674,     0.73774,     0.73874,     0.73974,     0.74074,     0.74174,     0.74274,     0.74374,\n",
              "           0.74474,     0.74575,     0.74675,     0.74775,     0.74875,     0.74975,     0.75075,     0.75175,     0.75275,     0.75375,     0.75475,     0.75576,     0.75676,     0.75776,     0.75876,     0.75976,     0.76076,     0.76176,     0.76276,     0.76376,     0.76476,     0.76577,     0.76677,     0.76777,\n",
              "           0.76877,     0.76977,     0.77077,     0.77177,     0.77277,     0.77377,     0.77477,     0.77578,     0.77678,     0.77778,     0.77878,     0.77978,     0.78078,     0.78178,     0.78278,     0.78378,     0.78478,     0.78579,     0.78679,     0.78779,     0.78879,     0.78979,     0.79079,     0.79179,\n",
              "           0.79279,     0.79379,     0.79479,      0.7958,      0.7968,      0.7978,      0.7988,      0.7998,      0.8008,      0.8018,      0.8028,      0.8038,      0.8048,     0.80581,     0.80681,     0.80781,     0.80881,     0.80981,     0.81081,     0.81181,     0.81281,     0.81381,     0.81481,     0.81582,\n",
              "           0.81682,     0.81782,     0.81882,     0.81982,     0.82082,     0.82182,     0.82282,     0.82382,     0.82482,     0.82583,     0.82683,     0.82783,     0.82883,     0.82983,     0.83083,     0.83183,     0.83283,     0.83383,     0.83483,     0.83584,     0.83684,     0.83784,     0.83884,     0.83984,\n",
              "           0.84084,     0.84184,     0.84284,     0.84384,     0.84484,     0.84585,     0.84685,     0.84785,     0.84885,     0.84985,     0.85085,     0.85185,     0.85285,     0.85385,     0.85485,     0.85586,     0.85686,     0.85786,     0.85886,     0.85986,     0.86086,     0.86186,     0.86286,     0.86386,\n",
              "           0.86486,     0.86587,     0.86687,     0.86787,     0.86887,     0.86987,     0.87087,     0.87187,     0.87287,     0.87387,     0.87487,     0.87588,     0.87688,     0.87788,     0.87888,     0.87988,     0.88088,     0.88188,     0.88288,     0.88388,     0.88488,     0.88589,     0.88689,     0.88789,\n",
              "           0.88889,     0.88989,     0.89089,     0.89189,     0.89289,     0.89389,     0.89489,      0.8959,      0.8969,      0.8979,      0.8989,      0.8999,      0.9009,      0.9019,      0.9029,      0.9039,      0.9049,     0.90591,     0.90691,     0.90791,     0.90891,     0.90991,     0.91091,     0.91191,\n",
              "           0.91291,     0.91391,     0.91491,     0.91592,     0.91692,     0.91792,     0.91892,     0.91992,     0.92092,     0.92192,     0.92292,     0.92392,     0.92492,     0.92593,     0.92693,     0.92793,     0.92893,     0.92993,     0.93093,     0.93193,     0.93293,     0.93393,     0.93493,     0.93594,\n",
              "           0.93694,     0.93794,     0.93894,     0.93994,     0.94094,     0.94194,     0.94294,     0.94394,     0.94494,     0.94595,     0.94695,     0.94795,     0.94895,     0.94995,     0.95095,     0.95195,     0.95295,     0.95395,     0.95495,     0.95596,     0.95696,     0.95796,     0.95896,     0.95996,\n",
              "           0.96096,     0.96196,     0.96296,     0.96396,     0.96496,     0.96597,     0.96697,     0.96797,     0.96897,     0.96997,     0.97097,     0.97197,     0.97297,     0.97397,     0.97497,     0.97598,     0.97698,     0.97798,     0.97898,     0.97998,     0.98098,     0.98198,     0.98298,     0.98398,\n",
              "           0.98498,     0.98599,     0.98699,     0.98799,     0.98899,     0.98999,     0.99099,     0.99199,     0.99299,     0.99399,     0.99499,       0.996,       0.997,       0.998,       0.999,           1]), array([[   0.071429,    0.071429,     0.10328, ...,           0,           0,           0],\n",
              "       [   0.054908,    0.054908,     0.08901, ...,           0,           0,           0]]), 'Confidence', 'F1'], [array([          0,    0.001001,    0.002002,    0.003003,    0.004004,    0.005005,    0.006006,    0.007007,    0.008008,    0.009009,     0.01001,    0.011011,    0.012012,    0.013013,    0.014014,    0.015015,    0.016016,    0.017017,    0.018018,    0.019019,     0.02002,    0.021021,    0.022022,    0.023023,\n",
              "          0.024024,    0.025025,    0.026026,    0.027027,    0.028028,    0.029029,     0.03003,    0.031031,    0.032032,    0.033033,    0.034034,    0.035035,    0.036036,    0.037037,    0.038038,    0.039039,     0.04004,    0.041041,    0.042042,    0.043043,    0.044044,    0.045045,    0.046046,    0.047047,\n",
              "          0.048048,    0.049049,     0.05005,    0.051051,    0.052052,    0.053053,    0.054054,    0.055055,    0.056056,    0.057057,    0.058058,    0.059059,     0.06006,    0.061061,    0.062062,    0.063063,    0.064064,    0.065065,    0.066066,    0.067067,    0.068068,    0.069069,     0.07007,    0.071071,\n",
              "          0.072072,    0.073073,    0.074074,    0.075075,    0.076076,    0.077077,    0.078078,    0.079079,     0.08008,    0.081081,    0.082082,    0.083083,    0.084084,    0.085085,    0.086086,    0.087087,    0.088088,    0.089089,     0.09009,    0.091091,    0.092092,    0.093093,    0.094094,    0.095095,\n",
              "          0.096096,    0.097097,    0.098098,    0.099099,      0.1001,      0.1011,      0.1021,      0.1031,      0.1041,     0.10511,     0.10611,     0.10711,     0.10811,     0.10911,     0.11011,     0.11111,     0.11211,     0.11311,     0.11411,     0.11512,     0.11612,     0.11712,     0.11812,     0.11912,\n",
              "           0.12012,     0.12112,     0.12212,     0.12312,     0.12412,     0.12513,     0.12613,     0.12713,     0.12813,     0.12913,     0.13013,     0.13113,     0.13213,     0.13313,     0.13413,     0.13514,     0.13614,     0.13714,     0.13814,     0.13914,     0.14014,     0.14114,     0.14214,     0.14314,\n",
              "           0.14414,     0.14515,     0.14615,     0.14715,     0.14815,     0.14915,     0.15015,     0.15115,     0.15215,     0.15315,     0.15415,     0.15516,     0.15616,     0.15716,     0.15816,     0.15916,     0.16016,     0.16116,     0.16216,     0.16316,     0.16416,     0.16517,     0.16617,     0.16717,\n",
              "           0.16817,     0.16917,     0.17017,     0.17117,     0.17217,     0.17317,     0.17417,     0.17518,     0.17618,     0.17718,     0.17818,     0.17918,     0.18018,     0.18118,     0.18218,     0.18318,     0.18418,     0.18519,     0.18619,     0.18719,     0.18819,     0.18919,     0.19019,     0.19119,\n",
              "           0.19219,     0.19319,     0.19419,      0.1952,      0.1962,      0.1972,      0.1982,      0.1992,      0.2002,      0.2012,      0.2022,      0.2032,      0.2042,     0.20521,     0.20621,     0.20721,     0.20821,     0.20921,     0.21021,     0.21121,     0.21221,     0.21321,     0.21421,     0.21522,\n",
              "           0.21622,     0.21722,     0.21822,     0.21922,     0.22022,     0.22122,     0.22222,     0.22322,     0.22422,     0.22523,     0.22623,     0.22723,     0.22823,     0.22923,     0.23023,     0.23123,     0.23223,     0.23323,     0.23423,     0.23524,     0.23624,     0.23724,     0.23824,     0.23924,\n",
              "           0.24024,     0.24124,     0.24224,     0.24324,     0.24424,     0.24525,     0.24625,     0.24725,     0.24825,     0.24925,     0.25025,     0.25125,     0.25225,     0.25325,     0.25425,     0.25526,     0.25626,     0.25726,     0.25826,     0.25926,     0.26026,     0.26126,     0.26226,     0.26326,\n",
              "           0.26426,     0.26527,     0.26627,     0.26727,     0.26827,     0.26927,     0.27027,     0.27127,     0.27227,     0.27327,     0.27427,     0.27528,     0.27628,     0.27728,     0.27828,     0.27928,     0.28028,     0.28128,     0.28228,     0.28328,     0.28428,     0.28529,     0.28629,     0.28729,\n",
              "           0.28829,     0.28929,     0.29029,     0.29129,     0.29229,     0.29329,     0.29429,      0.2953,      0.2963,      0.2973,      0.2983,      0.2993,      0.3003,      0.3013,      0.3023,      0.3033,      0.3043,     0.30531,     0.30631,     0.30731,     0.30831,     0.30931,     0.31031,     0.31131,\n",
              "           0.31231,     0.31331,     0.31431,     0.31532,     0.31632,     0.31732,     0.31832,     0.31932,     0.32032,     0.32132,     0.32232,     0.32332,     0.32432,     0.32533,     0.32633,     0.32733,     0.32833,     0.32933,     0.33033,     0.33133,     0.33233,     0.33333,     0.33433,     0.33534,\n",
              "           0.33634,     0.33734,     0.33834,     0.33934,     0.34034,     0.34134,     0.34234,     0.34334,     0.34434,     0.34535,     0.34635,     0.34735,     0.34835,     0.34935,     0.35035,     0.35135,     0.35235,     0.35335,     0.35435,     0.35536,     0.35636,     0.35736,     0.35836,     0.35936,\n",
              "           0.36036,     0.36136,     0.36236,     0.36336,     0.36436,     0.36537,     0.36637,     0.36737,     0.36837,     0.36937,     0.37037,     0.37137,     0.37237,     0.37337,     0.37437,     0.37538,     0.37638,     0.37738,     0.37838,     0.37938,     0.38038,     0.38138,     0.38238,     0.38338,\n",
              "           0.38438,     0.38539,     0.38639,     0.38739,     0.38839,     0.38939,     0.39039,     0.39139,     0.39239,     0.39339,     0.39439,      0.3954,      0.3964,      0.3974,      0.3984,      0.3994,      0.4004,      0.4014,      0.4024,      0.4034,      0.4044,     0.40541,     0.40641,     0.40741,\n",
              "           0.40841,     0.40941,     0.41041,     0.41141,     0.41241,     0.41341,     0.41441,     0.41542,     0.41642,     0.41742,     0.41842,     0.41942,     0.42042,     0.42142,     0.42242,     0.42342,     0.42442,     0.42543,     0.42643,     0.42743,     0.42843,     0.42943,     0.43043,     0.43143,\n",
              "           0.43243,     0.43343,     0.43443,     0.43544,     0.43644,     0.43744,     0.43844,     0.43944,     0.44044,     0.44144,     0.44244,     0.44344,     0.44444,     0.44545,     0.44645,     0.44745,     0.44845,     0.44945,     0.45045,     0.45145,     0.45245,     0.45345,     0.45445,     0.45546,\n",
              "           0.45646,     0.45746,     0.45846,     0.45946,     0.46046,     0.46146,     0.46246,     0.46346,     0.46446,     0.46547,     0.46647,     0.46747,     0.46847,     0.46947,     0.47047,     0.47147,     0.47247,     0.47347,     0.47447,     0.47548,     0.47648,     0.47748,     0.47848,     0.47948,\n",
              "           0.48048,     0.48148,     0.48248,     0.48348,     0.48448,     0.48549,     0.48649,     0.48749,     0.48849,     0.48949,     0.49049,     0.49149,     0.49249,     0.49349,     0.49449,      0.4955,      0.4965,      0.4975,      0.4985,      0.4995,      0.5005,      0.5015,      0.5025,      0.5035,\n",
              "            0.5045,     0.50551,     0.50651,     0.50751,     0.50851,     0.50951,     0.51051,     0.51151,     0.51251,     0.51351,     0.51451,     0.51552,     0.51652,     0.51752,     0.51852,     0.51952,     0.52052,     0.52152,     0.52252,     0.52352,     0.52452,     0.52553,     0.52653,     0.52753,\n",
              "           0.52853,     0.52953,     0.53053,     0.53153,     0.53253,     0.53353,     0.53453,     0.53554,     0.53654,     0.53754,     0.53854,     0.53954,     0.54054,     0.54154,     0.54254,     0.54354,     0.54454,     0.54555,     0.54655,     0.54755,     0.54855,     0.54955,     0.55055,     0.55155,\n",
              "           0.55255,     0.55355,     0.55455,     0.55556,     0.55656,     0.55756,     0.55856,     0.55956,     0.56056,     0.56156,     0.56256,     0.56356,     0.56456,     0.56557,     0.56657,     0.56757,     0.56857,     0.56957,     0.57057,     0.57157,     0.57257,     0.57357,     0.57457,     0.57558,\n",
              "           0.57658,     0.57758,     0.57858,     0.57958,     0.58058,     0.58158,     0.58258,     0.58358,     0.58458,     0.58559,     0.58659,     0.58759,     0.58859,     0.58959,     0.59059,     0.59159,     0.59259,     0.59359,     0.59459,      0.5956,      0.5966,      0.5976,      0.5986,      0.5996,\n",
              "            0.6006,      0.6016,      0.6026,      0.6036,      0.6046,     0.60561,     0.60661,     0.60761,     0.60861,     0.60961,     0.61061,     0.61161,     0.61261,     0.61361,     0.61461,     0.61562,     0.61662,     0.61762,     0.61862,     0.61962,     0.62062,     0.62162,     0.62262,     0.62362,\n",
              "           0.62462,     0.62563,     0.62663,     0.62763,     0.62863,     0.62963,     0.63063,     0.63163,     0.63263,     0.63363,     0.63463,     0.63564,     0.63664,     0.63764,     0.63864,     0.63964,     0.64064,     0.64164,     0.64264,     0.64364,     0.64464,     0.64565,     0.64665,     0.64765,\n",
              "           0.64865,     0.64965,     0.65065,     0.65165,     0.65265,     0.65365,     0.65465,     0.65566,     0.65666,     0.65766,     0.65866,     0.65966,     0.66066,     0.66166,     0.66266,     0.66366,     0.66466,     0.66567,     0.66667,     0.66767,     0.66867,     0.66967,     0.67067,     0.67167,\n",
              "           0.67267,     0.67367,     0.67467,     0.67568,     0.67668,     0.67768,     0.67868,     0.67968,     0.68068,     0.68168,     0.68268,     0.68368,     0.68468,     0.68569,     0.68669,     0.68769,     0.68869,     0.68969,     0.69069,     0.69169,     0.69269,     0.69369,     0.69469,      0.6957,\n",
              "            0.6967,      0.6977,      0.6987,      0.6997,      0.7007,      0.7017,      0.7027,      0.7037,      0.7047,     0.70571,     0.70671,     0.70771,     0.70871,     0.70971,     0.71071,     0.71171,     0.71271,     0.71371,     0.71471,     0.71572,     0.71672,     0.71772,     0.71872,     0.71972,\n",
              "           0.72072,     0.72172,     0.72272,     0.72372,     0.72472,     0.72573,     0.72673,     0.72773,     0.72873,     0.72973,     0.73073,     0.73173,     0.73273,     0.73373,     0.73473,     0.73574,     0.73674,     0.73774,     0.73874,     0.73974,     0.74074,     0.74174,     0.74274,     0.74374,\n",
              "           0.74474,     0.74575,     0.74675,     0.74775,     0.74875,     0.74975,     0.75075,     0.75175,     0.75275,     0.75375,     0.75475,     0.75576,     0.75676,     0.75776,     0.75876,     0.75976,     0.76076,     0.76176,     0.76276,     0.76376,     0.76476,     0.76577,     0.76677,     0.76777,\n",
              "           0.76877,     0.76977,     0.77077,     0.77177,     0.77277,     0.77377,     0.77477,     0.77578,     0.77678,     0.77778,     0.77878,     0.77978,     0.78078,     0.78178,     0.78278,     0.78378,     0.78478,     0.78579,     0.78679,     0.78779,     0.78879,     0.78979,     0.79079,     0.79179,\n",
              "           0.79279,     0.79379,     0.79479,      0.7958,      0.7968,      0.7978,      0.7988,      0.7998,      0.8008,      0.8018,      0.8028,      0.8038,      0.8048,     0.80581,     0.80681,     0.80781,     0.80881,     0.80981,     0.81081,     0.81181,     0.81281,     0.81381,     0.81481,     0.81582,\n",
              "           0.81682,     0.81782,     0.81882,     0.81982,     0.82082,     0.82182,     0.82282,     0.82382,     0.82482,     0.82583,     0.82683,     0.82783,     0.82883,     0.82983,     0.83083,     0.83183,     0.83283,     0.83383,     0.83483,     0.83584,     0.83684,     0.83784,     0.83884,     0.83984,\n",
              "           0.84084,     0.84184,     0.84284,     0.84384,     0.84484,     0.84585,     0.84685,     0.84785,     0.84885,     0.84985,     0.85085,     0.85185,     0.85285,     0.85385,     0.85485,     0.85586,     0.85686,     0.85786,     0.85886,     0.85986,     0.86086,     0.86186,     0.86286,     0.86386,\n",
              "           0.86486,     0.86587,     0.86687,     0.86787,     0.86887,     0.86987,     0.87087,     0.87187,     0.87287,     0.87387,     0.87487,     0.87588,     0.87688,     0.87788,     0.87888,     0.87988,     0.88088,     0.88188,     0.88288,     0.88388,     0.88488,     0.88589,     0.88689,     0.88789,\n",
              "           0.88889,     0.88989,     0.89089,     0.89189,     0.89289,     0.89389,     0.89489,      0.8959,      0.8969,      0.8979,      0.8989,      0.8999,      0.9009,      0.9019,      0.9029,      0.9039,      0.9049,     0.90591,     0.90691,     0.90791,     0.90891,     0.90991,     0.91091,     0.91191,\n",
              "           0.91291,     0.91391,     0.91491,     0.91592,     0.91692,     0.91792,     0.91892,     0.91992,     0.92092,     0.92192,     0.92292,     0.92392,     0.92492,     0.92593,     0.92693,     0.92793,     0.92893,     0.92993,     0.93093,     0.93193,     0.93293,     0.93393,     0.93493,     0.93594,\n",
              "           0.93694,     0.93794,     0.93894,     0.93994,     0.94094,     0.94194,     0.94294,     0.94394,     0.94494,     0.94595,     0.94695,     0.94795,     0.94895,     0.94995,     0.95095,     0.95195,     0.95295,     0.95395,     0.95495,     0.95596,     0.95696,     0.95796,     0.95896,     0.95996,\n",
              "           0.96096,     0.96196,     0.96296,     0.96396,     0.96496,     0.96597,     0.96697,     0.96797,     0.96897,     0.96997,     0.97097,     0.97197,     0.97297,     0.97397,     0.97497,     0.97598,     0.97698,     0.97798,     0.97898,     0.97998,     0.98098,     0.98198,     0.98298,     0.98398,\n",
              "           0.98498,     0.98599,     0.98699,     0.98799,     0.98899,     0.98999,     0.99099,     0.99199,     0.99299,     0.99399,     0.99499,       0.996,       0.997,       0.998,       0.999,           1]), array([[   0.037157,    0.037157,     0.05486, ...,           1,           1,           1],\n",
              "       [     0.0283,      0.0283,    0.046814, ...,           1,           1,           1]]), 'Confidence', 'Precision'], [array([          0,    0.001001,    0.002002,    0.003003,    0.004004,    0.005005,    0.006006,    0.007007,    0.008008,    0.009009,     0.01001,    0.011011,    0.012012,    0.013013,    0.014014,    0.015015,    0.016016,    0.017017,    0.018018,    0.019019,     0.02002,    0.021021,    0.022022,    0.023023,\n",
              "          0.024024,    0.025025,    0.026026,    0.027027,    0.028028,    0.029029,     0.03003,    0.031031,    0.032032,    0.033033,    0.034034,    0.035035,    0.036036,    0.037037,    0.038038,    0.039039,     0.04004,    0.041041,    0.042042,    0.043043,    0.044044,    0.045045,    0.046046,    0.047047,\n",
              "          0.048048,    0.049049,     0.05005,    0.051051,    0.052052,    0.053053,    0.054054,    0.055055,    0.056056,    0.057057,    0.058058,    0.059059,     0.06006,    0.061061,    0.062062,    0.063063,    0.064064,    0.065065,    0.066066,    0.067067,    0.068068,    0.069069,     0.07007,    0.071071,\n",
              "          0.072072,    0.073073,    0.074074,    0.075075,    0.076076,    0.077077,    0.078078,    0.079079,     0.08008,    0.081081,    0.082082,    0.083083,    0.084084,    0.085085,    0.086086,    0.087087,    0.088088,    0.089089,     0.09009,    0.091091,    0.092092,    0.093093,    0.094094,    0.095095,\n",
              "          0.096096,    0.097097,    0.098098,    0.099099,      0.1001,      0.1011,      0.1021,      0.1031,      0.1041,     0.10511,     0.10611,     0.10711,     0.10811,     0.10911,     0.11011,     0.11111,     0.11211,     0.11311,     0.11411,     0.11512,     0.11612,     0.11712,     0.11812,     0.11912,\n",
              "           0.12012,     0.12112,     0.12212,     0.12312,     0.12412,     0.12513,     0.12613,     0.12713,     0.12813,     0.12913,     0.13013,     0.13113,     0.13213,     0.13313,     0.13413,     0.13514,     0.13614,     0.13714,     0.13814,     0.13914,     0.14014,     0.14114,     0.14214,     0.14314,\n",
              "           0.14414,     0.14515,     0.14615,     0.14715,     0.14815,     0.14915,     0.15015,     0.15115,     0.15215,     0.15315,     0.15415,     0.15516,     0.15616,     0.15716,     0.15816,     0.15916,     0.16016,     0.16116,     0.16216,     0.16316,     0.16416,     0.16517,     0.16617,     0.16717,\n",
              "           0.16817,     0.16917,     0.17017,     0.17117,     0.17217,     0.17317,     0.17417,     0.17518,     0.17618,     0.17718,     0.17818,     0.17918,     0.18018,     0.18118,     0.18218,     0.18318,     0.18418,     0.18519,     0.18619,     0.18719,     0.18819,     0.18919,     0.19019,     0.19119,\n",
              "           0.19219,     0.19319,     0.19419,      0.1952,      0.1962,      0.1972,      0.1982,      0.1992,      0.2002,      0.2012,      0.2022,      0.2032,      0.2042,     0.20521,     0.20621,     0.20721,     0.20821,     0.20921,     0.21021,     0.21121,     0.21221,     0.21321,     0.21421,     0.21522,\n",
              "           0.21622,     0.21722,     0.21822,     0.21922,     0.22022,     0.22122,     0.22222,     0.22322,     0.22422,     0.22523,     0.22623,     0.22723,     0.22823,     0.22923,     0.23023,     0.23123,     0.23223,     0.23323,     0.23423,     0.23524,     0.23624,     0.23724,     0.23824,     0.23924,\n",
              "           0.24024,     0.24124,     0.24224,     0.24324,     0.24424,     0.24525,     0.24625,     0.24725,     0.24825,     0.24925,     0.25025,     0.25125,     0.25225,     0.25325,     0.25425,     0.25526,     0.25626,     0.25726,     0.25826,     0.25926,     0.26026,     0.26126,     0.26226,     0.26326,\n",
              "           0.26426,     0.26527,     0.26627,     0.26727,     0.26827,     0.26927,     0.27027,     0.27127,     0.27227,     0.27327,     0.27427,     0.27528,     0.27628,     0.27728,     0.27828,     0.27928,     0.28028,     0.28128,     0.28228,     0.28328,     0.28428,     0.28529,     0.28629,     0.28729,\n",
              "           0.28829,     0.28929,     0.29029,     0.29129,     0.29229,     0.29329,     0.29429,      0.2953,      0.2963,      0.2973,      0.2983,      0.2993,      0.3003,      0.3013,      0.3023,      0.3033,      0.3043,     0.30531,     0.30631,     0.30731,     0.30831,     0.30931,     0.31031,     0.31131,\n",
              "           0.31231,     0.31331,     0.31431,     0.31532,     0.31632,     0.31732,     0.31832,     0.31932,     0.32032,     0.32132,     0.32232,     0.32332,     0.32432,     0.32533,     0.32633,     0.32733,     0.32833,     0.32933,     0.33033,     0.33133,     0.33233,     0.33333,     0.33433,     0.33534,\n",
              "           0.33634,     0.33734,     0.33834,     0.33934,     0.34034,     0.34134,     0.34234,     0.34334,     0.34434,     0.34535,     0.34635,     0.34735,     0.34835,     0.34935,     0.35035,     0.35135,     0.35235,     0.35335,     0.35435,     0.35536,     0.35636,     0.35736,     0.35836,     0.35936,\n",
              "           0.36036,     0.36136,     0.36236,     0.36336,     0.36436,     0.36537,     0.36637,     0.36737,     0.36837,     0.36937,     0.37037,     0.37137,     0.37237,     0.37337,     0.37437,     0.37538,     0.37638,     0.37738,     0.37838,     0.37938,     0.38038,     0.38138,     0.38238,     0.38338,\n",
              "           0.38438,     0.38539,     0.38639,     0.38739,     0.38839,     0.38939,     0.39039,     0.39139,     0.39239,     0.39339,     0.39439,      0.3954,      0.3964,      0.3974,      0.3984,      0.3994,      0.4004,      0.4014,      0.4024,      0.4034,      0.4044,     0.40541,     0.40641,     0.40741,\n",
              "           0.40841,     0.40941,     0.41041,     0.41141,     0.41241,     0.41341,     0.41441,     0.41542,     0.41642,     0.41742,     0.41842,     0.41942,     0.42042,     0.42142,     0.42242,     0.42342,     0.42442,     0.42543,     0.42643,     0.42743,     0.42843,     0.42943,     0.43043,     0.43143,\n",
              "           0.43243,     0.43343,     0.43443,     0.43544,     0.43644,     0.43744,     0.43844,     0.43944,     0.44044,     0.44144,     0.44244,     0.44344,     0.44444,     0.44545,     0.44645,     0.44745,     0.44845,     0.44945,     0.45045,     0.45145,     0.45245,     0.45345,     0.45445,     0.45546,\n",
              "           0.45646,     0.45746,     0.45846,     0.45946,     0.46046,     0.46146,     0.46246,     0.46346,     0.46446,     0.46547,     0.46647,     0.46747,     0.46847,     0.46947,     0.47047,     0.47147,     0.47247,     0.47347,     0.47447,     0.47548,     0.47648,     0.47748,     0.47848,     0.47948,\n",
              "           0.48048,     0.48148,     0.48248,     0.48348,     0.48448,     0.48549,     0.48649,     0.48749,     0.48849,     0.48949,     0.49049,     0.49149,     0.49249,     0.49349,     0.49449,      0.4955,      0.4965,      0.4975,      0.4985,      0.4995,      0.5005,      0.5015,      0.5025,      0.5035,\n",
              "            0.5045,     0.50551,     0.50651,     0.50751,     0.50851,     0.50951,     0.51051,     0.51151,     0.51251,     0.51351,     0.51451,     0.51552,     0.51652,     0.51752,     0.51852,     0.51952,     0.52052,     0.52152,     0.52252,     0.52352,     0.52452,     0.52553,     0.52653,     0.52753,\n",
              "           0.52853,     0.52953,     0.53053,     0.53153,     0.53253,     0.53353,     0.53453,     0.53554,     0.53654,     0.53754,     0.53854,     0.53954,     0.54054,     0.54154,     0.54254,     0.54354,     0.54454,     0.54555,     0.54655,     0.54755,     0.54855,     0.54955,     0.55055,     0.55155,\n",
              "           0.55255,     0.55355,     0.55455,     0.55556,     0.55656,     0.55756,     0.55856,     0.55956,     0.56056,     0.56156,     0.56256,     0.56356,     0.56456,     0.56557,     0.56657,     0.56757,     0.56857,     0.56957,     0.57057,     0.57157,     0.57257,     0.57357,     0.57457,     0.57558,\n",
              "           0.57658,     0.57758,     0.57858,     0.57958,     0.58058,     0.58158,     0.58258,     0.58358,     0.58458,     0.58559,     0.58659,     0.58759,     0.58859,     0.58959,     0.59059,     0.59159,     0.59259,     0.59359,     0.59459,      0.5956,      0.5966,      0.5976,      0.5986,      0.5996,\n",
              "            0.6006,      0.6016,      0.6026,      0.6036,      0.6046,     0.60561,     0.60661,     0.60761,     0.60861,     0.60961,     0.61061,     0.61161,     0.61261,     0.61361,     0.61461,     0.61562,     0.61662,     0.61762,     0.61862,     0.61962,     0.62062,     0.62162,     0.62262,     0.62362,\n",
              "           0.62462,     0.62563,     0.62663,     0.62763,     0.62863,     0.62963,     0.63063,     0.63163,     0.63263,     0.63363,     0.63463,     0.63564,     0.63664,     0.63764,     0.63864,     0.63964,     0.64064,     0.64164,     0.64264,     0.64364,     0.64464,     0.64565,     0.64665,     0.64765,\n",
              "           0.64865,     0.64965,     0.65065,     0.65165,     0.65265,     0.65365,     0.65465,     0.65566,     0.65666,     0.65766,     0.65866,     0.65966,     0.66066,     0.66166,     0.66266,     0.66366,     0.66466,     0.66567,     0.66667,     0.66767,     0.66867,     0.66967,     0.67067,     0.67167,\n",
              "           0.67267,     0.67367,     0.67467,     0.67568,     0.67668,     0.67768,     0.67868,     0.67968,     0.68068,     0.68168,     0.68268,     0.68368,     0.68468,     0.68569,     0.68669,     0.68769,     0.68869,     0.68969,     0.69069,     0.69169,     0.69269,     0.69369,     0.69469,      0.6957,\n",
              "            0.6967,      0.6977,      0.6987,      0.6997,      0.7007,      0.7017,      0.7027,      0.7037,      0.7047,     0.70571,     0.70671,     0.70771,     0.70871,     0.70971,     0.71071,     0.71171,     0.71271,     0.71371,     0.71471,     0.71572,     0.71672,     0.71772,     0.71872,     0.71972,\n",
              "           0.72072,     0.72172,     0.72272,     0.72372,     0.72472,     0.72573,     0.72673,     0.72773,     0.72873,     0.72973,     0.73073,     0.73173,     0.73273,     0.73373,     0.73473,     0.73574,     0.73674,     0.73774,     0.73874,     0.73974,     0.74074,     0.74174,     0.74274,     0.74374,\n",
              "           0.74474,     0.74575,     0.74675,     0.74775,     0.74875,     0.74975,     0.75075,     0.75175,     0.75275,     0.75375,     0.75475,     0.75576,     0.75676,     0.75776,     0.75876,     0.75976,     0.76076,     0.76176,     0.76276,     0.76376,     0.76476,     0.76577,     0.76677,     0.76777,\n",
              "           0.76877,     0.76977,     0.77077,     0.77177,     0.77277,     0.77377,     0.77477,     0.77578,     0.77678,     0.77778,     0.77878,     0.77978,     0.78078,     0.78178,     0.78278,     0.78378,     0.78478,     0.78579,     0.78679,     0.78779,     0.78879,     0.78979,     0.79079,     0.79179,\n",
              "           0.79279,     0.79379,     0.79479,      0.7958,      0.7968,      0.7978,      0.7988,      0.7998,      0.8008,      0.8018,      0.8028,      0.8038,      0.8048,     0.80581,     0.80681,     0.80781,     0.80881,     0.80981,     0.81081,     0.81181,     0.81281,     0.81381,     0.81481,     0.81582,\n",
              "           0.81682,     0.81782,     0.81882,     0.81982,     0.82082,     0.82182,     0.82282,     0.82382,     0.82482,     0.82583,     0.82683,     0.82783,     0.82883,     0.82983,     0.83083,     0.83183,     0.83283,     0.83383,     0.83483,     0.83584,     0.83684,     0.83784,     0.83884,     0.83984,\n",
              "           0.84084,     0.84184,     0.84284,     0.84384,     0.84484,     0.84585,     0.84685,     0.84785,     0.84885,     0.84985,     0.85085,     0.85185,     0.85285,     0.85385,     0.85485,     0.85586,     0.85686,     0.85786,     0.85886,     0.85986,     0.86086,     0.86186,     0.86286,     0.86386,\n",
              "           0.86486,     0.86587,     0.86687,     0.86787,     0.86887,     0.86987,     0.87087,     0.87187,     0.87287,     0.87387,     0.87487,     0.87588,     0.87688,     0.87788,     0.87888,     0.87988,     0.88088,     0.88188,     0.88288,     0.88388,     0.88488,     0.88589,     0.88689,     0.88789,\n",
              "           0.88889,     0.88989,     0.89089,     0.89189,     0.89289,     0.89389,     0.89489,      0.8959,      0.8969,      0.8979,      0.8989,      0.8999,      0.9009,      0.9019,      0.9029,      0.9039,      0.9049,     0.90591,     0.90691,     0.90791,     0.90891,     0.90991,     0.91091,     0.91191,\n",
              "           0.91291,     0.91391,     0.91491,     0.91592,     0.91692,     0.91792,     0.91892,     0.91992,     0.92092,     0.92192,     0.92292,     0.92392,     0.92492,     0.92593,     0.92693,     0.92793,     0.92893,     0.92993,     0.93093,     0.93193,     0.93293,     0.93393,     0.93493,     0.93594,\n",
              "           0.93694,     0.93794,     0.93894,     0.93994,     0.94094,     0.94194,     0.94294,     0.94394,     0.94494,     0.94595,     0.94695,     0.94795,     0.94895,     0.94995,     0.95095,     0.95195,     0.95295,     0.95395,     0.95495,     0.95596,     0.95696,     0.95796,     0.95896,     0.95996,\n",
              "           0.96096,     0.96196,     0.96296,     0.96396,     0.96496,     0.96597,     0.96697,     0.96797,     0.96897,     0.96997,     0.97097,     0.97197,     0.97297,     0.97397,     0.97497,     0.97598,     0.97698,     0.97798,     0.97898,     0.97998,     0.98098,     0.98198,     0.98298,     0.98398,\n",
              "           0.98498,     0.98599,     0.98699,     0.98799,     0.98899,     0.98999,     0.99099,     0.99199,     0.99299,     0.99399,     0.99499,       0.996,       0.997,       0.998,       0.999,           1]), array([[       0.92,        0.92,        0.88, ...,           0,           0,           0],\n",
              "       [     0.9187,      0.9187,     0.90244, ...,           0,           0,           0]]), 'Confidence', 'Recall']]\n",
              "fitness: 0.2539712075645448\n",
              "keys: ['metrics/precision(B)', 'metrics/recall(B)', 'metrics/mAP50(B)', 'metrics/mAP50-95(B)']\n",
              "maps: array([     0.2248,     0.22055])\n",
              "names: {0: 'fire', 1: 'smoke'}\n",
              "plot: True\n",
              "results_dict: {'metrics/precision(B)': 0.6262404228434412, 'metrics/recall(B)': 0.45583739837398374, 'metrics/mAP50(B)': 0.5356473980377418, 'metrics/mAP50-95(B)': 0.22267385306752288, 'fitness': 0.2539712075645448}\n",
              "save_dir: PosixPath('runs/detect/train3')\n",
              "speed: {'preprocess': 0.4793191920815175, 'inference': 3.4902757302874083, 'loss': 0.00041895519102239884, 'postprocess': 5.25061519159747}\n",
              "task: 'detect'"
            ]
          },
          "metadata": {},
          "execution_count": 13
        }
      ]
    },
    {
      "cell_type": "code",
      "source": [
        "from ultralytics import YOLO\n",
        "import cv2\n",
        "\n",
        "# Load the trained YOLOv8 model\n",
        "model = YOLO(\"/content/runs/detect/train2/weights/best.pt\")  # Replace \"best.pt\" with your trained model's filename\n",
        "\n",
        "# Test on an image\n",
        "image_path = \"/content/test/images/image_888_jpg.rf.c978b58a18b2a72a2f43c04d7a9a01a4.jpg\"  # Replace with yourst image p teath\n",
        "results = model(image_path, show=True)"
      ],
      "metadata": {
        "id": "Lh7krqIYdQfA",
        "colab": {
          "base_uri": "https://localhost:8080/"
        },
        "outputId": "16185a28-2da0-4782-a9ac-ee0f502d5f92"
      },
      "execution_count": 12,
      "outputs": [
        {
          "output_type": "stream",
          "name": "stdout",
          "text": [
            "WARNING ⚠️ Environment does not support cv2.imshow() or PIL Image.show()\n",
            "\n",
            "\n",
            "image 1/1 /content/test/images/image_888_jpg.rf.c978b58a18b2a72a2f43c04d7a9a01a4.jpg: 640x640 1 smoke, 7.4ms\n",
            "Speed: 2.0ms preprocess, 7.4ms inference, 1.3ms postprocess per image at shape (1, 3, 640, 640)\n"
          ]
        }
      ]
    },
    {
      "cell_type": "code",
      "source": [
        "import zipfile\n",
        "import os\n",
        "\n",
        "def zip_directory(folder_path, zip_name):\n",
        "    with zipfile.ZipFile(zip_name, 'w', zipfile.ZIP_DEFLATED) as zipf:\n",
        "        for root, dirs, files in os.walk(folder_path):\n",
        "            for file in files:\n",
        "                zipf.write(os.path.join(root, file),\n",
        "                           os.path.relpath(os.path.join(root, file), folder_path))\n",
        "\n",
        "zip_directory('/content/runs', 'runs.zip')\n"
      ],
      "metadata": {
        "id": "K30HSYX8b0X3"
      },
      "execution_count": 15,
      "outputs": []
    },
    {
      "cell_type": "code",
      "source": [],
      "metadata": {
        "id": "gmnmDjBPb35v"
      },
      "execution_count": null,
      "outputs": []
    }
  ]
}